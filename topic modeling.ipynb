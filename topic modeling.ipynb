{
  "cells": [
    {
      "cell_type": "code",
      "execution_count": 1,
      "id": "e9090308",
      "metadata": {
        "colab": {
          "base_uri": "https://localhost:8080/"
        },
        "id": "e9090308",
        "outputId": "c2192019-ae04-416f-dcab-aed89b5c6514"
      },
      "outputs": [
        {
          "name": "stderr",
          "output_type": "stream",
          "text": [
            "/usr/local/lib/python3.9/dist-packages/torch/cuda/__init__.py:497: UserWarning: Can't initialize NVML\n",
            "  warnings.warn(\"Can't initialize NVML\")\n"
          ]
        }
      ],
      "source": [
        "import pandas as pd\n",
        "import spacy\n",
        "import numpy as np\n",
        "nlp_parser = spacy.load('en_core_web_sm', disable=[\"attribute_ruler\", \"tagger\", \"lemmatizer\", \"ner\"])\n",
        "nlp = spacy.load('en_core_web_sm')\n",
        "spacy_stopwords = nlp.Defaults.stop_words"
      ]
    },
    {
      "cell_type": "code",
      "execution_count": null,
      "id": "y7lNmACtyhj7",
      "metadata": {
        "colab": {
          "base_uri": "https://localhost:8080/"
        },
        "id": "y7lNmACtyhj7",
        "outputId": "045b9c9f-2d02-4f94-dd9e-3ef10aacc825"
      },
      "outputs": [
        {
          "name": "stdout",
          "output_type": "stream",
          "text": [
            "Looking in indexes: https://pypi.org/simple, https://us-python.pkg.dev/colab-wheels/public/simple/\n",
            "Collecting contractions\n",
            "  Downloading contractions-0.1.73-py2.py3-none-any.whl (8.7 kB)\n",
            "Collecting textsearch>=0.0.21\n",
            "  Downloading textsearch-0.0.24-py2.py3-none-any.whl (7.6 kB)\n",
            "Collecting anyascii\n",
            "  Downloading anyascii-0.3.2-py3-none-any.whl (289 kB)\n",
            "\u001b[2K     \u001b[90m━━━━━━━━━━━━━━━━━━━━━━━━━━━━━━━━━━━━━━━\u001b[0m \u001b[32m289.9/289.9 KB\u001b[0m \u001b[31m5.9 MB/s\u001b[0m eta \u001b[36m0:00:00\u001b[0m\n",
            "\u001b[?25hCollecting pyahocorasick\n",
            "  Downloading pyahocorasick-2.0.0-cp39-cp39-manylinux_2_5_x86_64.manylinux1_x86_64.whl (103 kB)\n",
            "\u001b[2K     \u001b[90m━━━━━━━━━━━━━━━━━━━━━━━━━━━━━━━━━━━━━━\u001b[0m \u001b[32m103.2/103.2 KB\u001b[0m \u001b[31m11.4 MB/s\u001b[0m eta \u001b[36m0:00:00\u001b[0m\n",
            "\u001b[?25hInstalling collected packages: pyahocorasick, anyascii, textsearch, contractions\n",
            "Successfully installed anyascii-0.3.2 contractions-0.1.73 pyahocorasick-2.0.0 textsearch-0.0.24\n"
          ]
        }
      ],
      "source": [
        "!pip install contractions"
      ]
    },
    {
      "cell_type": "code",
      "execution_count": null,
      "id": "ff86a300",
      "metadata": {
        "colab": {
          "base_uri": "https://localhost:8080/",
          "height": 35
        },
        "id": "ff86a300",
        "outputId": "3523d55f-1c78-4593-c218-45fec2ab72f7"
      },
      "outputs": [
        {
          "data": {
            "application/vnd.google.colaboratory.intrinsic+json": {
              "type": "string"
            },
            "text/plain": [
              "'have not, are not'"
            ]
          },
          "execution_count": 5,
          "metadata": {},
          "output_type": "execute_result"
        }
      ],
      "source": [
        "# read the ULR for contractions https://www.educative.io/answers/how-to-deal-with-contractions-in-nlp\n",
        "# this package helps to handle words like aren't, wasn't, ...etc.\n",
        "import contractions\n",
        "\n",
        "contractions.fix(\"haven't, aren't\")\n",
        "# We use contractions.fix() to expand the shortened words, and append them to the expanded_text in a loop"
      ]
    },
    {
      "cell_type": "code",
      "execution_count": null,
      "id": "aced968a",
      "metadata": {
        "id": "aced968a"
      },
      "outputs": [],
      "source": [
        "def preprocess_sent(text_string):\n",
        "    \n",
        "    # text_string which may contain multiple sentences\n",
        "    \n",
        "    # detect sentences using nlp_parser\n",
        "    sents = []\n",
        "    doc = nlp_parser(text_string)\n",
        "    for sent in doc.sents:\n",
        "        \n",
        "        # lowercase sentence and resolve contractions like ain't, don't cant\n",
        "        sent = contractions.fix(sent.text)\n",
        "        sent = sent.lower()\n",
        "        sents.append(sent)\n",
        "    \n",
        "    # preprocess each sentence as a batch\n",
        "    docs = nlp.pipe(sents)\n",
        "    new_sents = ' '\n",
        "    \n",
        "    for doc in docs:\n",
        "    \n",
        "        # lemmatise sent and filter out punctuations\n",
        "        sent = ' '.join([token.lemma_ for token in doc if not token.is_punct])\n",
        "\n",
        "        new_sents =  new_sents + sent + ' '\n",
        "        \n",
        "    \n",
        "    if new_sents == '  ':\n",
        "        return np.nan\n",
        "        \n",
        "    return new_sents\n",
        "\n",
        "def remove_stopwords(text_string):    \n",
        "    # remove stopwords\n",
        "    sent = ' '.join([word for word in text_string.split() if not word in spacy_stopwords])\n",
        "    return sent\n",
        "    \n",
        "def remove_stopwords_keepnegpos(text_string):\n",
        "    # remove stopwords\n",
        "    # I kept words in positive and negative set\n",
        "    sent = ' '.join([word for word in text_string.split() if (word not in spacy_stopwords) or (word in neg_words) or (word in pos_words)])\n",
        "    return sent"
      ]
    },
    {
      "cell_type": "code",
      "execution_count": null,
      "id": "ae2a9ada",
      "metadata": {
        "id": "ae2a9ada"
      },
      "outputs": [],
      "source": [
        "# remove duplicated rows after preprocessing\n",
        "df_neg_words = pd.read_csv('LM2018N.csv', header=None).iloc[:,0].apply(preprocess_sent)\n",
        "df_neg_words = df_neg_words.drop_duplicates().dropna()\n",
        "neg_words = df_neg_words.values.tolist()\n",
        "df_pos_words = pd.read_csv('LM2018P.csv', header=None).iloc[:,0].apply(preprocess_sent)\n",
        "# remove duplicated rows after preprocessing\n",
        "df_pos_words = df_pos_words.drop_duplicates().dropna() \n",
        "pos_words = df_pos_words.values.tolist()"
      ]
    },
    {
      "cell_type": "markdown",
      "id": "40e527a9",
      "metadata": {
        "id": "40e527a9"
      },
      "source": [
        "## Load and preprocess text"
      ]
    },
    {
      "cell_type": "code",
      "execution_count": null,
      "id": "a111c6cd",
      "metadata": {
        "id": "a111c6cd",
        "scrolled": false
      },
      "outputs": [],
      "source": [
        "df_zacks = pd.read_csv('zacks_arguments.csv', encoding='latin1')"
      ]
    },
    {
      "cell_type": "markdown",
      "id": "06e02036",
      "metadata": {
        "id": "06e02036"
      },
      "source": [
        "#### Create a column with the text processed but still has stopwords"
      ]
    },
    {
      "cell_type": "code",
      "execution_count": null,
      "id": "e1358c65",
      "metadata": {
        "colab": {
          "base_uri": "https://localhost:8080/"
        },
        "id": "e1358c65",
        "outputId": "0a0dbcae-6cd0-4c03-baff-270521a01e2a"
      },
      "outputs": [
        {
          "name": "stdout",
          "output_type": "stream",
          "text": [
            "CPU times: user 55.8 s, sys: 151 ms, total: 55.9 s\n",
            "Wall time: 56.4 s\n"
          ]
        }
      ],
      "source": [
        "%time df_zacks['arguments_clean_processed_w_stopwords'] =  df_zacks['arguments_clean'].apply(preprocess_sent)"
      ]
    },
    {
      "cell_type": "markdown",
      "id": "6c72c078",
      "metadata": {
        "id": "6c72c078"
      },
      "source": [
        "#### Create another column with the text processed and removing stopwords"
      ]
    },
    {
      "cell_type": "code",
      "execution_count": null,
      "id": "2404e882",
      "metadata": {
        "colab": {
          "base_uri": "https://localhost:8080/"
        },
        "id": "2404e882",
        "outputId": "449e861e-60f5-4aaf-a9d6-b3101a9330fd"
      },
      "outputs": [
        {
          "name": "stdout",
          "output_type": "stream",
          "text": [
            "CPU times: user 1.92 s, sys: 4.73 ms, total: 1.92 s\n",
            "Wall time: 1.95 s\n"
          ]
        }
      ],
      "source": [
        "%time df_zacks['arguments_clean_processed_no_stopwords'] =  df_zacks['arguments_clean_processed_w_stopwords'].apply(remove_stopwords_keepnegpos)"
      ]
    },
    {
      "cell_type": "code",
      "execution_count": null,
      "id": "66c15531",
      "metadata": {
        "colab": {
          "base_uri": "https://localhost:8080/",
          "height": 887
        },
        "id": "66c15531",
        "outputId": "ff4420fa-0cd7-4520-90ea-28c0f86a73c3",
        "scrolled": true
      },
      "outputs": [
        {
          "data": {
            "text/html": [
              "\n",
              "  <div id=\"df-20dd72aa-8719-4bb4-9ad7-ae1655d16b60\">\n",
              "    <div class=\"colab-df-container\">\n",
              "      <div>\n",
              "<style scoped>\n",
              "    .dataframe tbody tr th:only-of-type {\n",
              "        vertical-align: middle;\n",
              "    }\n",
              "\n",
              "    .dataframe tbody tr th {\n",
              "        vertical-align: top;\n",
              "    }\n",
              "\n",
              "    .dataframe thead th {\n",
              "        text-align: right;\n",
              "    }\n",
              "</style>\n",
              "<table border=\"1\" class=\"dataframe\">\n",
              "  <thead>\n",
              "    <tr style=\"text-align: right;\">\n",
              "      <th></th>\n",
              "      <th>ID</th>\n",
              "      <th>report_name</th>\n",
              "      <th>ticker</th>\n",
              "      <th>report_date</th>\n",
              "      <th>arguments_clean</th>\n",
              "      <th>label</th>\n",
              "      <th>arguments_clean_processed_w_stopwords</th>\n",
              "      <th>arguments_clean_processed_no_stopwords</th>\n",
              "    </tr>\n",
              "  </thead>\n",
              "  <tbody>\n",
              "    <tr>\n",
              "      <th>0</th>\n",
              "      <td>1</td>\n",
              "      <td>Ambarella, Inc._Attachment1(2).pdf</td>\n",
              "      <td>AMBA</td>\n",
              "      <td>1/30/2018</td>\n",
              "      <td>Ambarella is well known for its market leading...</td>\n",
              "      <td>sell</td>\n",
              "      <td>ambarella be well know for its market lead hi...</td>\n",
              "      <td>ambarella know market lead high performance vi...</td>\n",
              "    </tr>\n",
              "    <tr>\n",
              "      <th>1</th>\n",
              "      <td>2</td>\n",
              "      <td>Ambarella, Inc._Attachment1(2).pdf</td>\n",
              "      <td>AMBA</td>\n",
              "      <td>6/11/2018</td>\n",
              "      <td>Ambarella is well known for its market leading...</td>\n",
              "      <td>sell</td>\n",
              "      <td>ambarella be well know for its market lead hi...</td>\n",
              "      <td>ambarella know market lead high performance vi...</td>\n",
              "    </tr>\n",
              "    <tr>\n",
              "      <th>2</th>\n",
              "      <td>3</td>\n",
              "      <td>Ambarella, Inc._Attachment1(3).pdf</td>\n",
              "      <td>AMBA</td>\n",
              "      <td>10/30/2018</td>\n",
              "      <td>Ambarella is making steady progress on the dev...</td>\n",
              "      <td>buy</td>\n",
              "      <td>ambarella be make steady progress on the deve...</td>\n",
              "      <td>ambarella steady progress development delivery...</td>\n",
              "    </tr>\n",
              "    <tr>\n",
              "      <th>3</th>\n",
              "      <td>4</td>\n",
              "      <td>Ambarella, Inc._Attachment1(3).pdf</td>\n",
              "      <td>AMBA</td>\n",
              "      <td>11/26/2020</td>\n",
              "      <td>Ambarella is making steady progress on the dev...</td>\n",
              "      <td>sell</td>\n",
              "      <td>ambarella be make steady progress on the deve...</td>\n",
              "      <td>ambarella steady progress development delivery...</td>\n",
              "    </tr>\n",
              "    <tr>\n",
              "      <th>4</th>\n",
              "      <td>5</td>\n",
              "      <td>Ambarella, Inc._Attachment1(4).pdf</td>\n",
              "      <td>AMBA</td>\n",
              "      <td>12/3/2018</td>\n",
              "      <td>Ambarella is making steady progress on the dev...</td>\n",
              "      <td>buy</td>\n",
              "      <td>ambarella be make steady progress on the deve...</td>\n",
              "      <td>ambarella steady progress development delivery...</td>\n",
              "    </tr>\n",
              "    <tr>\n",
              "      <th>...</th>\n",
              "      <td>...</td>\n",
              "      <td>...</td>\n",
              "      <td>...</td>\n",
              "      <td>...</td>\n",
              "      <td>...</td>\n",
              "      <td>...</td>\n",
              "      <td>...</td>\n",
              "      <td>...</td>\n",
              "    </tr>\n",
              "    <tr>\n",
              "      <th>438</th>\n",
              "      <td>439</td>\n",
              "      <td>Yelp Inc._Attachment1.pdf</td>\n",
              "      <td>YELP</td>\n",
              "      <td>11/17/2020</td>\n",
              "      <td>Yelp is benefiting from increasing Advertising...</td>\n",
              "      <td>buy</td>\n",
              "      <td>yelp be benefit from increase advertising rev...</td>\n",
              "      <td>yelp benefit increase advertising revenue driv...</td>\n",
              "    </tr>\n",
              "    <tr>\n",
              "      <th>439</th>\n",
              "      <td>440</td>\n",
              "      <td>Yelp Inc_Attachment1(5).pdf</td>\n",
              "      <td>YELP</td>\n",
              "      <td>7/8/2020</td>\n",
              "      <td>Yelp is benefiting from increasing Advertising...</td>\n",
              "      <td>sell</td>\n",
              "      <td>yelp be benefit from increase advertising rev...</td>\n",
              "      <td>yelp benefit increase advertising revenue driv...</td>\n",
              "    </tr>\n",
              "    <tr>\n",
              "      <th>440</th>\n",
              "      <td>441</td>\n",
              "      <td>Yelp Inc_Attachment1.pdf</td>\n",
              "      <td>YELP</td>\n",
              "      <td>10/12/2020</td>\n",
              "      <td>Yelp is benefiting from increasing Advertising...</td>\n",
              "      <td>buy</td>\n",
              "      <td>yelp be benefit from increase advertising rev...</td>\n",
              "      <td>yelp benefit increase advertising revenue driv...</td>\n",
              "    </tr>\n",
              "    <tr>\n",
              "      <th>441</th>\n",
              "      <td>442</td>\n",
              "      <td>Zynga Inc_Attachment1(5).pdf</td>\n",
              "      <td>ZNGA</td>\n",
              "      <td>8/7/2020</td>\n",
              "      <td>Zynga??s growth is primarily driven by streng...</td>\n",
              "      <td>sell</td>\n",
              "      <td>zynga??s growth be primarily drive by streng...</td>\n",
              "      <td>zynga??s growth primarily drive strength dive...</td>\n",
              "    </tr>\n",
              "    <tr>\n",
              "      <th>442</th>\n",
              "      <td>443</td>\n",
              "      <td>Zynga Inc_Attachment1.pdf</td>\n",
              "      <td>ZNGA</td>\n",
              "      <td>11/6/2020</td>\n",
              "      <td>Zynga??s growth is primarily driven by streng...</td>\n",
              "      <td>buy</td>\n",
              "      <td>zynga??s growth be primarily drive by streng...</td>\n",
              "      <td>zynga??s growth primarily drive strength dive...</td>\n",
              "    </tr>\n",
              "  </tbody>\n",
              "</table>\n",
              "<p>443 rows × 8 columns</p>\n",
              "</div>\n",
              "      <button class=\"colab-df-convert\" onclick=\"convertToInteractive('df-20dd72aa-8719-4bb4-9ad7-ae1655d16b60')\"\n",
              "              title=\"Convert this dataframe to an interactive table.\"\n",
              "              style=\"display:none;\">\n",
              "        \n",
              "  <svg xmlns=\"http://www.w3.org/2000/svg\" height=\"24px\"viewBox=\"0 0 24 24\"\n",
              "       width=\"24px\">\n",
              "    <path d=\"M0 0h24v24H0V0z\" fill=\"none\"/>\n",
              "    <path d=\"M18.56 5.44l.94 2.06.94-2.06 2.06-.94-2.06-.94-.94-2.06-.94 2.06-2.06.94zm-11 1L8.5 8.5l.94-2.06 2.06-.94-2.06-.94L8.5 2.5l-.94 2.06-2.06.94zm10 10l.94 2.06.94-2.06 2.06-.94-2.06-.94-.94-2.06-.94 2.06-2.06.94z\"/><path d=\"M17.41 7.96l-1.37-1.37c-.4-.4-.92-.59-1.43-.59-.52 0-1.04.2-1.43.59L10.3 9.45l-7.72 7.72c-.78.78-.78 2.05 0 2.83L4 21.41c.39.39.9.59 1.41.59.51 0 1.02-.2 1.41-.59l7.78-7.78 2.81-2.81c.8-.78.8-2.07 0-2.86zM5.41 20L4 18.59l7.72-7.72 1.47 1.35L5.41 20z\"/>\n",
              "  </svg>\n",
              "      </button>\n",
              "      \n",
              "  <style>\n",
              "    .colab-df-container {\n",
              "      display:flex;\n",
              "      flex-wrap:wrap;\n",
              "      gap: 12px;\n",
              "    }\n",
              "\n",
              "    .colab-df-convert {\n",
              "      background-color: #E8F0FE;\n",
              "      border: none;\n",
              "      border-radius: 50%;\n",
              "      cursor: pointer;\n",
              "      display: none;\n",
              "      fill: #1967D2;\n",
              "      height: 32px;\n",
              "      padding: 0 0 0 0;\n",
              "      width: 32px;\n",
              "    }\n",
              "\n",
              "    .colab-df-convert:hover {\n",
              "      background-color: #E2EBFA;\n",
              "      box-shadow: 0px 1px 2px rgba(60, 64, 67, 0.3), 0px 1px 3px 1px rgba(60, 64, 67, 0.15);\n",
              "      fill: #174EA6;\n",
              "    }\n",
              "\n",
              "    [theme=dark] .colab-df-convert {\n",
              "      background-color: #3B4455;\n",
              "      fill: #D2E3FC;\n",
              "    }\n",
              "\n",
              "    [theme=dark] .colab-df-convert:hover {\n",
              "      background-color: #434B5C;\n",
              "      box-shadow: 0px 1px 3px 1px rgba(0, 0, 0, 0.15);\n",
              "      filter: drop-shadow(0px 1px 2px rgba(0, 0, 0, 0.3));\n",
              "      fill: #FFFFFF;\n",
              "    }\n",
              "  </style>\n",
              "\n",
              "      <script>\n",
              "        const buttonEl =\n",
              "          document.querySelector('#df-20dd72aa-8719-4bb4-9ad7-ae1655d16b60 button.colab-df-convert');\n",
              "        buttonEl.style.display =\n",
              "          google.colab.kernel.accessAllowed ? 'block' : 'none';\n",
              "\n",
              "        async function convertToInteractive(key) {\n",
              "          const element = document.querySelector('#df-20dd72aa-8719-4bb4-9ad7-ae1655d16b60');\n",
              "          const dataTable =\n",
              "            await google.colab.kernel.invokeFunction('convertToInteractive',\n",
              "                                                     [key], {});\n",
              "          if (!dataTable) return;\n",
              "\n",
              "          const docLinkHtml = 'Like what you see? Visit the ' +\n",
              "            '<a target=\"_blank\" href=https://colab.research.google.com/notebooks/data_table.ipynb>data table notebook</a>'\n",
              "            + ' to learn more about interactive tables.';\n",
              "          element.innerHTML = '';\n",
              "          dataTable['output_type'] = 'display_data';\n",
              "          await google.colab.output.renderOutput(dataTable, element);\n",
              "          const docLink = document.createElement('div');\n",
              "          docLink.innerHTML = docLinkHtml;\n",
              "          element.appendChild(docLink);\n",
              "        }\n",
              "      </script>\n",
              "    </div>\n",
              "  </div>\n",
              "  "
            ],
            "text/plain": [
              "      ID                         report_name ticker report_date  \\\n",
              "0      1  Ambarella, Inc._Attachment1(2).pdf   AMBA   1/30/2018   \n",
              "1      2  Ambarella, Inc._Attachment1(2).pdf   AMBA   6/11/2018   \n",
              "2      3  Ambarella, Inc._Attachment1(3).pdf   AMBA  10/30/2018   \n",
              "3      4  Ambarella, Inc._Attachment1(3).pdf   AMBA  11/26/2020   \n",
              "4      5  Ambarella, Inc._Attachment1(4).pdf   AMBA   12/3/2018   \n",
              "..   ...                                 ...    ...         ...   \n",
              "438  439           Yelp Inc._Attachment1.pdf   YELP  11/17/2020   \n",
              "439  440         Yelp Inc_Attachment1(5).pdf   YELP    7/8/2020   \n",
              "440  441            Yelp Inc_Attachment1.pdf   YELP  10/12/2020   \n",
              "441  442        Zynga Inc_Attachment1(5).pdf   ZNGA    8/7/2020   \n",
              "442  443           Zynga Inc_Attachment1.pdf   ZNGA   11/6/2020   \n",
              "\n",
              "                                       arguments_clean label  \\\n",
              "0    Ambarella is well known for its market leading...  sell   \n",
              "1    Ambarella is well known for its market leading...  sell   \n",
              "2    Ambarella is making steady progress on the dev...   buy   \n",
              "3    Ambarella is making steady progress on the dev...  sell   \n",
              "4    Ambarella is making steady progress on the dev...   buy   \n",
              "..                                                 ...   ...   \n",
              "438  Yelp is benefiting from increasing Advertising...   buy   \n",
              "439  Yelp is benefiting from increasing Advertising...  sell   \n",
              "440  Yelp is benefiting from increasing Advertising...   buy   \n",
              "441  Zynga??s growth is primarily driven by streng...  sell   \n",
              "442  Zynga??s growth is primarily driven by streng...   buy   \n",
              "\n",
              "                 arguments_clean_processed_w_stopwords  \\\n",
              "0     ambarella be well know for its market lead hi...   \n",
              "1     ambarella be well know for its market lead hi...   \n",
              "2     ambarella be make steady progress on the deve...   \n",
              "3     ambarella be make steady progress on the deve...   \n",
              "4     ambarella be make steady progress on the deve...   \n",
              "..                                                 ...   \n",
              "438   yelp be benefit from increase advertising rev...   \n",
              "439   yelp be benefit from increase advertising rev...   \n",
              "440   yelp be benefit from increase advertising rev...   \n",
              "441   zynga??s growth be primarily drive by streng...   \n",
              "442   zynga??s growth be primarily drive by streng...   \n",
              "\n",
              "                arguments_clean_processed_no_stopwords  \n",
              "0    ambarella know market lead high performance vi...  \n",
              "1    ambarella know market lead high performance vi...  \n",
              "2    ambarella steady progress development delivery...  \n",
              "3    ambarella steady progress development delivery...  \n",
              "4    ambarella steady progress development delivery...  \n",
              "..                                                 ...  \n",
              "438  yelp benefit increase advertising revenue driv...  \n",
              "439  yelp benefit increase advertising revenue driv...  \n",
              "440  yelp benefit increase advertising revenue driv...  \n",
              "441  zynga??s growth primarily drive strength dive...  \n",
              "442  zynga??s growth primarily drive strength dive...  \n",
              "\n",
              "[443 rows x 8 columns]"
            ]
          },
          "execution_count": 178,
          "metadata": {},
          "output_type": "execute_result"
        }
      ],
      "source": [
        "df_zacks"
      ]
    },
    {
      "cell_type": "markdown",
      "id": "b668b51a",
      "metadata": {
        "id": "b668b51a"
      },
      "source": [
        "## Compute sentiment scores using dictionary approach"
      ]
    },
    {
      "cell_type": "markdown",
      "id": "926cb907",
      "metadata": {
        "id": "926cb907"
      },
      "source": [
        "#### 3 formulas with Lemmatization, without negate:\n",
        "#### (1) P/D.\n",
        "#### (2) P/(P+N+1).\n",
        "#### (3) (P-N)/(P+N+1).\n",
        "#### D is the number of words in your document, P is the number of positive words, N is the number of Negative words."
      ]
    },
    {
      "cell_type": "code",
      "execution_count": null,
      "id": "0f0a6f24",
      "metadata": {
        "id": "0f0a6f24"
      },
      "outputs": [],
      "source": [
        "# construct regular expression used for detecting the neg and pos words\n",
        "pat_negwords = '|'.join(neg_words)\n",
        "pat_poswords = '|'.join(pos_words)"
      ]
    },
    {
      "cell_type": "code",
      "execution_count": null,
      "id": "28394c93",
      "metadata": {
        "id": "28394c93"
      },
      "outputs": [],
      "source": [
        "# use str.count method to count occurences of words\n",
        "df_zacks['num_neg_words'] = df_zacks['arguments_clean_processed_w_stopwords'].str.count(pat_negwords)\n",
        "df_zacks['num_pos_words'] = df_zacks['arguments_clean_processed_w_stopwords'].str.count(pat_poswords)\n",
        "df_zacks['doc_len'] = df_zacks['arguments_clean_processed_no_stopwords'].apply(lambda x: len(x.split()))"
      ]
    },
    {
      "cell_type": "markdown",
      "id": "e7722168",
      "metadata": {
        "id": "e7722168"
      },
      "source": [
        "## Please Fill in the 3 Scoring Formulas and Compute the Output Requested in A2."
      ]
    },
    {
      "cell_type": "code",
      "execution_count": null,
      "id": "5f1ba7c9",
      "metadata": {
        "id": "5f1ba7c9"
      },
      "outputs": [],
      "source": [
        "df_zacks['score_1'] = df_zacks['num_pos_words'] / df_zacks['doc_len']\n",
        "df_zacks['score_2'] = df_zacks['num_pos_words'] / (df_zacks['num_pos_words'] + df_zacks['num_neg_words'] + 1)\n",
        "df_zacks['score_3'] = (df_zacks['num_pos_words'] - df_zacks['num_neg_words']) / (df_zacks['num_pos_words'] + df_zacks['num_neg_words'] + 1)\n",
        "#print(df_zacks['score_1'],df_zacks['score_2'],df_zacks['score_3'])"
      ]
    },
    {
      "cell_type": "markdown",
      "id": "8809d241",
      "metadata": {
        "id": "8809d241"
      },
      "source": [
        "## Compute sentiment scores using dictionary approach (with negation)"
      ]
    },
    {
      "cell_type": "markdown",
      "id": "ecfa4cf8",
      "metadata": {
        "id": "ecfa4cf8"
      },
      "source": [
        "#### 3 formulas with Lemmatization, with negattion:\n",
        "\n",
        "#### (1) P/D, D is the number of words in your document. \n",
        "#### (2) P/(P+N+1).\n",
        "#### (3) (P-N)/(P+N+1)."
      ]
    },
    {
      "cell_type": "code",
      "execution_count": null,
      "id": "8b662e5d",
      "metadata": {
        "id": "8b662e5d"
      },
      "outputs": [],
      "source": [
        "negate = [\"aint\", \"arent\", \"cannot\", \"cant\", \"couldnt\", \"darent\", \"didnt\", \"doesnt\", \"ain't\", \"aren't\", \"can't\",\n",
        "          \"couldn't\", \"daren't\", \"didn't\", \"doesn't\", \"dont\", \"hadnt\", \"hasnt\", \"havent\", \"isnt\", \"mightnt\", \"mustnt\",\n",
        "          \"neither\", \"don't\", \"hadn't\", \"hasn't\", \"haven't\", \"isn't\", \"mightn't\", \"mustn't\", \"neednt\", \"needn't\",\n",
        "          \"never\", \"none\", \"nope\", \"nor\", \"not\", \"nothing\", \"nowhere\", \"oughtnt\", \"shant\", \"shouldnt\", \"wasnt\",\n",
        "          \"werent\", \"oughtn't\", \"shan't\", \"shouldn't\", \"wasn't\", \"weren't\", \"without\", \"wont\", \"wouldnt\", \"won't\",\n",
        "          \"wouldn't\", \"rarely\", \"seldom\", \"despite\", \"no\", \"nobody\"]"
      ]
    },
    {
      "cell_type": "code",
      "execution_count": null,
      "id": "2240401d",
      "metadata": {
        "colab": {
          "base_uri": "https://localhost:8080/"
        },
        "id": "2240401d",
        "outputId": "55e33cbc-ae83-42dc-8ba8-4ad6cfe0ed16",
        "scrolled": true
      },
      "outputs": [
        {
          "data": {
            "text/plain": [
              "[' be not ',\n",
              " ' can not ',\n",
              " ' could not ',\n",
              " ' dare not ',\n",
              " ' do not ',\n",
              " ' have not ',\n",
              " ' might not ',\n",
              " ' must not ',\n",
              " ' neither ',\n",
              " ' need not ',\n",
              " ' never ',\n",
              " ' none ',\n",
              " ' nope ',\n",
              " ' nor ',\n",
              " ' not ',\n",
              " ' nothing ',\n",
              " ' nowhere ',\n",
              " ' ought not ',\n",
              " ' shall not ',\n",
              " ' should not ',\n",
              " ' without ',\n",
              " ' will not ',\n",
              " ' would not ',\n",
              " ' rarely ',\n",
              " ' seldom ',\n",
              " ' despite ',\n",
              " ' no ',\n",
              " ' nobody ']"
            ]
          },
          "execution_count": 183,
          "metadata": {},
          "output_type": "execute_result"
        }
      ],
      "source": [
        "df_negate = pd.DataFrame(negate)\n",
        "df_negate = df_negate.iloc[:,0].apply(preprocess_sent)\n",
        "df_negate = df_negate.drop_duplicates().dropna()\n",
        "negate = df_negate.iloc[:].values.tolist()\n",
        "negate"
      ]
    },
    {
      "cell_type": "code",
      "execution_count": null,
      "id": "3be4df58",
      "metadata": {
        "id": "3be4df58"
      },
      "outputs": [],
      "source": [
        "# construct regular expression used for detecting the neg and pos words with negation words in front\n",
        "\n",
        "# for neg words\n",
        "lst_negated_neg = []\n",
        "for word_negation in negate:\n",
        "    for word_neg in neg_words:\n",
        "        \n",
        "        # remove empty leading and trailing spaces\n",
        "        lst_negated_neg.append(word_negation.strip() + word_neg)\n",
        "        \n",
        "# for pos words\n",
        "lst_negated_pos = []\n",
        "for word_negation in negate:\n",
        "    for word_pos in pos_words:\n",
        "        \n",
        "        # remove empty leading and trailing spaces\n",
        "        lst_negated_pos.append(word_negation.strip() + word_pos)        \n",
        "\n",
        "pat_negated_negwords = '|'.join(lst_negated_neg)\n",
        "pat_negated_poswords = '|'.join(lst_negated_pos)"
      ]
    },
    {
      "cell_type": "code",
      "execution_count": null,
      "id": "b4854150",
      "metadata": {
        "colab": {
          "base_uri": "https://localhost:8080/",
          "height": 178
        },
        "id": "b4854150",
        "outputId": "7075ff82-bc66-43f9-cfd7-0747c127aaff"
      },
      "outputs": [
        {
          "data": {
            "application/vnd.google.colaboratory.intrinsic+json": {
              "type": "string"
            },
            "text/plain": [
              "'be not able |be not abundance |be not abundant |be not acclaim |be not accomplish |be not accomplishment |be not achieve |be not achievement |be not adequately |be not advancement |be not advance |be not advantage |be not advantageous |be not advantageously |be not alliance |be not assure |be not attain |be not attainment |be not attractive |be not attractiveness |be not beautiful |be not beautifully |be not beneficially |be not benefit |be not good |be not well |be not bolster |be not boom |be not boost |be not breakthrough |be not brilliant |be not charitable |be not collaborate |be not collaboration |be not collaborative |be not collaborator |be not compliment |be not complimentary |be not conclusive |be not conclusively |be not conducive |be not confident |be not constructive |be not constructively |be not courteous |be not creative |be not creatively |be not creativeness |be not creativity |be not delight |be not delightful |be not delightfully |be not dependability |be not dependable |be not desirable |be not desire |be not despite |be not destine |be not diligent |be not diligently |be not distinction |be not distinctive |be not distinctively |be not distinctiveness |be not dream |be not easy |be not easily |be not efficiency |be not efficient |be not efficiently |be not empower |be not enable |be not encourage |be not encouragement |be not enhance |be not enhancement |be not enjoy |be not enjoyable |be not enjoyably |be not enjoyment |be not enthusiasm |be not enthusiastic |be not enthusiastically |be not excellence |be not excellent |be not excel |be not exceptional |be not exceptionally |be not excite |be not excitement |be not exciting |be not exclusive |be not exclusively |be not exclusiveness |be not exclusivity |be not exemplary |be not fantastic |be not favorable |be not favorably |be not favor |be not favorite |be not friendly |be not gain |be not great |be not greatly |be not greatness |be not happy |be not happily |be not happiness |be not high |be not honor |be not ideal |be not impress |be not impressed |be not impressive |be not impressively |be not improve |be not improvement |be not incredible |be not incredibly |be not influential |be not informative |be not ingenuity |be not innovate |be not innovation |be not innovative |be not innovativeness |be not innovator |be not insightful |be not inspiration |be not inspirational |be not integrity |be not invent |be not invention |be not inventive |be not inventiveness |be not inventor |be not leadership |be not lead |be not loyal |be not lucrative |be not meritorious |be not opportunity |be not optimistic |be not outperform |be not perfect |be not perfectly |be not pleasant |be not pleasantly |be not please |be not pleasure |be not plentiful |be not popular |be not popularity |be not positive |be not positively |be not preeminence |be not preeminent |be not premier |be not premiere |be not prestige |be not prestigious |be not proactive |be not proactively |be not proficiency |be not proficient |be not proficiently |be not profitability |be not profitable |be not profitably |be not progress |be not prosper |be not prosperity |be not prosperous |be not rebound |be not receptive |be not regain |be not resolve |be not revolutionize |be not reward |be not satisfaction |be not satisfactorily |be not satisfactory |be not satisfied |be not satisfie |be not satisfy |be not smooth |be not smoothly |be not solve |be not spectacular |be not spectacularly |be not stability |be not stabilization |be not stabilize |be not stable |be not strength |be not strengthen |be not strong |be not succeed |be not success |be not successful |be not successfully |be not superior |be not surpass |be not surpasse |be not transparency |be not tremendous |be not tremendously |be not unmatched |be not unparalleled |be not unsurpassed |be not upturn |be not valuable |be not versatile |be not versatility |be not vibrancy |be not vibrant |be not win |be not winner |be not worthy |can not able |can not abundance |can not abundant |can not acclaim |can not accomplish |can not accomplishment |can not achieve |can not achievement |can not adequately |can not advancement |can not advance |can not advantage |can not advantageous |can not advantageously |can not alliance |can not assure |can not attain |can not attainment |can not attractive |can not attractiveness |can not beautiful |can not beautifully |can not beneficially |can not benefit |can not good |can not well |can not bolster |can not boom |can not boost |can not breakthrough |can not brilliant |can not charitable |can not collaborate |can not collaboration |can not collaborative |can not collaborator |can not compliment |can not complimentary |can not conclusive |can not conclusively |can not conducive |can not confident |can not constructive |can not constructively |can not courteous |can not creative |can not creatively |can not creativeness |can not creativity |can not delight |can not delightful |can not delightfully |can not dependability |can not dependable |can not desirable |can not desire |can not despite |can not destine |can not diligent |can not diligently |can not distinction |can not distinctive |can not distinctively |can not distinctiveness |can not dream |can not easy |can not easily |can not efficiency |can not efficient |can not efficiently |can not empower |can not enable |can not encourage |can not encouragement |can not enhance |can not enhancement |can not enjoy |can not enjoyable |can not enjoyably |can not enjoyment |can not enthusiasm |can not enthusiastic |can not enthusiastically |can not excellence |can not excellent |can not excel |can not exceptional |can not exceptionally |can not excite |can not excitement |can not exciting |can not exclusive |can not exclusively |can not exclusiveness |can not exclusivity |can not exemplary |can not fantastic |can not favorable |can not favorably |can not favor |can not favorite |can not friendly |can not gain |can not great |can not greatly |can not greatness |can not happy |can not happily |can not happiness |can not high |can not honor |can not ideal |can not impress |can not impressed |can not impressive |can not impressively |can not improve |can not improvement |can not incredible |can not incredibly |can not influential |can not informative |can not ingenuity |can not innovate |can not innovation |can not innovative |can not innovativeness |can not innovator |can not insightful |can not inspiration |can not inspirational |can not integrity |can not invent |can not invention |can not inventive |can not inventiveness |can not inventor |can not leadership |can not lead |can not loyal |can not lucrative |can not meritorious |can not opportunity |can not optimistic |can not outperform |can not perfect |can not perfectly |can not pleasant |can not pleasantly |can not please |can not pleasure |can not plentiful |can not popular |can not popularity |can not positive |can not positively |can not preeminence |can not preeminent |can not premier |can not premiere |can not prestige |can not prestigious |can not proactive |can not proactively |can not proficiency |can not proficient |can not proficiently |can not profitability |can not profitable |can not profitably |can not progress |can not prosper |can not prosperity |can not prosperous |can not rebound |can not receptive |can not regain |can not resolve |can not revolutionize |can not reward |can not satisfaction |can not satisfactorily |can not satisfactory |can not satisfied |can not satisfie |can not satisfy |can not smooth |can not smoothly |can not solve |can not spectacular |can not spectacularly |can not stability |can not stabilization |can not stabilize |can not stable |can not strength |can not strengthen |can not strong |can not succeed |can not success |can not successful |can not successfully |can not superior |can not surpass |can not surpasse |can not transparency |can not tremendous |can not tremendously |can not unmatched |can not unparalleled |can not unsurpassed |can not upturn |can not valuable |can not versatile |can not versatility |can not vibrancy |can not vibrant |can not win |can not winner |can not worthy |could not able |could not abundance |could not abundant |could not acclaim |could not accomplish |could not accomplishment |could not achieve |could not achievement |could not adequately |could not advancement |could not advance |could not advantage |could not advantageous |could not advantageously |could not alliance |could not assure |could not attain |could not attainment |could not attractive |could not attractiveness |could not beautiful |could not beautifully |could not beneficially |could not benefit |could not good |could not well |could not bolster |could not boom |could not boost |could not breakthrough |could not brilliant |could not charitable |could not collaborate |could not collaboration |could not collaborative |could not collaborator |could not compliment |could not complimentary |could not conclusive |could not conclusively |could not conducive |could not confident |could not constructive |could not constructively |could not courteous |could not creative |could not creatively |could not creativeness |could not creativity |could not delight |could not delightful |could not delightfully |could not dependability |could not dependable |could not desirable |could not desire |could not despite |could not destine |could not diligent |could not diligently |could not distinction |could not distinctive |could not distinctively |could not distinctiveness |could not dream |could not easy |could not easily |could not efficiency |could not efficient |could not efficiently |could not empower |could not enable |could not encourage |could not encouragement |could not enhance |could not enhancement |could not enjoy |could not enjoyable |could not enjoyably |could not enjoyment |could not enthusiasm |could not enthusiastic |could not enthusiastically |could not excellence |could not excellent |could not excel |could not exceptional |could not exceptionally |could not excite |could not excitement |could not exciting |could not exclusive |could not exclusively |could not exclusiveness |could not exclusivity |could not exemplary |could not fantastic |could not favorable |could not favorably |could not favor |could not favorite |could not friendly |could not gain |could not great |could not greatly |could not greatness |could not happy |could not happily |could not happiness |could not high |could not honor |could not ideal |could not impress |could not impressed |could not impressive |could not impressively |could not improve |could not improvement |could not incredible |could not incredibly |could not influential |could not informative |could not ingenuity |could not innovate |could not innovation |could not innovative |could not innovativeness |could not innovator |could not insightful |could not inspiration |could not inspirational |could not integrity |could not invent |could not invention |could not inventive |could not inventiveness |could not inventor |could not leadership |could not lead |could not loyal |could not lucrative |could not meritorious |could not opportunity |could not optimistic |could not outperform |could not perfect |could not perfectly |could not pleasant |could not pleasantly |could not please |could not pleasure |could not plentiful |could not popular |could not popularity |could not positive |could not positively |could not preeminence |could not preeminent |could not premier |could not premiere |could not prestige |could not prestigious |could not proactive |could not proactively |could not proficiency |could not proficient |could not proficiently |could not profitability |could not profitable |could not profitably |could not progress |could not prosper |could not prosperity |could not prosperous |could not rebound |could not receptive |could not regain |could not resolve |could not revolutionize |could not reward |could not satisfaction |could not satisfactorily |could not satisfactory |could not satisfied |could not satisfie |could not satisfy |could not smooth |could not smoothly |could not solve |could not spectacular |could not spectacularly |could not stability |could not stabilization |could not stabilize |could not stable |could not strength |could not strengthen |could not strong |could not succeed |could not success |could not successful |could not successfully |could not superior |could not surpass |could not surpasse |could not transparency |could not tremendous |could not tremendously |could not unmatched |could not unparalleled |could not unsurpassed |could not upturn |could not valuable |could not versatile |could not versatility |could not vibrancy |could not vibrant |could not win |could not winner |could not worthy |dare not able |dare not abundance |dare not abundant |dare not acclaim |dare not accomplish |dare not accomplishment |dare not achieve |dare not achievement |dare not adequately |dare not advancement |dare not advance |dare not advantage |dare not advantageous |dare not advantageously |dare not alliance |dare not assure |dare not attain |dare not attainment |dare not attractive |dare not attractiveness |dare not beautiful |dare not beautifully |dare not beneficially |dare not benefit |dare not good |dare not well |dare not bolster |dare not boom |dare not boost |dare not breakthrough |dare not brilliant |dare not charitable |dare not collaborate |dare not collaboration |dare not collaborative |dare not collaborator |dare not compliment |dare not complimentary |dare not conclusive |dare not conclusively |dare not conducive |dare not confident |dare not constructive |dare not constructively |dare not courteous |dare not creative |dare not creatively |dare not creativeness |dare not creativity |dare not delight |dare not delightful |dare not delightfully |dare not dependability |dare not dependable |dare not desirable |dare not desire |dare not despite |dare not destine |dare not diligent |dare not diligently |dare not distinction |dare not distinctive |dare not distinctively |dare not distinctiveness |dare not dream |dare not easy |dare not easily |dare not efficiency |dare not efficient |dare not efficiently |dare not empower |dare not enable |dare not encourage |dare not encouragement |dare not enhance |dare not enhancement |dare not enjoy |dare not enjoyable |dare not enjoyably |dare not enjoyment |dare not enthusiasm |dare not enthusiastic |dare not enthusiastically |dare not excellence |dare not excellent |dare not excel |dare not exceptional |dare not exceptionally |dare not excite |dare not excitement |dare not exciting |dare not exclusive |dare not exclusively |dare not exclusiveness |dare not exclusivity |dare not exemplary |dare not fantastic |dare not favorable |dare not favorably |dare not favor |dare not favorite |dare not friendly |dare not gain |dare not great |dare not greatly |dare not greatness |dare not happy |dare not happily |dare not happiness |dare not high |dare not honor |dare not ideal |dare not impress |dare not impressed |dare not impressive |dare not impressively |dare not improve |dare not improvement |dare not incredible |dare not incredibly |dare not influential |dare not informative |dare not ingenuity |dare not innovate |dare not innovation |dare not innovative |dare not innovativeness |dare not innovator |dare not insightful |dare not inspiration |dare not inspirational |dare not integrity |dare not invent |dare not invention |dare not inventive |dare not inventiveness |dare not inventor |dare not leadership |dare not lead |dare not loyal |dare not lucrative |dare not meritorious |dare not opportunity |dare not optimistic |dare not outperform |dare not perfect |dare not perfectly |dare not pleasant |dare not pleasantly |dare not please |dare not pleasure |dare not plentiful |dare not popular |dare not popularity |dare not positive |dare not positively |dare not preeminence |dare not preeminent |dare not premier |dare not premiere |dare not prestige |dare not prestigious |dare not proactive |dare not proactively |dare not proficiency |dare not proficient |dare not proficiently |dare not profitability |dare not profitable |dare not profitably |dare not progress |dare not prosper |dare not prosperity |dare not prosperous |dare not rebound |dare not receptive |dare not regain |dare not resolve |dare not revolutionize |dare not reward |dare not satisfaction |dare not satisfactorily |dare not satisfactory |dare not satisfied |dare not satisfie |dare not satisfy |dare not smooth |dare not smoothly |dare not solve |dare not spectacular |dare not spectacularly |dare not stability |dare not stabilization |dare not stabilize |dare not stable |dare not strength |dare not strengthen |dare not strong |dare not succeed |dare not success |dare not successful |dare not successfully |dare not superior |dare not surpass |dare not surpasse |dare not transparency |dare not tremendous |dare not tremendously |dare not unmatched |dare not unparalleled |dare not unsurpassed |dare not upturn |dare not valuable |dare not versatile |dare not versatility |dare not vibrancy |dare not vibrant |dare not win |dare not winner |dare not worthy |do not able |do not abundance |do not abundant |do not acclaim |do not accomplish |do not accomplishment |do not achieve |do not achievement |do not adequately |do not advancement |do not advance |do not advantage |do not advantageous |do not advantageously |do not alliance |do not assure |do not attain |do not attainment |do not attractive |do not attractiveness |do not beautiful |do not beautifully |do not beneficially |do not benefit |do not good |do not well |do not bolster |do not boom |do not boost |do not breakthrough |do not brilliant |do not charitable |do not collaborate |do not collaboration |do not collaborative |do not collaborator |do not compliment |do not complimentary |do not conclusive |do not conclusively |do not conducive |do not confident |do not constructive |do not constructively |do not courteous |do not creative |do not creatively |do not creativeness |do not creativity |do not delight |do not delightful |do not delightfully |do not dependability |do not dependable |do not desirable |do not desire |do not despite |do not destine |do not diligent |do not diligently |do not distinction |do not distinctive |do not distinctively |do not distinctiveness |do not dream |do not easy |do not easily |do not efficiency |do not efficient |do not efficiently |do not empower |do not enable |do not encourage |do not encouragement |do not enhance |do not enhancement |do not enjoy |do not enjoyable |do not enjoyably |do not enjoyment |do not enthusiasm |do not enthusiastic |do not enthusiastically |do not excellence |do not excellent |do not excel |do not exceptional |do not exceptionally |do not excite |do not excitement |do not exciting |do not exclusive |do not exclusively |do not exclusiveness |do not exclusivity |do not exemplary |do not fantastic |do not favorable |do not favorably |do not favor |do not favorite |do not friendly |do not gain |do not great |do not greatly |do not greatness |do not happy |do not happily |do not happiness |do not high |do not honor |do not ideal |do not impress |do not impressed |do not impressive |do not impressively |do not improve |do not improvement |do not incredible |do not incredibly |do not influential |do not informative |do not ingenuity |do not innovate |do not innovation |do not innovative |do not innovativeness |do not innovator |do not insightful |do not inspiration |do not inspirational |do not integrity |do not invent |do not invention |do not inventive |do not inventiveness |do not inventor |do not leadership |do not lead |do not loyal |do not lucrative |do not meritorious |do not opportunity |do not optimistic |do not outperform |do not perfect |do not perfectly |do not pleasant |do not pleasantly |do not please |do not pleasure |do not plentiful |do not popular |do not popularity |do not positive |do not positively |do not preeminence |do not preeminent |do not premier |do not premiere |do not prestige |do not prestigious |do not proactive |do not proactively |do not proficiency |do not proficient |do not proficiently |do not profitability |do not profitable |do not profitably |do not progress |do not prosper |do not prosperity |do not prosperous |do not rebound |do not receptive |do not regain |do not resolve |do not revolutionize |do not reward |do not satisfaction |do not satisfactorily |do not satisfactory |do not satisfied |do not satisfie |do not satisfy |do not smooth |do not smoothly |do not solve |do not spectacular |do not spectacularly |do not stability |do not stabilization |do not stabilize |do not stable |do not strength |do not strengthen |do not strong |do not succeed |do not success |do not successful |do not successfully |do not superior |do not surpass |do not surpasse |do not transparency |do not tremendous |do not tremendously |do not unmatched |do not unparalleled |do not unsurpassed |do not upturn |do not valuable |do not versatile |do not versatility |do not vibrancy |do not vibrant |do not win |do not winner |do not worthy |have not able |have not abundance |have not abundant |have not acclaim |have not accomplish |have not accomplishment |have not achieve |have not achievement |have not adequately |have not advancement |have not advance |have not advantage |have not advantageous |have not advantageously |have not alliance |have not assure |have not attain |have not attainment |have not attractive |have not attractiveness |have not beautiful |have not beautifully |have not beneficially |have not benefit |have not good |have not well |have not bolster |have not boom |have not boost |have not breakthrough |have not brilliant |have not charitable |have not collaborate |have not collaboration |have not collaborative |have not collaborator |have not compliment |have not complimentary |have not conclusive |have not conclusively |have not conducive |have not confident |have not constructive |have not constructively |have not courteous |have not creative |have not creatively |have not creativeness |have not creativity |have not delight |have not delightful |have not delightfully |have not dependability |have not dependable |have not desirable |have not desire |have not despite |have not destine |have not diligent |have not diligently |have not distinction |have not distinctive |have not distinctively |have not distinctiveness |have not dream |have not easy |have not easily |have not efficiency |have not efficient |have not efficiently |have not empower |have not enable |have not encourage |have not encouragement |have not enhance |have not enhancement |have not enjoy |have not enjoyable |have not enjoyably |have not enjoyment |have not enthusiasm |have not enthusiastic |have not enthusiastically |have not excellence |have not excellent |have not excel |have not exceptional |have not exceptionally |have not excite |have not excitement |have not exciting |have not exclusive |have not exclusively |have not exclusiveness |have not exclusivity |have not exemplary |have not fantastic |have not favorable |have not favorably |have not favor |have not favorite |have not friendly |have not gain |have not great |have not greatly |have not greatness |have not happy |have not happily |have not happiness |have not high |have not honor |have not ideal |have not impress |have not impressed |have not impressive |have not impressively |have not improve |have not improvement |have not incredible |have not incredibly |have not influential |have not informative |have not ingenuity |have not innovate |have not innovation |have not innovative |have not innovativeness |have not innovator |have not insightful |have not inspiration |have not inspirational |have not integrity |have not invent |have not invention |have not inventive |have not inventiveness |have not inventor |have not leadership |have not lead |have not loyal |have not lucrative |have not meritorious |have not opportunity |have not optimistic |have not outperform |have not perfect |have not perfectly |have not pleasant |have not pleasantly |have not please |have not pleasure |have not plentiful |have not popular |have not popularity |have not positive |have not positively |have not preeminence |have not preeminent |have not premier |have not premiere |have not prestige |have not prestigious |have not proactive |have not proactively |have not proficiency |have not proficient |have not proficiently |have not profitability |have not profitable |have not profitably |have not progress |have not prosper |have not prosperity |have not prosperous |have not rebound |have not receptive |have not regain |have not resolve |have not revolutionize |have not reward |have not satisfaction |have not satisfactorily |have not satisfactory |have not satisfied |have not satisfie |have not satisfy |have not smooth |have not smoothly |have not solve |have not spectacular |have not spectacularly |have not stability |have not stabilization |have not stabilize |have not stable |have not strength |have not strengthen |have not strong |have not succeed |have not success |have not successful |have not successfully |have not superior |have not surpass |have not surpasse |have not transparency |have not tremendous |have not tremendously |have not unmatched |have not unparalleled |have not unsurpassed |have not upturn |have not valuable |have not versatile |have not versatility |have not vibrancy |have not vibrant |have not win |have not winner |have not worthy |might not able |might not abundance |might not abundant |might not acclaim |might not accomplish |might not accomplishment |might not achieve |might not achievement |might not adequately |might not advancement |might not advance |might not advantage |might not advantageous |might not advantageously |might not alliance |might not assure |might not attain |might not attainment |might not attractive |might not attractiveness |might not beautiful |might not beautifully |might not beneficially |might not benefit |might not good |might not well |might not bolster |might not boom |might not boost |might not breakthrough |might not brilliant |might not charitable |might not collaborate |might not collaboration |might not collaborative |might not collaborator |might not compliment |might not complimentary |might not conclusive |might not conclusively |might not conducive |might not confident |might not constructive |might not constructively |might not courteous |might not creative |might not creatively |might not creativeness |might not creativity |might not delight |might not delightful |might not delightfully |might not dependability |might not dependable |might not desirable |might not desire |might not despite |might not destine |might not diligent |might not diligently |might not distinction |might not distinctive |might not distinctively |might not distinctiveness |might not dream |might not easy |might not easily |might not efficiency |might not efficient |might not efficiently |might not empower |might not enable |might not encourage |might not encouragement |might not enhance |might not enhancement |might not enjoy |might not enjoyable |might not enjoyably |might not enjoyment |might not enthusiasm |might not enthusiastic |might not enthusiastically |might not excellence |might not excellent |might not excel |might not exceptional |might not exceptionally |might not excite |might not excitement |might not exciting |might not exclusive |might not exclusively |might not exclusiveness |might not exclusivity |might not exemplary |might not fantastic |might not favorable |might not favorably |might not favor |might not favorite |might not friendly |might not gain |might not great |might not greatly |might not greatness |might not happy |might not happily |might not happiness |might not high |might not honor |might not ideal |might not impress |might not impressed |might not impressive |might not impressively |might not improve |might not improvement |might not incredible |might not incredibly |might not influential |might not informative |might not ingenuity |might not innovate |might not innovation |might not innovative |might not innovativeness |might not innovator |might not insightful |might not inspiration |might not inspirational |might not integrity |might not invent |might not invention |might not inventive |might not inventiveness |might not inventor |might not leadership |might not lead |might not loyal |might not lucrative |might not meritorious |might not opportunity |might not optimistic |might not outperform |might not perfect |might not perfectly |might not pleasant |might not pleasantly |might not please |might not pleasure |might not plentiful |might not popular |might not popularity |might not positive |might not positively |might not preeminence |might not preeminent |might not premier |might not premiere |might not prestige |might not prestigious |might not proactive |might not proactively |might not proficiency |might not proficient |might not proficiently |might not profitability |might not profitable |might not profitably |might not progress |might not prosper |might not prosperity |might not prosperous |might not rebound |might not receptive |might not regain |might not resolve |might not revolutionize |might not reward |might not satisfaction |might not satisfactorily |might not satisfactory |might not satisfied |might not satisfie |might not satisfy |might not smooth |might not smoothly |might not solve |might not spectacular |might not spectacularly |might not stability |might not stabilization |might not stabilize |might not stable |might not strength |might not strengthen |might not strong |might not succeed |might not success |might not successful |might not successfully |might not superior |might not surpass |might not surpasse |might not transparency |might not tremendous |might not tremendously |might not unmatched |might not unparalleled |might not unsurpassed |might not upturn |might not valuable |might not versatile |might not versatility |might not vibrancy |might not vibrant |might not win |might not winner |might not worthy |must not able |must not abundance |must not abundant |must not acclaim |must not accomplish |must not accomplishment |must not achieve |must not achievement |must not adequately |must not advancement |must not advance |must not advantage |must not advantageous |must not advantageously |must not alliance |must not assure |must not attain |must not attainment |must not attractive |must not attractiveness |must not beautiful |must not beautifully |must not beneficially |must not benefit |must not good |must not well |must not bolster |must not boom |must not boost |must not breakthrough |must not brilliant |must not charitable |must not collaborate |must not collaboration |must not collaborative |must not collaborator |must not compliment |must not complimentary |must not conclusive |must not conclusively |must not conducive |must not confident |must not constructive |must not constructively |must not courteous |must not creative |must not creatively |must not creativeness |must not creativity |must not delight |must not delightful |must not delightfully |must not dependability |must not dependable |must not desirable |must not desire |must not despite |must not destine |must not diligent |must not diligently |must not distinction |must not distinctive |must not distinctively |must not distinctiveness |must not dream |must not easy |must not easily |must not efficiency |must not efficient |must not efficiently |must not empower |must not enable |must not encourage |must not encouragement |must not enhance |must not enhancement |must not enjoy |must not enjoyable |must not enjoyably |must not enjoyment |must not enthusiasm |must not enthusiastic |must not enthusiastically |must not excellence |must not excellent |must not excel |must not exceptional |must not exceptionally |must not excite |must not excitement |must not exciting |must not exclusive |must not exclusively |must not exclusiveness |must not exclusivity |must not exemplary |must not fantastic |must not favorable |must not favorably |must not favor |must not favorite |must not friendly |must not gain |must not great |must not greatly |must not greatness |must not happy |must not happily |must not happiness |must not high |must not honor |must not ideal |must not impress |must not impressed |must not impressive |must not impressively |must not improve |must not improvement |must not incredible |must not incredibly |must not influential |must not informative |must not ingenuity |must not innovate |must not innovation |must not innovative |must not innovativeness |must not innovator |must not insightful |must not inspiration |must not inspirational |must not integrity |must not invent |must not invention |must not inventive |must not inventiveness |must not inventor |must not leadership |must not lead |must not loyal |must not lucrative |must not meritorious |must not opportunity |must not optimistic |must not outperform |must not perfect |must not perfectly |must not pleasant |must not pleasantly |must not please |must not pleasure |must not plentiful |must not popular |must not popularity |must not positive |must not positively |must not preeminence |must not preeminent |must not premier |must not premiere |must not prestige |must not prestigious |must not proactive |must not proactively |must not proficiency |must not proficient |must not proficiently |must not profitability |must not profitable |must not profitably |must not progress |must not prosper |must not prosperity |must not prosperous |must not rebound |must not receptive |must not regain |must not resolve |must not revolutionize |must not reward |must not satisfaction |must not satisfactorily |must not satisfactory |must not satisfied |must not satisfie |must not satisfy |must not smooth |must not smoothly |must not solve |must not spectacular |must not spectacularly |must not stability |must not stabilization |must not stabilize |must not stable |must not strength |must not strengthen |must not strong |must not succeed |must not success |must not successful |must not successfully |must not superior |must not surpass |must not surpasse |must not transparency |must not tremendous |must not tremendously |must not unmatched |must not unparalleled |must not unsurpassed |must not upturn |must not valuable |must not versatile |must not versatility |must not vibrancy |must not vibrant |must not win |must not winner |must not worthy |neither able |neither abundance |neither abundant |neither acclaim |neither accomplish |neither accomplishment |neither achieve |neither achievement |neither adequately |neither advancement |neither advance |neither advantage |neither advantageous |neither advantageously |neither alliance |neither assure |neither attain |neither attainment |neither attractive |neither attractiveness |neither beautiful |neither beautifully |neither beneficially |neither benefit |neither good |neither well |neither bolster |neither boom |neither boost |neither breakthrough |neither brilliant |neither charitable |neither collaborate |neither collaboration |neither collaborative |neither collaborator |neither compliment |neither complimentary |neither conclusive |neither conclusively |neither conducive |neither confident |neither constructive |neither constructively |neither courteous |neither creative |neither creatively |neither creativeness |neither creativity |neither delight |neither delightful |neither delightfully |neither dependability |neither dependable |neither desirable |neither desire |neither despite |neither destine |neither diligent |neither diligently |neither distinction |neither distinctive |neither distinctively |neither distinctiveness |neither dream |neither easy |neither easily |neither efficiency |neither efficient |neither efficiently |neither empower |neither enable |neither encourage |neither encouragement |neither enhance |neither enhancement |neither enjoy |neither enjoyable |neither enjoyably |neither enjoyment |neither enthusiasm |neither enthusiastic |neither enthusiastically |neither excellence |neither excellent |neither excel |neither exceptional |neither exceptionally |neither excite |neither excitement |neither exciting |neither exclusive |neither exclusively |neither exclusiveness |neither exclusivity |neither exemplary |neither fantastic |neither favorable |neither favorably |neither favor |neither favorite |neither friendly |neither gain |neither great |neither greatly |neither greatness |neither happy |neither happily |neither happiness |neither high |neither honor |neither ideal |neither impress |neither impressed |neither impressive |neither impressively |neither improve |neither improvement |neither incredible |neither incredibly |neither influential |neither informative |neither ingenuity |neither innovate |neither innovation |neither innovative |neither innovativeness |neither innovator |neither insightful |neither inspiration |neither inspirational |neither integrity |neither invent |neither invention |neither inventive |neither inventiveness |neither inventor |neither leadership |neither lead |neither loyal |neither lucrative |neither meritorious |neither opportunity |neither optimistic |neither outperform |neither perfect |neither perfectly |neither pleasant |neither pleasantly |neither please |neither pleasure |neither plentiful |neither popular |neither popularity |neither positive |neither positively |neither preeminence |neither preeminent |neither premier |neither premiere |neither prestige |neither prestigious |neither proactive |neither proactively |neither proficiency |neither proficient |neither proficiently |neither profitability |neither profitable |neither profitably |neither progress |neither prosper |neither prosperity |neither prosperous |neither rebound |neither receptive |neither regain |neither resolve |neither revolutionize |neither reward |neither satisfaction |neither satisfactorily |neither satisfactory |neither satisfied |neither satisfie |neither satisfy |neither smooth |neither smoothly |neither solve |neither spectacular |neither spectacularly |neither stability |neither stabilization |neither stabilize |neither stable |neither strength |neither strengthen |neither strong |neither succeed |neither success |neither successful |neither successfully |neither superior |neither surpass |neither surpasse |neither transparency |neither tremendous |neither tremendously |neither unmatched |neither unparalleled |neither unsurpassed |neither upturn |neither valuable |neither versatile |neither versatility |neither vibrancy |neither vibrant |neither win |neither winner |neither worthy |need not able |need not abundance |need not abundant |need not acclaim |need not accomplish |need not accomplishment |need not achieve |need not achievement |need not adequately |need not advancement |need not advance |need not advantage |need not advantageous |need not advantageously |need not alliance |need not assure |need not attain |need not attainment |need not attractive |need not attractiveness |need not beautiful |need not beautifully |need not beneficially |need not benefit |need not good |need not well |need not bolster |need not boom |need not boost |need not breakthrough |need not brilliant |need not charitable |need not collaborate |need not collaboration |need not collaborative |need not collaborator |need not compliment |need not complimentary |need not conclusive |need not conclusively |need not conducive |need not confident |need not constructive |need not constructively |need not courteous |need not creative |need not creatively |need not creativeness |need not creativity |need not delight |need not delightful |need not delightfully |need not dependability |need not dependable |need not desirable |need not desire |need not despite |need not destine |need not diligent |need not diligently |need not distinction |need not distinctive |need not distinctively |need not distinctiveness |need not dream |need not easy |need not easily |need not efficiency |need not efficient |need not efficiently |need not empower |need not enable |need not encourage |need not encouragement |need not enhance |need not enhancement |need not enjoy |need not enjoyable |need not enjoyably |need not enjoyment |need not enthusiasm |need not enthusiastic |need not enthusiastically |need not excellence |need not excellent |need not excel |need not exceptional |need not exceptionally |need not excite |need not excitement |need not exciting |need not exclusive |need not exclusively |need not exclusiveness |need not exclusivity |need not exemplary |need not fantastic |need not favorable |need not favorably |need not favor |need not favorite |need not friendly |need not gain |need not great |need not greatly |need not greatness |need not happy |need not happily |need not happiness |need not high |need not honor |need not ideal |need not impress |need not impressed |need not impressive |need not impressively |need not improve |need not improvement |need not incredible |need not incredibly |need not influential |need not informative |need not ingenuity |need not innovate |need not innovation |need not innovative |need not innovativeness |need not innovator |need not insightful |need not inspiration |need not inspirational |need not integrity |need not invent |need not invention |need not inventive |need not inventiveness |need not inventor |need not leadership |need not lead |need not loyal |need not lucrative |need not meritorious |need not opportunity |need not optimistic |need not outperform |need not perfect |need not perfectly |need not pleasant |need not pleasantly |need not please |need not pleasure |need not plentiful |need not popular |need not popularity |need not positive |need not positively |need not preeminence |need not preeminent |need not premier |need not premiere |need not prestige |need not prestigious |need not proactive |need not proactively |need not proficiency |need not proficient |need not proficiently |need not profitability |need not profitable |need not profitably |need not progress |need not prosper |need not prosperity |need not prosperous |need not rebound |need not receptive |need not regain |need not resolve |need not revolutionize |need not reward |need not satisfaction |need not satisfactorily |need not satisfactory |need not satisfied |need not satisfie |need not satisfy |need not smooth |need not smoothly |need not solve |need not spectacular |need not spectacularly |need not stability |need not stabilization |need not stabilize |need not stable |need not strength |need not strengthen |need not strong |need not succeed |need not success |need not successful |need not successfully |need not superior |need not surpass |need not surpasse |need not transparency |need not tremendous |need not tremendously |need not unmatched |need not unparalleled |need not unsurpassed |need not upturn |need not valuable |need not versatile |need not versatility |need not vibrancy |need not vibrant |need not win |need not winner |need not worthy |never able |never abundance |never abundant |never acclaim |never accomplish |never accomplishment |never achieve |never achievement |never adequately |never advancement |never advance |never advantage |never advantageous |never advantageously |never alliance |never assure |never attain |never attainment |never attractive |never attractiveness |never beautiful |never beautifully |never beneficially |never benefit |never good |never well |never bolster |never boom |never boost |never breakthrough |never brilliant |never charitable |never collaborate |never collaboration |never collaborative |never collaborator |never compliment |never complimentary |never conclusive |never conclusively |never conducive |never confident |never constructive |never constructively |never courteous |never creative |never creatively |never creativeness |never creativity |never delight |never delightful |never delightfully |never dependability |never dependable |never desirable |never desire |never despite |never destine |never diligent |never diligently |never distinction |never distinctive |never distinctively |never distinctiveness |never dream |never easy |never easily |never efficiency |never efficient |never efficiently |never empower |never enable |never encourage |never encouragement |never enhance |never enhancement |never enjoy |never enjoyable |never enjoyably |never enjoyment |never enthusiasm |never enthusiastic |never enthusiastically |never excellence |never excellent |never excel |never exceptional |never exceptionally |never excite |never excitement |never exciting |never exclusive |never exclusively |never exclusiveness |never exclusivity |never exemplary |never fantastic |never favorable |never favorably |never favor |never favorite |never friendly |never gain |never great |never greatly |never greatness |never happy |never happily |never happiness |never high |never honor |never ideal |never impress |never impressed |never impressive |never impressively |never improve |never improvement |never incredible |never incredibly |never influential |never informative |never ingenuity |never innovate |never innovation |never innovative |never innovativeness |never innovator |never insightful |never inspiration |never inspirational |never integrity |never invent |never invention |never inventive |never inventiveness |never inventor |never leadership |never lead |never loyal |never lucrative |never meritorious |never opportunity |never optimistic |never outperform |never perfect |never perfectly |never pleasant |never pleasantly |never please |never pleasure |never plentiful |never popular |never popularity |never positive |never positively |never preeminence |never preeminent |never premier |never premiere |never prestige |never prestigious |never proactive |never proactively |never proficiency |never proficient |never proficiently |never profitability |never profitable |never profitably |never progress |never prosper |never prosperity |never prosperous |never rebound |never receptive |never regain |never resolve |never revolutionize |never reward |never satisfaction |never satisfactorily |never satisfactory |never satisfied |never satisfie |never satisfy |never smooth |never smoothly |never solve |never spectacular |never spectacularly |never stability |never stabilization |never stabilize |never stable |never strength |never strengthen |never strong |never succeed |never success |never successful |never successfully |never superior |never surpass |never surpasse |never transparency |never tremendous |never tremendously |never unmatched |never unparalleled |never unsurpassed |never upturn |never valuable |never versatile |never versatility |never vibrancy |never vibrant |never win |never winner |never worthy |none able |none abundance |none abundant |none acclaim |none accomplish |none accomplishment |none achieve |none achievement |none adequately |none advancement |none advance |none advantage |none advantageous |none advantageously |none alliance |none assure |none attain |none attainment |none attractive |none attractiveness |none beautiful |none beautifully |none beneficially |none benefit |none good |none well |none bolster |none boom |none boost |none breakthrough |none brilliant |none charitable |none collaborate |none collaboration |none collaborative |none collaborator |none compliment |none complimentary |none conclusive |none conclusively |none conducive |none confident |none constructive |none constructively |none courteous |none creative |none creatively |none creativeness |none creativity |none delight |none delightful |none delightfully |none dependability |none dependable |none desirable |none desire |none despite |none destine |none diligent |none diligently |none distinction |none distinctive |none distinctively |none distinctiveness |none dream |none easy |none easily |none efficiency |none efficient |none efficiently |none empower |none enable |none encourage |none encouragement |none enhance |none enhancement |none enjoy |none enjoyable |none enjoyably |none enjoyment |none enthusiasm |none enthusiastic |none enthusiastically |none excellence |none excellent |none excel |none exceptional |none exceptionally |none excite |none excitement |none exciting |none exclusive |none exclusively |none exclusiveness |none exclusivity |none exemplary |none fantastic |none favorable |none favorably |none favor |none favorite |none friendly |none gain |none great |none greatly |none greatness |none happy |none happily |none happiness |none high |none honor |none ideal |none impress |none impressed |none impressive |none impressively |none improve |none improvement |none incredible |none incredibly |none influential |none informative |none ingenuity |none innovate |none innovation |none innovative |none innovativeness |none innovator |none insightful |none inspiration |none inspirational |none integrity |none invent |none invention |none inventive |none inventiveness |none inventor |none leadership |none lead |none loyal |none lucrative |none meritorious |none opportunity |none optimistic |none outperform |none perfect |none perfectly |none pleasant |none pleasantly |none please |none pleasure |none plentiful |none popular |none popularity |none positive |none positively |none preeminence |none preeminent |none premier |none premiere |none prestige |none prestigious |none proactive |none proactively |none proficiency |none proficient |none proficiently |none profitability |none profitable |none profitably |none progress |none prosper |none prosperity |none prosperous |none rebound |none receptive |none regain |none resolve |none revolutionize |none reward |none satisfaction |none satisfactorily |none satisfactory |none satisfied |none satisfie |none satisfy |none smooth |none smoothly |none solve |none spectacular |none spectacularly |none stability |none stabilization |none stabilize |none stable |none strength |none strengthen |none strong |none succeed |none success |none successful |none successfully |none superior |none surpass |none surpasse |none transparency |none tremendous |none tremendously |none unmatched |none unparalleled |none unsurpassed |none upturn |none valuable |none versatile |none versatility |none vibrancy |none vibrant |none win |none winner |none worthy |nope able |nope abundance |nope abundant |nope acclaim |nope accomplish |nope accomplishment |nope achieve |nope achievement |nope adequately |nope advancement |nope advance |nope advantage |nope advantageous |nope advantageously |nope alliance |nope assure |nope attain |nope attainment |nope attractive |nope attractiveness |nope beautiful |nope beautifully |nope beneficially |nope benefit |nope good |nope well |nope bolster |nope boom |nope boost |nope breakthrough |nope brilliant |nope charitable |nope collaborate |nope collaboration |nope collaborative |nope collaborator |nope compliment |nope complimentary |nope conclusive |nope conclusively |nope conducive |nope confident |nope constructive |nope constructively |nope courteous |nope creative |nope creatively |nope creativeness |nope creativity |nope delight |nope delightful |nope delightfully |nope dependability |nope dependable |nope desirable |nope desire |nope despite |nope destine |nope diligent |nope diligently |nope distinction |nope distinctive |nope distinctively |nope distinctiveness |nope dream |nope easy |nope easily |nope efficiency |nope efficient |nope efficiently |nope empower |nope enable |nope encourage |nope encouragement |nope enhance |nope enhancement |nope enjoy |nope enjoyable |nope enjoyably |nope enjoyment |nope enthusiasm |nope enthusiastic |nope enthusiastically |nope excellence |nope excellent |nope excel |nope exceptional |nope exceptionally |nope excite |nope excitement |nope exciting |nope exclusive |nope exclusively |nope exclusiveness |nope exclusivity |nope exemplary |nope fantastic |nope favorable |nope favorably |nope favor |nope favorite |nope friendly |nope gain |nope great |nope greatly |nope greatness |nope happy |nope happily |nope happiness |nope high |nope honor |nope ideal |nope impress |nope impressed |nope impressive |nope impressively |nope improve |nope improvement |nope incredible |nope incredibly |nope influential |nope informative |nope ingenuity |nope innovate |nope innovation |nope innovative |nope innovativeness |nope innovator |nope insightful |nope inspiration |nope inspirational |nope integrity |nope invent |nope invention |nope inventive |nope inventiveness |nope inventor |nope leadership |nope lead |nope loyal |nope lucrative |nope meritorious |nope opportunity |nope optimistic |nope outperform |nope perfect |nope perfectly |nope pleasant |nope pleasantly |nope please |nope pleasure |nope plentiful |nope popular |nope popularity |nope positive |nope positively |nope preeminence |nope preeminent |nope premier |nope premiere |nope prestige |nope prestigious |nope proactive |nope proactively |nope proficiency |nope proficient |nope proficiently |nope profitability |nope profitable |nope profitably |nope progress |nope prosper |nope prosperity |nope prosperous |nope rebound |nope receptive |nope regain |nope resolve |nope revolutionize |nope reward |nope satisfaction |nope satisfactorily |nope satisfactory |nope satisfied |nope satisfie |nope satisfy |nope smooth |nope smoothly |nope solve |nope spectacular |nope spectacularly |nope stability |nope stabilization |nope stabilize |nope stable |nope strength |nope strengthen |nope strong |nope succeed |nope success |nope successful |nope successfully |nope superior |nope surpass |nope surpasse |nope transparency |nope tremendous |nope tremendously |nope unmatched |nope unparalleled |nope unsurpassed |nope upturn |nope valuable |nope versatile |nope versatility |nope vibrancy |nope vibrant |nope win |nope winner |nope worthy |nor able |nor abundance |nor abundant |nor acclaim |nor accomplish |nor accomplishment |nor achieve |nor achievement |nor adequately |nor advancement |nor advance |nor advantage |nor advantageous |nor advantageously |nor alliance |nor assure |nor attain |nor attainment |nor attractive |nor attractiveness |nor beautiful |nor beautifully |nor beneficially |nor benefit |nor good |nor well |nor bolster |nor boom |nor boost |nor breakthrough |nor brilliant |nor charitable |nor collaborate |nor collaboration |nor collaborative |nor collaborator |nor compliment |nor complimentary |nor conclusive |nor conclusively |nor conducive |nor confident |nor constructive |nor constructively |nor courteous |nor creative |nor creatively |nor creativeness |nor creativity |nor delight |nor delightful |nor delightfully |nor dependability |nor dependable |nor desirable |nor desire |nor despite |nor destine |nor diligent |nor diligently |nor distinction |nor distinctive |nor distinctively |nor distinctiveness |nor dream |nor easy |nor easily |nor efficiency |nor efficient |nor efficiently |nor empower |nor enable |nor encourage |nor encouragement |nor enhance |nor enhancement |nor enjoy |nor enjoyable |nor enjoyably |nor enjoyment |nor enthusiasm |nor enthusiastic |nor enthusiastically |nor excellence |nor excellent |nor excel |nor exceptional |nor exceptionally |nor excite |nor excitement |nor exciting |nor exclusive |nor exclusively |nor exclusiveness |nor exclusivity |nor exemplary |nor fantastic |nor favorable |nor favorably |nor favor |nor favorite |nor friendly |nor gain |nor great |nor greatly |nor greatness |nor happy |nor happily |nor happiness |nor high |nor honor |nor ideal |nor impress |nor impressed |nor impressive |nor impressively |nor improve |nor improvement |nor incredible |nor incredibly |nor influential |nor informative |nor ingenuity |nor innovate |nor innovation |nor innovative |nor innovativeness |nor innovator |nor insightful |nor inspiration |nor inspirational |nor integrity |nor invent |nor invention |nor inventive |nor inventiveness |nor inventor |nor leadership |nor lead |nor loyal |nor lucrative |nor meritorious |nor opportunity |nor optimistic |nor outperform |nor perfect |nor perfectly |nor pleasant |nor pleasantly |nor please |nor pleasure |nor plentiful |nor popular |nor popularity |nor positive |nor positively |nor preeminence |nor preeminent |nor premier |nor premiere |nor prestige |nor prestigious |nor proactive |nor proactively |nor proficiency |nor proficient |nor proficiently |nor profitability |nor profitable |nor profitably |nor progress |nor prosper |nor prosperity |nor prosperous |nor rebound |nor receptive |nor regain |nor resolve |nor revolutionize |nor reward |nor satisfaction |nor satisfactorily |nor satisfactory |nor satisfied |nor satisfie |nor satisfy |nor smooth |nor smoothly |nor solve |nor spectacular |nor spectacularly |nor stability |nor stabilization |nor stabilize |nor stable |nor strength |nor strengthen |nor strong |nor succeed |nor success |nor successful |nor successfully |nor superior |nor surpass |nor surpasse |nor transparency |nor tremendous |nor tremendously |nor unmatched |nor unparalleled |nor unsurpassed |nor upturn |nor valuable |nor versatile |nor versatility |nor vibrancy |nor vibrant |nor win |nor winner |nor worthy |not able |not abundance |not abundant |not acclaim |not accomplish |not accomplishment |not achieve |not achievement |not adequately |not advancement |not advance |not advantage |not advantageous |not advantageously |not alliance |not assure |not attain |not attainment |not attractive |not attractiveness |not beautiful |not beautifully |not beneficially |not benefit |not good |not well |not bolster |not boom |not boost |not breakthrough |not brilliant |not charitable |not collaborate |not collaboration |not collaborative |not collaborator |not compliment |not complimentary |not conclusive |not conclusively |not conducive |not confident |not constructive |not constructively |not courteous |not creative |not creatively |not creativeness |not creativity |not delight |not delightful |not delightfully |not dependability |not dependable |not desirable |not desire |not despite |not destine |not diligent |not diligently |not distinction |not distinctive |not distinctively |not distinctiveness |not dream |not easy |not easily |not efficiency |not efficient |not efficiently |not empower |not enable |not encourage |not encouragement |not enhance |not enhancement |not enjoy |not enjoyable |not enjoyably |not enjoyment |not enthusiasm |not enthusiastic |not enthusiastically |not excellence |not excellent |not excel |not exceptional |not exceptionally |not excite |not excitement |not exciting |not exclusive |not exclusively |not exclusiveness |not exclusivity |not exemplary |not fantastic |not favorable |not favorably |not favor |not favorite |not friendly |not gain |not great |not greatly |not greatness |not happy |not happily |not happiness |not high |not honor |not ideal |not impress |not impressed |not impressive |not impressively |not improve |not improvement |not incredible |not incredibly |not influential |not informative |not ingenuity |not innovate |not innovation |not innovative |not innovativeness |not innovator |not insightful |not inspiration |not inspirational |not integrity |not invent |not invention |not inventive |not inventiveness |not inventor |not leadership |not lead |not loyal |not lucrative |not meritorious |not opportunity |not optimistic |not outperform |not perfect |not perfectly |not pleasant |not pleasantly |not please |not pleasure |not plentiful |not popular |not popularity |not positive |not positively |not preeminence |not preeminent |not premier |not premiere |not prestige |not prestigious |not proactive |not proactively |not proficiency |not proficient |not proficiently |not profitability |not profitable |not profitably |not progress |not prosper |not prosperity |not prosperous |not rebound |not receptive |not regain |not resolve |not revolutionize |not reward |not satisfaction |not satisfactorily |not satisfactory |not satisfied |not satisfie |not satisfy |not smooth |not smoothly |not solve |not spectacular |not spectacularly |not stability |not stabilization |not stabilize |not stable |not strength |not strengthen |not strong |not succeed |not success |not successful |not successfully |not superior |not surpass |not surpasse |not transparency |not tremendous |not tremendously |not unmatched |not unparalleled |not unsurpassed |not upturn |not valuable |not versatile |not versatility |not vibrancy |not vibrant |not win |not winner |not worthy |nothing able |nothing abundance |nothing abundant |nothing acclaim |nothing accomplish |nothing accomplishment |nothing achieve |nothing achievement |nothing adequately |nothing advancement |nothing advance |nothing advantage |nothing advantageous |nothing advantageously |nothing alliance |nothing assure |nothing attain |nothing attainment |nothing attractive |nothing attractiveness |nothing beautiful |nothing beautifully |nothing beneficially |nothing benefit |nothing good |nothing well |nothing bolster |nothing boom |nothing boost |nothing breakthrough |nothing brilliant |nothing charitable |nothing collaborate |nothing collaboration |nothing collaborative |nothing collaborator |nothing compliment |nothing complimentary |nothing conclusive |nothing conclusively |nothing conducive |nothing confident |nothing constructive |nothing constructively |nothing courteous |nothing creative |nothing creatively |nothing creativeness |nothing creativity |nothing delight |nothing delightful |nothing delightfully |nothing dependability |nothing dependable |nothing desirable |nothing desire |nothing despite |nothing destine |nothing diligent |nothing diligently |nothing distinction |nothing distinctive |nothing distinctively |nothing distinctiveness |nothing dream |nothing easy |nothing easily |nothing efficiency |nothing efficient |nothing efficiently |nothing empower |nothing enable |nothing encourage |nothing encouragement |nothing enhance |nothing enhancement |nothing enjoy |nothing enjoyable |nothing enjoyably |nothing enjoyment |nothing enthusiasm |nothing enthusiastic |nothing enthusiastically |nothing excellence |nothing excellent |nothing excel |nothing exceptional |nothing exceptionally |nothing excite |nothing excitement |nothing exciting |nothing exclusive |nothing exclusively |nothing exclusiveness |nothing exclusivity |nothing exemplary |nothing fantastic |nothing favorable |nothing favorably |nothing favor |nothing favorite |nothing friendly |nothing gain |nothing great |nothing greatly |nothing greatness |nothing happy |nothing happily |nothing happiness |nothing high |nothing honor |nothing ideal |nothing impress |nothing impressed |nothing impressive |nothing impressively |nothing improve |nothing improvement |nothing incredible |nothing incredibly |nothing influential |nothing informative |nothing ingenuity |nothing innovate |nothing innovation |nothing innovative |nothing innovativeness |nothing innovator |nothing insightful |nothing inspiration |nothing inspirational |nothing integrity |nothing invent |nothing invention |nothing inventive |nothing inventiveness |nothing inventor |nothing leadership |nothing lead |nothing loyal |nothing lucrative |nothing meritorious |nothing opportunity |nothing optimistic |nothing outperform |nothing perfect |nothing perfectly |nothing pleasant |nothing pleasantly |nothing please |nothing pleasure |nothing plentiful |nothing popular |nothing popularity |nothing positive |nothing positively |nothing preeminence |nothing preeminent |nothing premier |nothing premiere |nothing prestige |nothing prestigious |nothing proactive |nothing proactively |nothing proficiency |nothing proficient |nothing proficiently |nothing profitability |nothing profitable |nothing profitably |nothing progress |nothing prosper |nothing prosperity |nothing prosperous |nothing rebound |nothing receptive |nothing regain |nothing resolve |nothing revolutionize |nothing reward |nothing satisfaction |nothing satisfactorily |nothing satisfactory |nothing satisfied |nothing satisfie |nothing satisfy |nothing smooth |nothing smoothly |nothing solve |nothing spectacular |nothing spectacularly |nothing stability |nothing stabilization |nothing stabilize |nothing stable |nothing strength |nothing strengthen |nothing strong |nothing succeed |nothing success |nothing successful |nothing successfully |nothing superior |nothing surpass |nothing surpasse |nothing transparency |nothing tremendous |nothing tremendously |nothing unmatched |nothing unparalleled |nothing unsurpassed |nothing upturn |nothing valuable |nothing versatile |nothing versatility |nothing vibrancy |nothing vibrant |nothing win |nothing winner |nothing worthy |nowhere able |nowhere abundance |nowhere abundant |nowhere acclaim |nowhere accomplish |nowhere accomplishment |nowhere achieve |nowhere achievement |nowhere adequately |nowhere advancement |nowhere advance |nowhere advantage |nowhere advantageous |nowhere advantageously |nowhere alliance |nowhere assure |nowhere attain |nowhere attainment |nowhere attractive |nowhere attractiveness |nowhere beautiful |nowhere beautifully |nowhere beneficially |nowhere benefit |nowhere good |nowhere well |nowhere bolster |nowhere boom |nowhere boost |nowhere breakthrough |nowhere brilliant |nowhere charitable |nowhere collaborate |nowhere collaboration |nowhere collaborative |nowhere collaborator |nowhere compliment |nowhere complimentary |nowhere conclusive |nowhere conclusively |nowhere conducive |nowhere confident |nowhere constructive |nowhere constructively |nowhere courteous |nowhere creative |nowhere creatively |nowhere creativeness |nowhere creativity |nowhere delight |nowhere delightful |nowhere delightfully |nowhere dependability |nowhere dependable |nowhere desirable |nowhere desire |nowhere despite |nowhere destine |nowhere diligent |nowhere diligently |nowhere distinction |nowhere distinctive |nowhere distinctively |nowhere distinctiveness |nowhere dream |nowhere easy |nowhere easily |nowhere efficiency |nowhere efficient |nowhere efficiently |nowhere empower |nowhere enable |nowhere encourage |nowhere encouragement |nowhere enhance |nowhere enhancement |nowhere enjoy |nowhere enjoyable |nowhere enjoyably |nowhere enjoyment |nowhere enthusiasm |nowhere enthusiastic |nowhere enthusiastically |nowhere excellence |nowhere excellent |nowhere excel |nowhere exceptional |nowhere exceptionally |nowhere excite |nowhere excitement |nowhere exciting |nowhere exclusive |nowhere exclusively |nowhere exclusiveness |nowhere exclusivity |nowhere exemplary |nowhere fantastic |nowhere favorable |nowhere favorably |nowhere favor |nowhere favorite |nowhere friendly |nowhere gain |nowhere great |nowhere greatly |nowhere greatness |nowhere happy |nowhere happily |nowhere happiness |nowhere high |nowhere honor |nowhere ideal |nowhere impress |nowhere impressed |nowhere impressive |nowhere impressively |nowhere improve |nowhere improvement |nowhere incredible |nowhere incredibly |nowhere influential |nowhere informative |nowhere ingenuity |nowhere innovate |nowhere innovation |nowhere innovative |nowhere innovativeness |nowhere innovator |nowhere insightful |nowhere inspiration |nowhere inspirational |nowhere integrity |nowhere invent |nowhere invention |nowhere inventive |nowhere inventiveness |nowhere inventor |nowhere leadership |nowhere lead |nowhere loyal |nowhere lucrative |nowhere meritorious |nowhere opportunity |nowhere optimistic |nowhere outperform |nowhere perfect |nowhere perfectly |nowhere pleasant |nowhere pleasantly |nowhere please |nowhere pleasure |nowhere plentiful |nowhere popular |nowhere popularity |nowhere positive |nowhere positively |nowhere preeminence |nowhere preeminent |nowhere premier |nowhere premiere |nowhere prestige |nowhere prestigious |nowhere proactive |nowhere proactively |nowhere proficiency |nowhere proficient |nowhere proficiently |nowhere profitability |nowhere profitable |nowhere profitably |nowhere progress |nowhere prosper |nowhere prosperity |nowhere prosperous |nowhere rebound |nowhere receptive |nowhere regain |nowhere resolve |nowhere revolutionize |nowhere reward |nowhere satisfaction |nowhere satisfactorily |nowhere satisfactory |nowhere satisfied |nowhere satisfie |nowhere satisfy |nowhere smooth |nowhere smoothly |nowhere solve |nowhere spectacular |nowhere spectacularly |nowhere stability |nowhere stabilization |nowhere stabilize |nowhere stable |nowhere strength |nowhere strengthen |nowhere strong |nowhere succeed |nowhere success |nowhere successful |nowhere successfully |nowhere superior |nowhere surpass |nowhere surpasse |nowhere transparency |nowhere tremendous |nowhere tremendously |nowhere unmatched |nowhere unparalleled |nowhere unsurpassed |nowhere upturn |nowhere valuable |nowhere versatile |nowhere versatility |nowhere vibrancy |nowhere vibrant |nowhere win |nowhere winner |nowhere worthy |ought not able |ought not abundance |ought not abundant |ought not acclaim |ought not accomplish |ought not accomplishment |ought not achieve |ought not achievement |ought not adequately |ought not advancement |ought not advance |ought not advantage |ought not advantageous |ought not advantageously |ought not alliance |ought not assure |ought not attain |ought not attainment |ought not attractive |ought not attractiveness |ought not beautiful |ought not beautifully |ought not beneficially |ought not benefit |ought not good |ought not well |ought not bolster |ought not boom |ought not boost |ought not breakthrough |ought not brilliant |ought not charitable |ought not collaborate |ought not collaboration |ought not collaborative |ought not collaborator |ought not compliment |ought not complimentary |ought not conclusive |ought not conclusively |ought not conducive |ought not confident |ought not constructive |ought not constructively |ought not courteous |ought not creative |ought not creatively |ought not creativeness |ought not creativity |ought not delight |ought not delightful |ought not delightfully |ought not dependability |ought not dependable |ought not desirable |ought not desire |ought not despite |ought not destine |ought not diligent |ought not diligently |ought not distinction |ought not distinctive |ought not distinctively |ought not distinctiveness |ought not dream |ought not easy |ought not easily |ought not efficiency |ought not efficient |ought not efficiently |ought not empower |ought not enable |ought not encourage |ought not encouragement |ought not enhance |ought not enhancement |ought not enjoy |ought not enjoyable |ought not enjoyably |ought not enjoyment |ought not enthusiasm |ought not enthusiastic |ought not enthusiastically |ought not excellence |ought not excellent |ought not excel |ought not exceptional |ought not exceptionally |ought not excite |ought not excitement |ought not exciting |ought not exclusive |ought not exclusively |ought not exclusiveness |ought not exclusivity |ought not exemplary |ought not fantastic |ought not favorable |ought not favorably |ought not favor |ought not favorite |ought not friendly |ought not gain |ought not great |ought not greatly |ought not greatness |ought not happy |ought not happily |ought not happiness |ought not high |ought not honor |ought not ideal |ought not impress |ought not impressed |ought not impressive |ought not impressively |ought not improve |ought not improvement |ought not incredible |ought not incredibly |ought not influential |ought not informative |ought not ingenuity |ought not innovate |ought not innovation |ought not innovative |ought not innovativeness |ought not innovator |ought not insightful |ought not inspiration |ought not inspirational |ought not integrity |ought not invent |ought not invention |ought not inventive |ought not inventiveness |ought not inventor |ought not leadership |ought not lead |ought not loyal |ought not lucrative |ought not meritorious |ought not opportunity |ought not optimistic |ought not outperform |ought not perfect |ought not perfectly |ought not pleasant |ought not pleasantly |ought not please |ought not pleasure |ought not plentiful |ought not popular |ought not popularity |ought not positive |ought not positively |ought not preeminence |ought not preeminent |ought not premier |ought not premiere |ought not prestige |ought not prestigious |ought not proactive |ought not proactively |ought not proficiency |ought not proficient |ought not proficiently |ought not profitability |ought not profitable |ought not profitably |ought not progress |ought not prosper |ought not prosperity |ought not prosperous |ought not rebound |ought not receptive |ought not regain |ought not resolve |ought not revolutionize |ought not reward |ought not satisfaction |ought not satisfactorily |ought not satisfactory |ought not satisfied |ought not satisfie |ought not satisfy |ought not smooth |ought not smoothly |ought not solve |ought not spectacular |ought not spectacularly |ought not stability |ought not stabilization |ought not stabilize |ought not stable |ought not strength |ought not strengthen |ought not strong |ought not succeed |ought not success |ought not successful |ought not successfully |ought not superior |ought not surpass |ought not surpasse |ought not transparency |ought not tremendous |ought not tremendously |ought not unmatched |ought not unparalleled |ought not unsurpassed |ought not upturn |ought not valuable |ought not versatile |ought not versatility |ought not vibrancy |ought not vibrant |ought not win |ought not winner |ought not worthy |shall not able |shall not abundance |shall not abundant |shall not acclaim |shall not accomplish |shall not accomplishment |shall not achieve |shall not achievement |shall not adequately |shall not advancement |shall not advance |shall not advantage |shall not advantageous |shall not advantageously |shall not alliance |shall not assure |shall not attain |shall not attainment |shall not attractive |shall not attractiveness |shall not beautiful |shall not beautifully |shall not beneficially |shall not benefit |shall not good |shall not well |shall not bolster |shall not boom |shall not boost |shall not breakthrough |shall not brilliant |shall not charitable |shall not collaborate |shall not collaboration |shall not collaborative |shall not collaborator |shall not compliment |shall not complimentary |shall not conclusive |shall not conclusively |shall not conducive |shall not confident |shall not constructive |shall not constructively |shall not courteous |shall not creative |shall not creatively |shall not creativeness |shall not creativity |shall not delight |shall not delightful |shall not delightfully |shall not dependability |shall not dependable |shall not desirable |shall not desire |shall not despite |shall not destine |shall not diligent |shall not diligently |shall not distinction |shall not distinctive |shall not distinctively |shall not distinctiveness |shall not dream |shall not easy |shall not easily |shall not efficiency |shall not efficient |shall not efficiently |shall not empower |shall not enable |shall not encourage |shall not encouragement |shall not enhance |shall not enhancement |shall not enjoy |shall not enjoyable |shall not enjoyably |shall not enjoyment |shall not enthusiasm |shall not enthusiastic |shall not enthusiastically |shall not excellence |shall not excellent |shall not excel |shall not exceptional |shall not exceptionally |shall not excite |shall not excitement |shall not exciting |shall not exclusive |shall not exclusively |shall not exclusiveness |shall not exclusivity |shall not exemplary |shall not fantastic |shall not favorable |shall not favorably |shall not favor |shall not favorite |shall not friendly |shall not gain |shall not great |shall not greatly |shall not greatness |shall not happy |shall not happily |shall not happiness |shall not high |shall not honor |shall not ideal |shall not impress |shall not impressed |shall not impressive |shall not impressively |shall not improve |shall not improvement |shall not incredible |shall not incredibly |shall not influential |shall not informative |shall not ingenuity |shall not innovate |shall not innovation |shall not innovative |shall not innovativeness |shall not innovator |shall not insightful |shall not inspiration |shall not inspirational |shall not integrity |shall not invent |shall not invention |shall not inventive |shall not inventiveness |shall not inventor |shall not leadership |shall not lead |shall not loyal |shall not lucrative |shall not meritorious |shall not opportunity |shall not optimistic |shall not outperform |shall not perfect |shall not perfectly |shall not pleasant |shall not pleasantly |shall not please |shall not pleasure |shall not plentiful |shall not popular |shall not popularity |shall not positive |shall not positively |shall not preeminence |shall not preeminent |shall not premier |shall not premiere |shall not prestige |shall not prestigious |shall not proactive |shall not proactively |shall not proficiency |shall not proficient |shall not proficiently |shall not profitability |shall not profitable |shall not profitably |shall not progress |shall not prosper |shall not prosperity |shall not prosperous |shall not rebound |shall not receptive |shall not regain |shall not resolve |shall not revolutionize |shall not reward |shall not satisfaction |shall not satisfactorily |shall not satisfactory |shall not satisfied |shall not satisfie |shall not satisfy |shall not smooth |shall not smoothly |shall not solve |shall not spectacular |shall not spectacularly |shall not stability |shall not stabilization |shall not stabilize |shall not stable |shall not strength |shall not strengthen |shall not strong |shall not succeed |shall not success |shall not successful |shall not successfully |shall not superior |shall not surpass |shall not surpasse |shall not transparency |shall not tremendous |shall not tremendously |shall not unmatched |shall not unparalleled |shall not unsurpassed |shall not upturn |shall not valuable |shall not versatile |shall not versatility |shall not vibrancy |shall not vibrant |shall not win |shall not winner |shall not worthy |should not able |should not abundance |should not abundant |should not acclaim |should not accomplish |should not accomplishment |should not achieve |should not achievement |should not adequately |should not advancement |should not advance |should not advantage |should not advantageous |should not advantageously |should not alliance |should not assure |should not attain |should not attainment |should not attractive |should not attractiveness |should not beautiful |should not beautifully |should not beneficially |should not benefit |should not good |should not well |should not bolster |should not boom |should not boost |should not breakthrough |should not brilliant |should not charitable |should not collaborate |should not collaboration |should not collaborative |should not collaborator |should not compliment |should not complimentary |should not conclusive |should not conclusively |should not conducive |should not confident |should not constructive |should not constructively |should not courteous |should not creative |should not creatively |should not creativeness |should not creativity |should not delight |should not delightful |should not delightfully |should not dependability |should not dependable |should not desirable |should not desire |should not despite |should not destine |should not diligent |should not diligently |should not distinction |should not distinctive |should not distinctively |should not distinctiveness |should not dream |should not easy |should not easily |should not efficiency |should not efficient |should not efficiently |should not empower |should not enable |should not encourage |should not encouragement |should not enhance |should not enhancement |should not enjoy |should not enjoyable |should not enjoyably |should not enjoyment |should not enthusiasm |should not enthusiastic |should not enthusiastically |should not excellence |should not excellent |should not excel |should not exceptional |should not exceptionally |should not excite |should not excitement |should not exciting |should not exclusive |should not exclusively |should not exclusiveness |should not exclusivity |should not exemplary |should not fantastic |should not favorable |should not favorably |should not favor |should not favorite |should not friendly |should not gain |should not great |should not greatly |should not greatness |should not happy |should not happily |should not happiness |should not high |should not honor |should not ideal |should not impress |should not impressed |should not impressive |should not impressively |should not improve |should not improvement |should not incredible |should not incredibly |should not influential |should not informative |should not ingenuity |should not innovate |should not innovation |should not innovative |should not innovativeness |should not innovator |should not insightful |should not inspiration |should not inspirational |should not integrity |should not invent |should not invention |should not inventive |should not inventiveness |should not inventor |should not leadership |should not lead |should not loyal |should not lucrative |should not meritorious |should not opportunity |should not optimistic |should not outperform |should not perfect |should not perfectly |should not pleasant |should not pleasantly |should not please |should not pleasure |should not plentiful |should not popular |should not popularity |should not positive |should not positively |should not preeminence |should not preeminent |should not premier |should not premiere |should not prestige |should not prestigious |should not proactive |should not proactively |should not proficiency |should not proficient |should not proficiently |should not profitability |should not profitable |should not profitably |should not progress |should not prosper |should not prosperity |should not prosperous |should not rebound |should not receptive |should not regain |should not resolve |should not revolutionize |should not reward |should not satisfaction |should not satisfactorily |should not satisfactory |should not satisfied |should not satisfie |should not satisfy |should not smooth |should not smoothly |should not solve |should not spectacular |should not spectacularly |should not stability |should not stabilization |should not stabilize |should not stable |should not strength |should not strengthen |should not strong |should not succeed |should not success |should not successful |should not successfully |should not superior |should not surpass |should not surpasse |should not transparency |should not tremendous |should not tremendously |should not unmatched |should not unparalleled |should not unsurpassed |should not upturn |should not valuable |should not versatile |should not versatility |should not vibrancy |should not vibrant |should not win |should not winner |should not worthy |without able |without abundance |without abundant |without acclaim |without accomplish |without accomplishment |without achieve |without achievement |without adequately |without advancement |without advance |without advantage |without advantageous |without advantageously |without alliance |without assure |without attain |without attainment |without attractive |without attractiveness |without beautiful |without beautifully |without beneficially |without benefit |without good |without well |without bolster |without boom |without boost |without breakthrough |without brilliant |without charitable |without collaborate |without collaboration |without collaborative |without collaborator |without compliment |without complimentary |without conclusive |without conclusively |without conducive |without confident |without constructive |without constructively |without courteous |without creative |without creatively |without creativeness |without creativity |without delight |without delightful |without delightfully |without dependability |without dependable |without desirable |without desire |without despite |without destine |without diligent |without diligently |without distinction |without distinctive |without distinctively |without distinctiveness |without dream |without easy |without easily |without efficiency |without efficient |without efficiently |without empower |without enable |without encourage |without encouragement |without enhance |without enhancement |without enjoy |without enjoyable |without enjoyably |without enjoyment |without enthusiasm |without enthusiastic |without enthusiastically |without excellence |without excellent |without excel |without exceptional |without exceptionally |without excite |without excitement |without exciting |without exclusive |without exclusively |without exclusiveness |without exclusivity |without exemplary |without fantastic |without favorable |without favorably |without favor |without favorite |without friendly |without gain |without great |without greatly |without greatness |without happy |without happily |without happiness |without high |without honor |without ideal |without impress |without impressed |without impressive |without impressively |without improve |without improvement |without incredible |without incredibly |without influential |without informative |without ingenuity |without innovate |without innovation |without innovative |without innovativeness |without innovator |without insightful |without inspiration |without inspirational |without integrity |without invent |without invention |without inventive |without inventiveness |without inventor |without leadership |without lead |without loyal |without lucrative |without meritorious |without opportunity |without optimistic |without outperform |without perfect |without perfectly |without pleasant |without pleasantly |without please |without pleasure |without plentiful |without popular |without popularity |without positive |without positively |without preeminence |without preeminent |without premier |without premiere |without prestige |without prestigious |without proactive |without proactively |without proficiency |without proficient |without proficiently |without profitability |without profitable |without profitably |without progress |without prosper |without prosperity |without prosperous |without rebound |without receptive |without regain |without resolve |without revolutionize |without reward |without satisfaction |without satisfactorily |without satisfactory |without satisfied |without satisfie |without satisfy |without smooth |without smoothly |without solve |without spectacular |without spectacularly |without stability |without stabilization |without stabilize |without stable |without strength |without strengthen |without strong |without succeed |without success |without successful |without successfully |without superior |without surpass |without surpasse |without transparency |without tremendous |without tremendously |without unmatched |without unparalleled |without unsurpassed |without upturn |without valuable |without versatile |without versatility |without vibrancy |without vibrant |without win |without winner |without worthy |will not able |will not abundance |will not abundant |will not acclaim |will not accomplish |will not accomplishment |will not achieve |will not achievement |will not adequately |will not advancement |will not advance |will not advantage |will not advantageous |will not advantageously |will not alliance |will not assure |will not attain |will not attainment |will not attractive |will not attractiveness |will not beautiful |will not beautifully |will not beneficially |will not benefit |will not good |will not well |will not bolster |will not boom |will not boost |will not breakthrough |will not brilliant |will not charitable |will not collaborate |will not collaboration |will not collaborative |will not collaborator |will not compliment |will not complimentary |will not conclusive |will not conclusively |will not conducive |will not confident |will not constructive |will not constructively |will not courteous |will not creative |will not creatively |will not creativeness |will not creativity |will not delight |will not delightful |will not delightfully |will not dependability |will not dependable |will not desirable |will not desire |will not despite |will not destine |will not diligent |will not diligently |will not distinction |will not distinctive |will not distinctively |will not distinctiveness |will not dream |will not easy |will not easily |will not efficiency |will not efficient |will not efficiently |will not empower |will not enable |will not encourage |will not encouragement |will not enhance |will not enhancement |will not enjoy |will not enjoyable |will not enjoyably |will not enjoyment |will not enthusiasm |will not enthusiastic |will not enthusiastically |will not excellence |will not excellent |will not excel |will not exceptional |will not exceptionally |will not excite |will not excitement |will not exciting |will not exclusive |will not exclusively |will not exclusiveness |will not exclusivity |will not exemplary |will not fantastic |will not favorable |will not favorably |will not favor |will not favorite |will not friendly |will not gain |will not great |will not greatly |will not greatness |will not happy |will not happily |will not happiness |will not high |will not honor |will not ideal |will not impress |will not impressed |will not impressive |will not impressively |will not improve |will not improvement |will not incredible |will not incredibly |will not influential |will not informative |will not ingenuity |will not innovate |will not innovation |will not innovative |will not innovativeness |will not innovator |will not insightful |will not inspiration |will not inspirational |will not integrity |will not invent |will not invention |will not inventive |will not inventiveness |will not inventor |will not leadership |will not lead |will not loyal |will not lucrative |will not meritorious |will not opportunity |will not optimistic |will not outperform |will not perfect |will not perfectly |will not pleasant |will not pleasantly |will not please |will not pleasure |will not plentiful |will not popular |will not popularity |will not positive |will not positively |will not preeminence |will not preeminent |will not premier |will not premiere |will not prestige |will not prestigious |will not proactive |will not proactively |will not proficiency |will not proficient |will not proficiently |will not profitability |will not profitable |will not profitably |will not progress |will not prosper |will not prosperity |will not prosperous |will not rebound |will not receptive |will not regain |will not resolve |will not revolutionize |will not reward |will not satisfaction |will not satisfactorily |will not satisfactory |will not satisfied |will not satisfie |will not satisfy |will not smooth |will not smoothly |will not solve |will not spectacular |will not spectacularly |will not stability |will not stabilization |will not stabilize |will not stable |will not strength |will not strengthen |will not strong |will not succeed |will not success |will not successful |will not successfully |will not superior |will not surpass |will not surpasse |will not transparency |will not tremendous |will not tremendously |will not unmatched |will not unparalleled |will not unsurpassed |will not upturn |will not valuable |will not versatile |will not versatility |will not vibrancy |will not vibrant |will not win |will not winner |will not worthy |would not able |would not abundance |would not abundant |would not acclaim |would not accomplish |would not accomplishment |would not achieve |would not achievement |would not adequately |would not advancement |would not advance |would not advantage |would not advantageous |would not advantageously |would not alliance |would not assure |would not attain |would not attainment |would not attractive |would not attractiveness |would not beautiful |would not beautifully |would not beneficially |would not benefit |would not good |would not well |would not bolster |would not boom |would not boost |would not breakthrough |would not brilliant |would not charitable |would not collaborate |would not collaboration |would not collaborative |would not collaborator |would not compliment |would not complimentary |would not conclusive |would not conclusively |would not conducive |would not confident |would not constructive |would not constructively |would not courteous |would not creative |would not creatively |would not creativeness |would not creativity |would not delight |would not delightful |would not delightfully |would not dependability |would not dependable |would not desirable |would not desire |would not despite |would not destine |would not diligent |would not diligently |would not distinction |would not distinctive |would not distinctively |would not distinctiveness |would not dream |would not easy |would not easily |would not efficiency |would not efficient |would not efficiently |would not empower |would not enable |would not encourage |would not encouragement |would not enhance |would not enhancement |would not enjoy |would not enjoyable |would not enjoyably |would not enjoyment |would not enthusiasm |would not enthusiastic |would not enthusiastically |would not excellence |would not excellent |would not excel |would not exceptional |would not exceptionally |would not excite |would not excitement |would not exciting |would not exclusive |would not exclusively |would not exclusiveness |would not exclusivity |would not exemplary |would not fantastic |would not favorable |would not favorably |would not favor |would not favorite |would not friendly |would not gain |would not great |would not greatly |would not greatness |would not happy |would not happily |would not happiness |would not high |would not honor |would not ideal |would not impress |would not impressed |would not impressive |would not impressively |would not improve |would not improvement |would not incredible |would not incredibly |would not influential |would not informative |would not ingenuity |would not innovate |would not innovation |would not innovative |would not innovativeness |would not innovator |would not insightful |would not inspiration |would not inspirational |would not integrity |would not invent |would not invention |would not inventive |would not inventiveness |would not inventor |would not leadership |would not lead |would not loyal |would not lucrative |would not meritorious |would not opportunity |would not optimistic |would not outperform |would not perfect |would not perfectly |would not pleasant |would not pleasantly |would not please |would not pleasure |would not plentiful |would not popular |would not popularity |would not positive |would not positively |would not preeminence |would not preeminent |would not premier |would not premiere |would not prestige |would not prestigious |would not proactive |would not proactively |would not proficiency |would not proficient |would not proficiently |would not profitability |would not profitable |would not profitably |would not progress |would not prosper |would not prosperity |would not prosperous |would not rebound |would not receptive |would not regain |would not resolve |would not revolutionize |would not reward |would not satisfaction |would not satisfactorily |would not satisfactory |would not satisfied |would not satisfie |would not satisfy |would not smooth |would not smoothly |would not solve |would not spectacular |would not spectacularly |would not stability |would not stabilization |would not stabilize |would not stable |would not strength |would not strengthen |would not strong |would not succeed |would not success |would not successful |would not successfully |would not superior |would not surpass |would not surpasse |would not transparency |would not tremendous |would not tremendously |would not unmatched |would not unparalleled |would not unsurpassed |would not upturn |would not valuable |would not versatile |would not versatility |would not vibrancy |would not vibrant |would not win |would not winner |would not worthy |rarely able |rarely abundance |rarely abundant |rarely acclaim |rarely accomplish |rarely accomplishment |rarely achieve |rarely achievement |rarely adequately |rarely advancement |rarely advance |rarely advantage |rarely advantageous |rarely advantageously |rarely alliance |rarely assure |rarely attain |rarely attainment |rarely attractive |rarely attractiveness |rarely beautiful |rarely beautifully |rarely beneficially |rarely benefit |rarely good |rarely well |rarely bolster |rarely boom |rarely boost |rarely breakthrough |rarely brilliant |rarely charitable |rarely collaborate |rarely collaboration |rarely collaborative |rarely collaborator |rarely compliment |rarely complimentary |rarely conclusive |rarely conclusively |rarely conducive |rarely confident |rarely constructive |rarely constructively |rarely courteous |rarely creative |rarely creatively |rarely creativeness |rarely creativity |rarely delight |rarely delightful |rarely delightfully |rarely dependability |rarely dependable |rarely desirable |rarely desire |rarely despite |rarely destine |rarely diligent |rarely diligently |rarely distinction |rarely distinctive |rarely distinctively |rarely distinctiveness |rarely dream |rarely easy |rarely easily |rarely efficiency |rarely efficient |rarely efficiently |rarely empower |rarely enable |rarely encourage |rarely encouragement |rarely enhance |rarely enhancement |rarely enjoy |rarely enjoyable |rarely enjoyably |rarely enjoyment |rarely enthusiasm |rarely enthusiastic |rarely enthusiastically |rarely excellence |rarely excellent |rarely excel |rarely exceptional |rarely exceptionally |rarely excite |rarely excitement |rarely exciting |rarely exclusive |rarely exclusively |rarely exclusiveness |rarely exclusivity |rarely exemplary |rarely fantastic |rarely favorable |rarely favorably |rarely favor |rarely favorite |rarely friendly |rarely gain |rarely great |rarely greatly |rarely greatness |rarely happy |rarely happily |rarely happiness |rarely high |rarely honor |rarely ideal |rarely impress |rarely impressed |rarely impressive |rarely impressively |rarely improve |rarely improvement |rarely incredible |rarely incredibly |rarely influential |rarely informative |rarely ingenuity |rarely innovate |rarely innovation |rarely innovative |rarely innovativeness |rarely innovator |rarely insightful |rarely inspiration |rarely inspirational |rarely integrity |rarely invent |rarely invention |rarely inventive |rarely inventiveness |rarely inventor |rarely leadership |rarely lead |rarely loyal |rarely lucrative |rarely meritorious |rarely opportunity |rarely optimistic |rarely outperform |rarely perfect |rarely perfectly |rarely pleasant |rarely pleasantly |rarely please |rarely pleasure |rarely plentiful |rarely popular |rarely popularity |rarely positive |rarely positively |rarely preeminence |rarely preeminent |rarely premier |rarely premiere |rarely prestige |rarely prestigious |rarely proactive |rarely proactively |rarely proficiency |rarely proficient |rarely proficiently |rarely profitability |rarely profitable |rarely profitably |rarely progress |rarely prosper |rarely prosperity |rarely prosperous |rarely rebound |rarely receptive |rarely regain |rarely resolve |rarely revolutionize |rarely reward |rarely satisfaction |rarely satisfactorily |rarely satisfactory |rarely satisfied |rarely satisfie |rarely satisfy |rarely smooth |rarely smoothly |rarely solve |rarely spectacular |rarely spectacularly |rarely stability |rarely stabilization |rarely stabilize |rarely stable |rarely strength |rarely strengthen |rarely strong |rarely succeed |rarely success |rarely successful |rarely successfully |rarely superior |rarely surpass |rarely surpasse |rarely transparency |rarely tremendous |rarely tremendously |rarely unmatched |rarely unparalleled |rarely unsurpassed |rarely upturn |rarely valuable |rarely versatile |rarely versatility |rarely vibrancy |rarely vibrant |rarely win |rarely winner |rarely worthy |seldom able |seldom abundance |seldom abundant |seldom acclaim |seldom accomplish |seldom accomplishment |seldom achieve |seldom achievement |seldom adequately |seldom advancement |seldom advance |seldom advantage |seldom advantageous |seldom advantageously |seldom alliance |seldom assure |seldom attain |seldom attainment |seldom attractive |seldom attractiveness |seldom beautiful |seldom beautifully |seldom beneficially |seldom benefit |seldom good |seldom well |seldom bolster |seldom boom |seldom boost |seldom breakthrough |seldom brilliant |seldom charitable |seldom collaborate |seldom collaboration |seldom collaborative |seldom collaborator |seldom compliment |seldom complimentary |seldom conclusive |seldom conclusively |seldom conducive |seldom confident |seldom constructive |seldom constructively |seldom courteous |seldom creative |seldom creatively |seldom creativeness |seldom creativity |seldom delight |seldom delightful |seldom delightfully |seldom dependability |seldom dependable |seldom desirable |seldom desire |seldom despite |seldom destine |seldom diligent |seldom diligently |seldom distinction |seldom distinctive |seldom distinctively |seldom distinctiveness |seldom dream |seldom easy |seldom easily |seldom efficiency |seldom efficient |seldom efficiently |seldom empower |seldom enable |seldom encourage |seldom encouragement |seldom enhance |seldom enhancement |seldom enjoy |seldom enjoyable |seldom enjoyably |seldom enjoyment |seldom enthusiasm |seldom enthusiastic |seldom enthusiastically |seldom excellence |seldom excellent |seldom excel |seldom exceptional |seldom exceptionally |seldom excite |seldom excitement |seldom exciting |seldom exclusive |seldom exclusively |seldom exclusiveness |seldom exclusivity |seldom exemplary |seldom fantastic |seldom favorable |seldom favorably |seldom favor |seldom favorite |seldom friendly |seldom gain |seldom great |seldom greatly |seldom greatness |seldom happy |seldom happily |seldom happiness |seldom high |seldom honor |seldom ideal |seldom impress |seldom impressed |seldom impressive |seldom impressively |seldom improve |seldom improvement |seldom incredible |seldom incredibly |seldom influential |seldom informative |seldom ingenuity |seldom innovate |seldom innovation |seldom innovative |seldom innovativeness |seldom innovator |seldom insightful |seldom inspiration |seldom inspirational |seldom integrity |seldom invent |seldom invention |seldom inventive |seldom inventiveness |seldom inventor |seldom leadership |seldom lead |seldom loyal |seldom lucrative |seldom meritorious |seldom opportunity |seldom optimistic |seldom outperform |seldom perfect |seldom perfectly |seldom pleasant |seldom pleasantly |seldom please |seldom pleasure |seldom plentiful |seldom popular |seldom popularity |seldom positive |seldom positively |seldom preeminence |seldom preeminent |seldom premier |seldom premiere |seldom prestige |seldom prestigious |seldom proactive |seldom proactively |seldom proficiency |seldom proficient |seldom proficiently |seldom profitability |seldom profitable |seldom profitably |seldom progress |seldom prosper |seldom prosperity |seldom prosperous |seldom rebound |seldom receptive |seldom regain |seldom resolve |seldom revolutionize |seldom reward |seldom satisfaction |seldom satisfactorily |seldom satisfactory |seldom satisfied |seldom satisfie |seldom satisfy |seldom smooth |seldom smoothly |seldom solve |seldom spectacular |seldom spectacularly |seldom stability |seldom stabilization |seldom stabilize |seldom stable |seldom strength |seldom strengthen |seldom strong |seldom succeed |seldom success |seldom successful |seldom successfully |seldom superior |seldom surpass |seldom surpasse |seldom transparency |seldom tremendous |seldom tremendously |seldom unmatched |seldom unparalleled |seldom unsurpassed |seldom upturn |seldom valuable |seldom versatile |seldom versatility |seldom vibrancy |seldom vibrant |seldom win |seldom winner |seldom worthy |despite able |despite abundance |despite abundant |despite acclaim |despite accomplish |despite accomplishment |despite achieve |despite achievement |despite adequately |despite advancement |despite advance |despite advantage |despite advantageous |despite advantageously |despite alliance |despite assure |despite attain |despite attainment |despite attractive |despite attractiveness |despite beautiful |despite beautifully |despite beneficially |despite benefit |despite good |despite well |despite bolster |despite boom |despite boost |despite breakthrough |despite brilliant |despite charitable |despite collaborate |despite collaboration |despite collaborative |despite collaborator |despite compliment |despite complimentary |despite conclusive |despite conclusively |despite conducive |despite confident |despite constructive |despite constructively |despite courteous |despite creative |despite creatively |despite creativeness |despite creativity |despite delight |despite delightful |despite delightfully |despite dependability |despite dependable |despite desirable |despite desire |despite despite |despite destine |despite diligent |despite diligently |despite distinction |despite distinctive |despite distinctively |despite distinctiveness |despite dream |despite easy |despite easily |despite efficiency |despite efficient |despite efficiently |despite empower |despite enable |despite encourage |despite encouragement |despite enhance |despite enhancement |despite enjoy |despite enjoyable |despite enjoyably |despite enjoyment |despite enthusiasm |despite enthusiastic |despite enthusiastically |despite excellence |despite excellent |despite excel |despite exceptional |despite exceptionally |despite excite |despite excitement |despite exciting |despite exclusive |despite exclusively |despite exclusiveness |despite exclusivity |despite exemplary |despite fantastic |despite favorable |despite favorably |despite favor |despite favorite |despite friendly |despite gain |despite great |despite greatly |despite greatness |despite happy |despite happily |despite happiness |despite high |despite honor |despite ideal |despite impress |despite impressed |despite impressive |despite impressively |despite improve |despite improvement |despite incredible |despite incredibly |despite influential |despite informative |despite ingenuity |despite innovate |despite innovation |despite innovative |despite innovativeness |despite innovator |despite insightful |despite inspiration |despite inspirational |despite integrity |despite invent |despite invention |despite inventive |despite inventiveness |despite inventor |despite leadership |despite lead |despite loyal |despite lucrative |despite meritorious |despite opportunity |despite optimistic |despite outperform |despite perfect |despite perfectly |despite pleasant |despite pleasantly |despite please |despite pleasure |despite plentiful |despite popular |despite popularity |despite positive |despite positively |despite preeminence |despite preeminent |despite premier |despite premiere |despite prestige |despite prestigious |despite proactive |despite proactively |despite proficiency |despite proficient |despite proficiently |despite profitability |despite profitable |despite profitably |despite progress |despite prosper |despite prosperity |despite prosperous |despite rebound |despite receptive |despite regain |despite resolve |despite revolutionize |despite reward |despite satisfaction |despite satisfactorily |despite satisfactory |despite satisfied |despite satisfie |despite satisfy |despite smooth |despite smoothly |despite solve |despite spectacular |despite spectacularly |despite stability |despite stabilization |despite stabilize |despite stable |despite strength |despite strengthen |despite strong |despite succeed |despite success |despite successful |despite successfully |despite superior |despite surpass |despite surpasse |despite transparency |despite tremendous |despite tremendously |despite unmatched |despite unparalleled |despite unsurpassed |despite upturn |despite valuable |despite versatile |despite versatility |despite vibrancy |despite vibrant |despite win |despite winner |despite worthy |no able |no abundance |no abundant |no acclaim |no accomplish |no accomplishment |no achieve |no achievement |no adequately |no advancement |no advance |no advantage |no advantageous |no advantageously |no alliance |no assure |no attain |no attainment |no attractive |no attractiveness |no beautiful |no beautifully |no beneficially |no benefit |no good |no well |no bolster |no boom |no boost |no breakthrough |no brilliant |no charitable |no collaborate |no collaboration |no collaborative |no collaborator |no compliment |no complimentary |no conclusive |no conclusively |no conducive |no confident |no constructive |no constructively |no courteous |no creative |no creatively |no creativeness |no creativity |no delight |no delightful |no delightfully |no dependability |no dependable |no desirable |no desire |no despite |no destine |no diligent |no diligently |no distinction |no distinctive |no distinctively |no distinctiveness |no dream |no easy |no easily |no efficiency |no efficient |no efficiently |no empower |no enable |no encourage |no encouragement |no enhance |no enhancement |no enjoy |no enjoyable |no enjoyably |no enjoyment |no enthusiasm |no enthusiastic |no enthusiastically |no excellence |no excellent |no excel |no exceptional |no exceptionally |no excite |no excitement |no exciting |no exclusive |no exclusively |no exclusiveness |no exclusivity |no exemplary |no fantastic |no favorable |no favorably |no favor |no favorite |no friendly |no gain |no great |no greatly |no greatness |no happy |no happily |no happiness |no high |no honor |no ideal |no impress |no impressed |no impressive |no impressively |no improve |no improvement |no incredible |no incredibly |no influential |no informative |no ingenuity |no innovate |no innovation |no innovative |no innovativeness |no innovator |no insightful |no inspiration |no inspirational |no integrity |no invent |no invention |no inventive |no inventiveness |no inventor |no leadership |no lead |no loyal |no lucrative |no meritorious |no opportunity |no optimistic |no outperform |no perfect |no perfectly |no pleasant |no pleasantly |no please |no pleasure |no plentiful |no popular |no popularity |no positive |no positively |no preeminence |no preeminent |no premier |no premiere |no prestige |no prestigious |no proactive |no proactively |no proficiency |no proficient |no proficiently |no profitability |no profitable |no profitably |no progress |no prosper |no prosperity |no prosperous |no rebound |no receptive |no regain |no resolve |no revolutionize |no reward |no satisfaction |no satisfactorily |no satisfactory |no satisfied |no satisfie |no satisfy |no smooth |no smoothly |no solve |no spectacular |no spectacularly |no stability |no stabilization |no stabilize |no stable |no strength |no strengthen |no strong |no succeed |no success |no successful |no successfully |no superior |no surpass |no surpasse |no transparency |no tremendous |no tremendously |no unmatched |no unparalleled |no unsurpassed |no upturn |no valuable |no versatile |no versatility |no vibrancy |no vibrant |no win |no winner |no worthy |nobody able |nobody abundance |nobody abundant |nobody acclaim |nobody accomplish |nobody accomplishment |nobody achieve |nobody achievement |nobody adequately |nobody advancement |nobody advance |nobody advantage |nobody advantageous |nobody advantageously |nobody alliance |nobody assure |nobody attain |nobody attainment |nobody attractive |nobody attractiveness |nobody beautiful |nobody beautifully |nobody beneficially |nobody benefit |nobody good |nobody well |nobody bolster |nobody boom |nobody boost |nobody breakthrough |nobody brilliant |nobody charitable |nobody collaborate |nobody collaboration |nobody collaborative |nobody collaborator |nobody compliment |nobody complimentary |nobody conclusive |nobody conclusively |nobody conducive |nobody confident |nobody constructive |nobody constructively |nobody courteous |nobody creative |nobody creatively |nobody creativeness |nobody creativity |nobody delight |nobody delightful |nobody delightfully |nobody dependability |nobody dependable |nobody desirable |nobody desire |nobody despite |nobody destine |nobody diligent |nobody diligently |nobody distinction |nobody distinctive |nobody distinctively |nobody distinctiveness |nobody dream |nobody easy |nobody easily |nobody efficiency |nobody efficient |nobody efficiently |nobody empower |nobody enable |nobody encourage |nobody encouragement |nobody enhance |nobody enhancement |nobody enjoy |nobody enjoyable |nobody enjoyably |nobody enjoyment |nobody enthusiasm |nobody enthusiastic |nobody enthusiastically |nobody excellence |nobody excellent |nobody excel |nobody exceptional |nobody exceptionally |nobody excite |nobody excitement |nobody exciting |nobody exclusive |nobody exclusively |nobody exclusiveness |nobody exclusivity |nobody exemplary |nobody fantastic |nobody favorable |nobody favorably |nobody favor |nobody favorite |nobody friendly |nobody gain |nobody great |nobody greatly |nobody greatness |nobody happy |nobody happily |nobody happiness |nobody high |nobody honor |nobody ideal |nobody impress |nobody impressed |nobody impressive |nobody impressively |nobody improve |nobody improvement |nobody incredible |nobody incredibly |nobody influential |nobody informative |nobody ingenuity |nobody innovate |nobody innovation |nobody innovative |nobody innovativeness |nobody innovator |nobody insightful |nobody inspiration |nobody inspirational |nobody integrity |nobody invent |nobody invention |nobody inventive |nobody inventiveness |nobody inventor |nobody leadership |nobody lead |nobody loyal |nobody lucrative |nobody meritorious |nobody opportunity |nobody optimistic |nobody outperform |nobody perfect |nobody perfectly |nobody pleasant |nobody pleasantly |nobody please |nobody pleasure |nobody plentiful |nobody popular |nobody popularity |nobody positive |nobody positively |nobody preeminence |nobody preeminent |nobody premier |nobody premiere |nobody prestige |nobody prestigious |nobody proactive |nobody proactively |nobody proficiency |nobody proficient |nobody proficiently |nobody profitability |nobody profitable |nobody profitably |nobody progress |nobody prosper |nobody prosperity |nobody prosperous |nobody rebound |nobody receptive |nobody regain |nobody resolve |nobody revolutionize |nobody reward |nobody satisfaction |nobody satisfactorily |nobody satisfactory |nobody satisfied |nobody satisfie |nobody satisfy |nobody smooth |nobody smoothly |nobody solve |nobody spectacular |nobody spectacularly |nobody stability |nobody stabilization |nobody stabilize |nobody stable |nobody strength |nobody strengthen |nobody strong |nobody succeed |nobody success |nobody successful |nobody successfully |nobody superior |nobody surpass |nobody surpasse |nobody transparency |nobody tremendous |nobody tremendously |nobody unmatched |nobody unparalleled |nobody unsurpassed |nobody upturn |nobody valuable |nobody versatile |nobody versatility |nobody vibrancy |nobody vibrant |nobody win |nobody winner |nobody worthy '"
            ]
          },
          "execution_count": 185,
          "metadata": {},
          "output_type": "execute_result"
        }
      ],
      "source": [
        "pat_negated_poswords"
      ]
    },
    {
      "cell_type": "code",
      "execution_count": null,
      "id": "cd878ab0",
      "metadata": {
        "id": "cd878ab0"
      },
      "outputs": [],
      "source": [
        "# use str.count method to count occurences of words\n",
        "df_zacks['num_negated_neg_words'] = df_zacks['arguments_clean_processed_w_stopwords'].str.count(pat_negated_negwords)\n",
        "df_zacks['num_negated_pos_words'] = df_zacks['arguments_clean_processed_w_stopwords'].str.count(pat_negated_poswords)\n",
        "df_zacks['doc_len'] = df_zacks['arguments_clean_processed_no_stopwords'].apply(lambda x: len(x.split()))"
      ]
    },
    {
      "cell_type": "code",
      "execution_count": null,
      "id": "OJxLumDR-xCC",
      "metadata": {
        "colab": {
          "base_uri": "https://localhost:8080/"
        },
        "id": "OJxLumDR-xCC",
        "outputId": "41cbcbc8-bf1c-4d5a-c13d-4cd7e91df7f2"
      },
      "outputs": [
        {
          "data": {
            "text/plain": [
              "0    439\n",
              "1      4\n",
              "Name: num_negated_pos_words, dtype: int64"
            ]
          },
          "execution_count": 187,
          "metadata": {},
          "output_type": "execute_result"
        }
      ],
      "source": [
        "df_zacks['num_negated_pos_words'].value_counts()"
      ]
    },
    {
      "cell_type": "code",
      "execution_count": null,
      "id": "G3cBKVVLEvK5",
      "metadata": {
        "colab": {
          "base_uri": "https://localhost:8080/"
        },
        "id": "G3cBKVVLEvK5",
        "outputId": "e0d37b0c-51bb-42df-88d1-541a1b242dce"
      },
      "outputs": [
        {
          "data": {
            "text/plain": [
              "0    443\n",
              "Name: num_negated_neg_words, dtype: int64"
            ]
          },
          "execution_count": 188,
          "metadata": {},
          "output_type": "execute_result"
        }
      ],
      "source": [
        "df_zacks['num_negated_neg_words'].value_counts()"
      ]
    },
    {
      "cell_type": "code",
      "execution_count": null,
      "id": "SZsWD4VgGXf6",
      "metadata": {
        "id": "SZsWD4VgGXf6"
      },
      "outputs": [],
      "source": [
        "# when one word is detected negated, it means the opposite should +1, while itself should - 1\n",
        "df_zacks['num_pos_words_negated'] = df_zacks['num_pos_words'] + df_zacks['num_negated_neg_words'] - df_zacks['num_negated_pos_words']\n",
        "df_zacks['num_neg_words_negated'] = df_zacks['num_neg_words'] + df_zacks['num_negated_pos_words'] - df_zacks['num_negated_neg_words']"
      ]
    },
    {
      "cell_type": "code",
      "execution_count": null,
      "id": "58dbae1d",
      "metadata": {
        "id": "58dbae1d"
      },
      "outputs": [],
      "source": [
        "df_zacks['score_1_negated'] = (df_zacks['num_pos_words_negated']) / df_zacks['doc_len']\n",
        "df_zacks['score_2_negated'] = (df_zacks['num_pos_words_negated']) / (df_zacks['num_pos_words_negated'] + df_zacks['num_neg_words_negated'] + 1)\n",
        "df_zacks['score_3_negated'] = (df_zacks['num_pos_words_negated']- df_zacks['num_neg_words_negated']) / (df_zacks['num_pos_words_negated'] + df_zacks['num_neg_words_negated'] + 1)"
      ]
    },
    {
      "cell_type": "code",
      "execution_count": null,
      "id": "zjHzhzva6uPB",
      "metadata": {
        "colab": {
          "base_uri": "https://localhost:8080/"
        },
        "id": "zjHzhzva6uPB",
        "outputId": "aeec04da-4428-4d88-d3bb-f3f2db1a9d3b"
      },
      "outputs": [
        {
          "name": "stdout",
          "output_type": "stream",
          "text": [
            "Sorting by score1, the label counts of top 100 positive arguments:\n",
            "buy     70\n",
            "sell    30\n",
            "Name: label, dtype: int64\n",
            "Sorting by score2, the label counts of top 100 positive arguments:\n",
            "buy     76\n",
            "sell    24\n",
            "Name: label, dtype: int64\n",
            "Sorting by score3, the label counts of top 100 positive arguments:\n",
            "buy     75\n",
            "sell    25\n",
            "Name: label, dtype: int64\n",
            "Sorting by score1, the label counts of top 100 positive arguments:\n",
            "buy     70\n",
            "sell    30\n",
            "Name: label, dtype: int64\n",
            "Sorting by score2_negated, the label counts of top 100 positive arguments:\n",
            "buy     76\n",
            "sell    24\n",
            "Name: label, dtype: int64\n",
            "Sorting by score3_negated, the label counts of top 100 positive arguments:\n",
            "buy     75\n",
            "sell    25\n",
            "Name: label, dtype: int64\n"
          ]
        }
      ],
      "source": [
        "df_sortedBy_score_1 = df_zacks.sort_values('score_1', ascending=False, ignore_index=False).reset_index()\n",
        "print(f'Sorting by score1, the label counts of top 100 positive arguments:')\n",
        "print(df_sortedBy_score_1['label'][:100].value_counts())\n",
        "df_sortedBy_score_2 = df_zacks.sort_values('score_2', ascending=False, ignore_index=False).reset_index()\n",
        "print(f'Sorting by score2, the label counts of top 100 positive arguments:')\n",
        "print(df_sortedBy_score_2['label'][:100].value_counts())\n",
        "df_sortedBy_score_3 = df_zacks.sort_values('score_3', ascending=False, ignore_index=False).reset_index()\n",
        "print(f'Sorting by score3, the label counts of top 100 positive arguments:')\n",
        "print(df_sortedBy_score_3['label'][:100].value_counts())\n",
        "df_sortedBy_score_1_negated = df_zacks.sort_values('score_1_negated', ascending=False, ignore_index=False).reset_index()\n",
        "print(f'Sorting by score1, the label counts of top 100 positive arguments:')\n",
        "print(df_sortedBy_score_1_negated['label'][:100].value_counts())\n",
        "df_sortedBy_score_2_negated = df_zacks.sort_values('score_2_negated', ascending=False, ignore_index=False).reset_index()\n",
        "print(f'Sorting by score2_negated, the label counts of top 100 positive arguments:')\n",
        "print(df_sortedBy_score_2_negated['label'][:100].value_counts())\n",
        "df_sortedBy_score_3_negated = df_zacks.sort_values('score_3_negated', ascending=False, ignore_index=False).reset_index()\n",
        "print(f'Sorting by score3_negated, the label counts of top 100 positive arguments:')\n",
        "print(df_sortedBy_score_3_negated['label'][:100].value_counts())"
      ]
    },
    {
      "cell_type": "markdown",
      "id": "DnAmiDn4Ls3S",
      "metadata": {
        "id": "DnAmiDn4Ls3S"
      },
      "source": [
        "# **Q1 Summary**\n",
        "From the result above, we can see score2 has the best performance. While we comparing scores with negated scores, in this case, there is no difference, that is because few negated word is detected (at most one negated word in each comments, and most of the comments have no negated words), so the influence is too slight to be observed. In practical, I think negated process makes the result more accurate, while it consumes more time. It is hard to draw a conclusion whether score2 performs better than score3, because using score3, it has only one less \"buy\" than score2, which could be easily affected by the quality, volume of the dataset."
      ]
    },
    {
      "cell_type": "markdown",
      "id": "c0cvX4ShaSKk",
      "metadata": {
        "id": "c0cvX4ShaSKk"
      },
      "source": [
        "# **Q2**"
      ]
    },
    {
      "cell_type": "code",
      "execution_count": null,
      "id": "1M4LGHoLaQ6q",
      "metadata": {
        "colab": {
          "base_uri": "https://localhost:8080/",
          "height": 641
        },
        "id": "1M4LGHoLaQ6q",
        "outputId": "654b8e95-24b3-450e-b654-81fd33141435"
      },
      "outputs": [
        {
          "data": {
            "text/html": [
              "\n",
              "  <div id=\"df-5887534e-4560-4df7-ac73-f1f0a8129449\">\n",
              "    <div class=\"colab-df-container\">\n",
              "      <div>\n",
              "<style scoped>\n",
              "    .dataframe tbody tr th:only-of-type {\n",
              "        vertical-align: middle;\n",
              "    }\n",
              "\n",
              "    .dataframe tbody tr th {\n",
              "        vertical-align: top;\n",
              "    }\n",
              "\n",
              "    .dataframe thead th {\n",
              "        text-align: right;\n",
              "    }\n",
              "</style>\n",
              "<table border=\"1\" class=\"dataframe\">\n",
              "  <thead>\n",
              "    <tr style=\"text-align: right;\">\n",
              "      <th></th>\n",
              "      <th>ID</th>\n",
              "      <th>Company Name</th>\n",
              "      <th>Date</th>\n",
              "      <th>Description</th>\n",
              "      <th>Industry</th>\n",
              "      <th>Industry2</th>\n",
              "    </tr>\n",
              "  </thead>\n",
              "  <tbody>\n",
              "    <tr>\n",
              "      <th>0</th>\n",
              "      <td>1</td>\n",
              "      <td>Enclarity Inc</td>\n",
              "      <td>2005-01-01</td>\n",
              "      <td>Enclarity, Inc. is a United States-based healt...</td>\n",
              "      <td>Information Technology</td>\n",
              "      <td>Computer Software and Services</td>\n",
              "    </tr>\n",
              "    <tr>\n",
              "      <th>1</th>\n",
              "      <td>2</td>\n",
              "      <td>Ocean Entertainment Inc</td>\n",
              "      <td>2014-01-16</td>\n",
              "      <td>Ocean Entertainment Inc. is introducing the fi...</td>\n",
              "      <td>Non-High Technology</td>\n",
              "      <td>Consumer Related</td>\n",
              "    </tr>\n",
              "    <tr>\n",
              "      <th>2</th>\n",
              "      <td>3</td>\n",
              "      <td>Ocean Entertainment Inc</td>\n",
              "      <td>2014-01-16</td>\n",
              "      <td>Ocean Entertainment Inc. is introducing the fi...</td>\n",
              "      <td>Non-High Technology</td>\n",
              "      <td>Consumer Related</td>\n",
              "    </tr>\n",
              "    <tr>\n",
              "      <th>3</th>\n",
              "      <td>4</td>\n",
              "      <td>Hengyang Jinzeli Special Allop Co Ltd</td>\n",
              "      <td>1999-12-01</td>\n",
              "      <td>Hengyang Jinzeli Special Alloy Co., Ltd. is a ...</td>\n",
              "      <td>Non-High Technology</td>\n",
              "      <td>Industrial/Energy</td>\n",
              "    </tr>\n",
              "    <tr>\n",
              "      <th>4</th>\n",
              "      <td>5</td>\n",
              "      <td>Verge Solutions LLC</td>\n",
              "      <td>2001-01-01</td>\n",
              "      <td>Verge Solutions LLC is a United States-based c...</td>\n",
              "      <td>Information Technology</td>\n",
              "      <td>Computer Software and Services</td>\n",
              "    </tr>\n",
              "    <tr>\n",
              "      <th>...</th>\n",
              "      <td>...</td>\n",
              "      <td>...</td>\n",
              "      <td>...</td>\n",
              "      <td>...</td>\n",
              "      <td>...</td>\n",
              "      <td>...</td>\n",
              "    </tr>\n",
              "    <tr>\n",
              "      <th>60084</th>\n",
              "      <td>60085</td>\n",
              "      <td>Knox Holding Corp Co</td>\n",
              "      <td>2018-07-11</td>\n",
              "      <td>Knox Co Holding Corp is a United States-based ...</td>\n",
              "      <td>Information Technology</td>\n",
              "      <td>Internet Specific</td>\n",
              "    </tr>\n",
              "    <tr>\n",
              "      <th>60085</th>\n",
              "      <td>60086</td>\n",
              "      <td>Koda Uinta Holdings LLC</td>\n",
              "      <td>2017-02-27</td>\n",
              "      <td>Koda Uinta Holdings LLC is a United States-bas...</td>\n",
              "      <td>Non-High Technology</td>\n",
              "      <td>Industrial/Energy</td>\n",
              "    </tr>\n",
              "    <tr>\n",
              "      <th>60086</th>\n",
              "      <td>60087</td>\n",
              "      <td>SolarWorks! Trading BV</td>\n",
              "      <td>2018-01-01</td>\n",
              "      <td>SolarWorks! develops, manufactures and markets...</td>\n",
              "      <td>Non-High Technology</td>\n",
              "      <td>Industrial/Energy</td>\n",
              "    </tr>\n",
              "    <tr>\n",
              "      <th>60087</th>\n",
              "      <td>60088</td>\n",
              "      <td>Wuhan Qizhong Meiwei Technology Co Ltd</td>\n",
              "      <td>2018-06-04</td>\n",
              "      <td>Wuhan Qizhong Meiwei Technology Co., Ltd. is a...</td>\n",
              "      <td>Information Technology</td>\n",
              "      <td>Internet Specific</td>\n",
              "    </tr>\n",
              "    <tr>\n",
              "      <th>60088</th>\n",
              "      <td>60089</td>\n",
              "      <td>Xbiome Co Ltd</td>\n",
              "      <td>2017-11-06</td>\n",
              "      <td>Shenzhen Xbiome Biotech Co Ltd is a company en...</td>\n",
              "      <td>Medical/Health/Life Science</td>\n",
              "      <td>Medical/Health</td>\n",
              "    </tr>\n",
              "  </tbody>\n",
              "</table>\n",
              "<p>60089 rows × 6 columns</p>\n",
              "</div>\n",
              "      <button class=\"colab-df-convert\" onclick=\"convertToInteractive('df-5887534e-4560-4df7-ac73-f1f0a8129449')\"\n",
              "              title=\"Convert this dataframe to an interactive table.\"\n",
              "              style=\"display:none;\">\n",
              "        \n",
              "  <svg xmlns=\"http://www.w3.org/2000/svg\" height=\"24px\"viewBox=\"0 0 24 24\"\n",
              "       width=\"24px\">\n",
              "    <path d=\"M0 0h24v24H0V0z\" fill=\"none\"/>\n",
              "    <path d=\"M18.56 5.44l.94 2.06.94-2.06 2.06-.94-2.06-.94-.94-2.06-.94 2.06-2.06.94zm-11 1L8.5 8.5l.94-2.06 2.06-.94-2.06-.94L8.5 2.5l-.94 2.06-2.06.94zm10 10l.94 2.06.94-2.06 2.06-.94-2.06-.94-.94-2.06-.94 2.06-2.06.94z\"/><path d=\"M17.41 7.96l-1.37-1.37c-.4-.4-.92-.59-1.43-.59-.52 0-1.04.2-1.43.59L10.3 9.45l-7.72 7.72c-.78.78-.78 2.05 0 2.83L4 21.41c.39.39.9.59 1.41.59.51 0 1.02-.2 1.41-.59l7.78-7.78 2.81-2.81c.8-.78.8-2.07 0-2.86zM5.41 20L4 18.59l7.72-7.72 1.47 1.35L5.41 20z\"/>\n",
              "  </svg>\n",
              "      </button>\n",
              "      \n",
              "  <style>\n",
              "    .colab-df-container {\n",
              "      display:flex;\n",
              "      flex-wrap:wrap;\n",
              "      gap: 12px;\n",
              "    }\n",
              "\n",
              "    .colab-df-convert {\n",
              "      background-color: #E8F0FE;\n",
              "      border: none;\n",
              "      border-radius: 50%;\n",
              "      cursor: pointer;\n",
              "      display: none;\n",
              "      fill: #1967D2;\n",
              "      height: 32px;\n",
              "      padding: 0 0 0 0;\n",
              "      width: 32px;\n",
              "    }\n",
              "\n",
              "    .colab-df-convert:hover {\n",
              "      background-color: #E2EBFA;\n",
              "      box-shadow: 0px 1px 2px rgba(60, 64, 67, 0.3), 0px 1px 3px 1px rgba(60, 64, 67, 0.15);\n",
              "      fill: #174EA6;\n",
              "    }\n",
              "\n",
              "    [theme=dark] .colab-df-convert {\n",
              "      background-color: #3B4455;\n",
              "      fill: #D2E3FC;\n",
              "    }\n",
              "\n",
              "    [theme=dark] .colab-df-convert:hover {\n",
              "      background-color: #434B5C;\n",
              "      box-shadow: 0px 1px 3px 1px rgba(0, 0, 0, 0.15);\n",
              "      filter: drop-shadow(0px 1px 2px rgba(0, 0, 0, 0.3));\n",
              "      fill: #FFFFFF;\n",
              "    }\n",
              "  </style>\n",
              "\n",
              "      <script>\n",
              "        const buttonEl =\n",
              "          document.querySelector('#df-5887534e-4560-4df7-ac73-f1f0a8129449 button.colab-df-convert');\n",
              "        buttonEl.style.display =\n",
              "          google.colab.kernel.accessAllowed ? 'block' : 'none';\n",
              "\n",
              "        async function convertToInteractive(key) {\n",
              "          const element = document.querySelector('#df-5887534e-4560-4df7-ac73-f1f0a8129449');\n",
              "          const dataTable =\n",
              "            await google.colab.kernel.invokeFunction('convertToInteractive',\n",
              "                                                     [key], {});\n",
              "          if (!dataTable) return;\n",
              "\n",
              "          const docLinkHtml = 'Like what you see? Visit the ' +\n",
              "            '<a target=\"_blank\" href=https://colab.research.google.com/notebooks/data_table.ipynb>data table notebook</a>'\n",
              "            + ' to learn more about interactive tables.';\n",
              "          element.innerHTML = '';\n",
              "          dataTable['output_type'] = 'display_data';\n",
              "          await google.colab.output.renderOutput(dataTable, element);\n",
              "          const docLink = document.createElement('div');\n",
              "          docLink.innerHTML = docLinkHtml;\n",
              "          element.appendChild(docLink);\n",
              "        }\n",
              "      </script>\n",
              "    </div>\n",
              "  </div>\n",
              "  "
            ],
            "text/plain": [
              "          ID                            Company Name       Date  \\\n",
              "0          1                           Enclarity Inc 2005-01-01   \n",
              "1          2                 Ocean Entertainment Inc 2014-01-16   \n",
              "2          3                 Ocean Entertainment Inc 2014-01-16   \n",
              "3          4   Hengyang Jinzeli Special Allop Co Ltd 1999-12-01   \n",
              "4          5                     Verge Solutions LLC 2001-01-01   \n",
              "...      ...                                     ...        ...   \n",
              "60084  60085                    Knox Holding Corp Co 2018-07-11   \n",
              "60085  60086                 Koda Uinta Holdings LLC 2017-02-27   \n",
              "60086  60087                  SolarWorks! Trading BV 2018-01-01   \n",
              "60087  60088  Wuhan Qizhong Meiwei Technology Co Ltd 2018-06-04   \n",
              "60088  60089                           Xbiome Co Ltd 2017-11-06   \n",
              "\n",
              "                                             Description  \\\n",
              "0      Enclarity, Inc. is a United States-based healt...   \n",
              "1      Ocean Entertainment Inc. is introducing the fi...   \n",
              "2      Ocean Entertainment Inc. is introducing the fi...   \n",
              "3      Hengyang Jinzeli Special Alloy Co., Ltd. is a ...   \n",
              "4      Verge Solutions LLC is a United States-based c...   \n",
              "...                                                  ...   \n",
              "60084  Knox Co Holding Corp is a United States-based ...   \n",
              "60085  Koda Uinta Holdings LLC is a United States-bas...   \n",
              "60086  SolarWorks! develops, manufactures and markets...   \n",
              "60087  Wuhan Qizhong Meiwei Technology Co., Ltd. is a...   \n",
              "60088  Shenzhen Xbiome Biotech Co Ltd is a company en...   \n",
              "\n",
              "                          Industry                       Industry2  \n",
              "0           Information Technology  Computer Software and Services  \n",
              "1              Non-High Technology                Consumer Related  \n",
              "2              Non-High Technology                Consumer Related  \n",
              "3              Non-High Technology               Industrial/Energy  \n",
              "4           Information Technology  Computer Software and Services  \n",
              "...                            ...                             ...  \n",
              "60084       Information Technology               Internet Specific  \n",
              "60085          Non-High Technology               Industrial/Energy  \n",
              "60086          Non-High Technology               Industrial/Energy  \n",
              "60087       Information Technology               Internet Specific  \n",
              "60088  Medical/Health/Life Science                  Medical/Health  \n",
              "\n",
              "[60089 rows x 6 columns]"
            ]
          },
          "execution_count": 192,
          "metadata": {},
          "output_type": "execute_result"
        }
      ],
      "source": [
        "df_startups = pd.read_excel('startups.xlsx',sheet_name=1)\n",
        "df_startups"
      ]
    },
    {
      "cell_type": "code",
      "execution_count": null,
      "id": "f5fgJTqCn_yy",
      "metadata": {
        "id": "f5fgJTqCn_yy"
      },
      "outputs": [],
      "source": [
        "df_startups['Description_processed_w_stopwords'] =  df_startups['Description'].apply(preprocess_sent)\n",
        "df_startups['Description_processed_no_stopwords'] =  df_startups['Description_processed_w_stopwords'].apply(remove_stopwords)\n",
        "# To save time, I saved the processed .csv\n",
        "#df_startups.to_csv('startups_processed.csv')\n",
        "#df_startups = pd.read_csv('startups_processed.csv')"
      ]
    },
    {
      "cell_type": "code",
      "execution_count": null,
      "id": "o5qVkiIPdQYO",
      "metadata": {
        "colab": {
          "base_uri": "https://localhost:8080/"
        },
        "id": "o5qVkiIPdQYO",
        "outputId": "63f7913f-5ca4-458a-c7fb-ca1f90e86a87"
      },
      "outputs": [
        {
          "name": "stdout",
          "output_type": "stream",
          "text": [
            "--- 3.2794744968414307 seconds ---\n"
          ]
        }
      ],
      "source": [
        "from sklearn.feature_extraction.text import TfidfVectorizer\n",
        "import time\n",
        "\n",
        "start_time = time.time() # for tracknig time\n",
        "\n",
        "vectorizer = TfidfVectorizer() # This is a powerful function\n",
        "# see documentation https://scikit-learn.org/stable/modules/generated/sklearn.feature_extraction.text.TfidfVectorizer.html\n",
        "# it includes various default data preprocessing as well\n",
        "# e.g., tfidf_vectorizer = TfidfVectorizer(input='filename', stop_words='english')\n",
        "\n",
        "# main step to compute TF-IDF from a list of documents\n",
        "df_tfidf_desc = vectorizer.fit_transform(df_startups['Description_processed_no_stopwords'])\n",
        "\n",
        "# create output data frame\n",
        "#df_tfidf_desc_matrix = pd.DataFrame(response.toarray(),columns=vectorizer.get_feature_names())\n",
        "\n",
        "#df_tfidf_sklearn.head()\n",
        "\n",
        "print(\"--- %s seconds ---\" % (time.time() - start_time))"
      ]
    },
    {
      "cell_type": "code",
      "execution_count": null,
      "id": "q8i53kmLeh6-",
      "metadata": {
        "id": "q8i53kmLeh6-"
      },
      "outputs": [],
      "source": [
        "from sklearn.feature_extraction.text import CountVectorizer\n",
        "vectorizer = CountVectorizer()\n",
        "df_tf_desc = vectorizer.fit_transform(df_startups['Description_processed_no_stopwords'])"
      ]
    },
    {
      "cell_type": "code",
      "execution_count": null,
      "id": "FxSmWUEZh0mq",
      "metadata": {
        "colab": {
          "base_uri": "https://localhost:8080/"
        },
        "id": "FxSmWUEZh0mq",
        "outputId": "1d71c726-b485-474e-f096-7f7cfb9d2357"
      },
      "outputs": [
        {
          "name": "stdout",
          "output_type": "stream",
          "text": [
            "Fitting 5 folds for each of 60 candidates, totalling 300 fits\n",
            "--- 12170.401759386063 seconds ---\n"
          ]
        }
      ],
      "source": [
        "from sklearn.model_selection import GridSearchCV, KFold\n",
        "from lightgbm import LGBMClassifier\n",
        "start_time = time.time() # for tracknig time\n",
        "param_grid = {\n",
        "    'n_estimators': [20,60,100,140,180],\n",
        "    'max_depth': [4, 5, 6, 7],\n",
        "    'learning_rate':[0.05,0.1,0.2]\n",
        "}\n",
        "\n",
        "# Perform grid search with 5-fold cross-validation\n",
        "kf = KFold(n_splits=5, shuffle=True, random_state=42)\n",
        "tfidf_grid_search = GridSearchCV(LGBMClassifier(objective='multiclass', random_state=42), param_grid, cv=kf, scoring='accuracy',verbose=1)\n",
        "tfidf_grid_search.fit(df_tfidf_desc, df_startups['Industry'])\n",
        "print(\"--- %s seconds ---\" % (time.time() - start_time))"
      ]
    },
    {
      "cell_type": "code",
      "execution_count": null,
      "id": "TpD9uCimma7U",
      "metadata": {
        "colab": {
          "base_uri": "https://localhost:8080/"
        },
        "id": "TpD9uCimma7U",
        "outputId": "39f7a3f0-42bc-4a2c-9337-86c5b78a16ed"
      },
      "outputs": [
        {
          "name": "stdout",
          "output_type": "stream",
          "text": [
            "Report the best parameters and rmse for best result:\n",
            "##############################################################################################\n",
            "Grid Search Best Parameters:  {'learning_rate': 0.2, 'max_depth': 7, 'n_estimators': 180}\n",
            "Grid Search Best Accuracy: 0.8718734372436518\n",
            "##############################################################################################\n"
          ]
        }
      ],
      "source": [
        "print('Report the best parameters and rmse for best result:')\n",
        "print('##############################################################################################')\n",
        "print('Grid Search Best Parameters: ', tfidf_grid_search.best_params_)\n",
        "print('Grid Search Best accuracy: ', tfidf_grid_search.best_score_)\n",
        "print('##############################################################################################')"
      ]
    },
    {
      "cell_type": "code",
      "execution_count": null,
      "id": "Ktudd8pPm5ec",
      "metadata": {
        "id": "Ktudd8pPm5ec"
      },
      "outputs": [],
      "source": [
        "from sklearn.model_selection import GridSearchCV, KFold\n",
        "from lightgbm import LGBMClassifier\n",
        "import time\n",
        "start_time = time.time() # for tracknig time\n",
        "# I found that the data volume is quite huge, the parameters like n_estimators and max_depth\n",
        "# perform better while setting them larger, to verify whether my finding is correct, here I \n",
        "# tune the parameters a little bigger\n",
        "param_grid = {\n",
        "    'n_estimators': [100,150,200,250],\n",
        "    'max_depth': [5, 6, 7, 8],\n",
        "    'learning_rate':[0.05, 0.1, 0.2,0.3]\n",
        "}\n",
        "kf = KFold(n_splits=5, shuffle=True, random_state=42)\n",
        "tf_grid_search = GridSearchCV(LGBMClassifier(objective='multiclass', random_state=42), param_grid, cv=kf, scoring='accuracy', verbose=2)\n",
        "tf_grid_search.fit(df_tfidf_desc, df_startups['Industry'])\n",
        "print(\"--- %s seconds ---\" % (time.time() - start_time))"
      ]
    },
    {
      "cell_type": "code",
      "execution_count": null,
      "id": "WW3lsp38m4l9",
      "metadata": {
        "colab": {
          "base_uri": "https://localhost:8080/"
        },
        "id": "WW3lsp38m4l9",
        "outputId": "624618f0-1f73-4309-c769-dab5d271f819"
      },
      "outputs": [
        {
          "name": "stdout",
          "output_type": "stream",
          "text": [
            "Report the best parameters and rmse for best result:\n",
            "##############################################################################################\n",
            "Grid Search Best Parameters:  {'learning_rate': 0.2, 'max_depth': 7, 'n_estimators': 250}\n",
            "Grid Search Best Accuracy:  0.8728220393051929\n",
            "##############################################################################################\n"
          ]
        }
      ],
      "source": [
        "print('Report the best parameters and rmse for best result:')\n",
        "print('##############################################################################################')\n",
        "print('Grid Search Best Parameters: ', tf_grid_search.best_params_)\n",
        "print('Grid Search Best Accuracy: ', tf_grid_search.best_score_)\n",
        "print('##############################################################################################')"
      ]
    },
    {
      "cell_type": "markdown",
      "id": "_hA_uK7atqyL",
      "metadata": {
        "id": "_hA_uK7atqyL"
      },
      "source": [
        "# **Q2 Summary**\n",
        "\n",
        "I found that the data volume is quite huge, the parameters like n_estimators, max_depth and learning_rate all perfer to be larger. So I guess the best parameter could be a little larger than I used to set. To verify whether my guessing, in the second grid search, I tuned the parameters a little bigger. From above we can see, the learning rate keeps at 0.2, the max_depth keeps at 7, which shows they are likely to be the best or local best, as for n_estimators, it seems that it can still go bigger. Due to the limited time (as it took me **3 hours** for a grid search), I didn't make further attempts."
      ]
    },
    {
      "cell_type": "markdown",
      "id": "64CtvDidRnhp",
      "metadata": {
        "id": "64CtvDidRnhp"
      },
      "source": [
        "# **Q3**"
      ]
    },
    {
      "cell_type": "code",
      "execution_count": null,
      "id": "j9TidofOYLml",
      "metadata": {
        "id": "j9TidofOYLml"
      },
      "outputs": [],
      "source": [
        "from collections import Counter\n",
        "# I tried to use functions below to find those words that are not that usefule for clustering\n",
        "# Those words appear in half of the topic's top 15 words. I used tfidf as vector, tried\n",
        "# with limitation max_features = 1000 and without limitation, then picked uselesswords as below:\n",
        "'''\n",
        "uselesskeywords = ['commercialize', 'server', 'protocol', 'banking', 'company', 'service',\\\n",
        "                'provide', 'base', 'product', 'technology', 'carbon', 'interest',\\\n",
        "                '10', 'play', 'player', 'identity', 'profile', 'produce',\\\n",
        "                'card', 'east', 'switch']\n",
        "'''\n",
        "uselesskeywords = ['company',\n",
        "                  'product',\n",
        "                  'offer',\n",
        "                  'include',\n",
        "                  'base',\n",
        "                  'united',\n",
        "                  'service',\n",
        "                  'provide',]\n",
        "# Function is as below\n",
        "def common_words(sorted_words, nTop):\n",
        "# **parameters** sorted_words: sorted_words is the most frequent words of the result of LDA \n",
        "# **parameters** nTop: Select how many top words to detect, for example, if I select 15, and the length\n",
        "# of the sorted_words is 30, then it judges whether the word is the top 15 words of other topics.\n",
        "# **return** : A common wordslist that (moer than)half of the topic have the words as nTop words.\n",
        "  ntopics = len(sorted_words)\n",
        "  nwords = len(sorted_words[0])\n",
        "  wordslist = []\n",
        "  for i in sorted_words:\n",
        "    if nwords > nTop:\n",
        "      wordslist = wordslist + i[:nTop]\n",
        "    else:\n",
        "      wordslist = wordslist + i\n",
        "  counts = Counter(wordslist)\n",
        "  common_wordslist = []\n",
        "  for k,v in counts.items():\n",
        "    if v > ntopics // 2:\n",
        "      common_wordslist.append(k)\n",
        "  return common_wordslist\n",
        "\n",
        "def remove_uselesskeywords(text_string, uselesskeywords=uselesskeywords):    \n",
        "    # Function to remove uselesskeywords\n",
        "   \n",
        "    sent = ' '.join([word for word in text_string.split() if not word in uselesskeywords])\n",
        "    return sent\n",
        "df_startups['Description_processed_no_stopwords_rm_uselesskeywords'] = df_startups['Description_processed_no_stopwords'].apply(remove_uselesskeywords)"
      ]
    },
    {
      "cell_type": "code",
      "execution_count": null,
      "id": "N-f2QSgFRmJ0",
      "metadata": {
        "id": "N-f2QSgFRmJ0"
      },
      "outputs": [],
      "source": [
        "from sklearn.decomposition import LatentDirichletAllocation\n",
        "from sklearn.feature_extraction.text import TfidfVectorizer\n",
        "import time\n",
        "\n",
        "def topic2Label(numtopic, topics, indices):\n",
        "  # This function is used for checking what label the topic most likely correspond to.\n",
        "  # It firstly counts how many documents of a fixed lable are allocated to topic[i], then\n",
        "  # it regards the topic which owns the most documents as the label.\n",
        "  # **parameters** numtopic: How many topics are there.\n",
        "  # **parameters** topics: topics list, topic[i] means document i is topic[i]\n",
        "  # **parameters** indices: the origin index documents with aimed label. For example, the indices of documents\n",
        "  # that are 'Information Technology' in Industry1.[0,4,...]\n",
        "  # **return**: returns the topic No. that the most likely correspond to the label\n",
        "  res = [0 for _ in range(numtopic)]\n",
        "  for i in indices:\n",
        "    res[topics[i]] += 1\n",
        "  for i in range(len(res)):\n",
        "    print(f'There are {res[i]} documents in topic[{i}].')\n",
        "  return np.argmax(np.array(res))\n",
        "\n",
        "def LDAprocess(n_components, max_features, documents, indusrtry, industryLabel):\n",
        "  # This is the whole process, including tfidf matix generating, lda model fiting, and calculate precision and recall.\n",
        "  # **parameters** n_components: number of topics\n",
        "  # **parameters** max_features: how many features of tf-idf you want to keep\n",
        "  # **parameters** documents: the input text for text modeling\n",
        "  # **parameters** industry: Industry1 or Industry2\n",
        "  # **parameters** industryLabel: What exact is the industry that we want to learn\n",
        "  \n",
        "  start_time = time.time()\n",
        "\n",
        "  vect =TfidfVectorizer(max_features=max_features) \n",
        "  vect_text=vect.fit_transform(documents)\n",
        "\n",
        "  # the following is the key function for the basic LDA\n",
        "  lda_model=LatentDirichletAllocation(n_components=n_components,random_state=88,n_jobs=3) # n_jobs could be important now because LDA is slow\n",
        "  # parameters:\n",
        "  # n_components is the number of topics\n",
        "  # doc_topic_priorfloat, default=None => you can specify the prior probability of topics\n",
        "  # topic_word_priorfloat, default=None => you can specify the prior probability of words\n",
        "  # learning_method{‘batch’, ‘online’}, default=’batch’: if the data size is large, the online update will be much faster than the batch update.\n",
        "\n",
        "  # the training step \n",
        "  lda_top=lda_model.fit_transform(vect_text)\n",
        "\n",
        "\n",
        "  vocab = vect.get_feature_names_out()\n",
        "\n",
        "  for i, comp in enumerate(lda_model.components_):\n",
        "      vocab_comp = zip(vocab, comp)\n",
        "      sorted_words = sorted(vocab_comp, key= lambda x:x[1], reverse=True)[:10] # this is where you change the top 10 to topX\n",
        "      print(\"Topic \"+str(i)+\": \")\n",
        "      for t in sorted_words:\n",
        "          print(t[0],end=\" \")\n",
        "      print(\"\\n\")\n",
        "\n",
        "  # Create Document-Topic Matrix that is much easier to browse in excel\n",
        "  lda_output = lda_model.transform(vect_text)\n",
        "\n",
        "  # column names\n",
        "  topicnames = [\"Topic\" + str(i) for i in range(lda_model.n_components)]\n",
        "\n",
        "  # index names\n",
        "  docnames = [\"Doc\" + str(i) for i in range(len(df_startups))]\n",
        "\n",
        "  # Make the pandas dataframe\n",
        "  df_document_topic = pd.DataFrame(np.round(lda_output, 2), columns=topicnames, index=docnames)\n",
        "\n",
        "  # Get dominant topic for each document\n",
        "  dominant_topic = np.argmax(df_document_topic.values, axis=1)\n",
        "  df_document_topic['dominant_topic'] = dominant_topic\n",
        "\n",
        "  Industry_indices = df_startups.loc[df_startups[indusrtry] == industryLabel].index.tolist()\n",
        "\n",
        "  topicNo = topic2Label(n_components, dominant_topic.tolist(), Industry_indices) #计算各个topic有多少个（该选中的industry的）documents中，最多的就对应这个industry\n",
        "  print(f'The most likely topic is topic[{topicNo}]')\n",
        "  tp = 0\n",
        "  fp = 0\n",
        "  fn = 0\n",
        "\n",
        "  for i in range(df_startups.shape[0]):\n",
        "    if dominant_topic[i] == topicNo:\n",
        "      if df_startups[indusrtry][i] == industryLabel:\n",
        "        tp += 1\n",
        "      else:\n",
        "        fp += 1\n",
        "    elif df_startups[indusrtry][i] == industryLabel:\n",
        "      fn += 1\n",
        "  print(f'tp:{tp},fp:{fp},fn:{fn}')\n",
        "  lda_precision = tp/(tp+fp+1)\n",
        "  lda_recall = tp / (tp+fn+1)\n",
        "\n",
        "  print(f'{n_components} Topics: precision = {lda_precision}, recall = {lda_recall}.')\n",
        "\n",
        "  print(\"\\n--- Function LDAprocess takes %s seconds ---\" % (time.time() - start_time))"
      ]
    },
    {
      "cell_type": "code",
      "execution_count": null,
      "id": "moMm_35e5euB",
      "metadata": {
        "colab": {
          "base_uri": "https://localhost:8080/"
        },
        "id": "moMm_35e5euB",
        "outputId": "caf980be-b0ee-4045-d92a-92fabd2835c8"
      },
      "outputs": [
        {
          "name": "stdout",
          "output_type": "stream",
          "text": [
            "Topic 0: \n",
            "company medical develop product health care treatment disease drug patient \n",
            "\n",
            "Topic 1: \n",
            "company service product engage co ltd china base include technology \n",
            "\n",
            "Topic 2: \n",
            "company service software platform provide solution application datum user mobile \n",
            "\n",
            "There are 2182 documents in topic[0].\n",
            "There are 7488 documents in topic[1].\n",
            "There are 26268 documents in topic[2].\n",
            "The most likely topic is topic[2]\n",
            "tp:26268,fp:2803,fn:9670\n",
            "3 Topics: precision = 0.9035498073747936, recall = 0.7309051448287376.\n",
            "\n",
            "--- Function LDAprocess takes 361.04467940330505 seconds ---\n"
          ]
        }
      ],
      "source": [
        "# 3 topics, tf-idf max_features = 1000, text without removing useless keywords\n",
        "LDAprocess(3,1000,df_startups['Description_processed_no_stopwords'], 'Industry', 'Information Technology')"
      ]
    },
    {
      "cell_type": "code",
      "execution_count": null,
      "id": "X7QK7PpposeI",
      "metadata": {
        "colab": {
          "base_uri": "https://localhost:8080/"
        },
        "id": "X7QK7PpposeI",
        "outputId": "ad560d53-d665-4d2b-b7e0-c92a7d1889be"
      },
      "outputs": [
        {
          "name": "stdout",
          "output_type": "stream",
          "text": [
            "Topic 0: \n",
            "engage ltd co china operate manufacture energy equipment mainly business \n",
            "\n",
            "Topic 1: \n",
            "develop medical health disease care treatment drug patient game inc \n",
            "\n",
            "Topic 2: \n",
            "software solution management platform datum application mobile business user network \n",
            "\n",
            "There are 7445 documents in topic[0].\n",
            "There are 5496 documents in topic[1].\n",
            "There are 22997 documents in topic[2].\n",
            "The most likely topic is topic[2]\n",
            "tp:22997,fp:3189,fn:12941\n",
            "3 Topics: precision = 0.8781838316722038, recall = 0.6398898132947495.\n",
            "\n",
            "--- Function LDAprocess takes 353.20115208625793 seconds ---\n"
          ]
        }
      ],
      "source": [
        "# 3 topics, tf-idf max_features = 1000, text  removes useless keywords\n",
        "LDAprocess(3,1000, df_startups['Description_processed_no_stopwords_rm_uselesskeywords'], 'Industry', 'Information Technology')"
      ]
    },
    {
      "cell_type": "code",
      "execution_count": null,
      "id": "qsxE7PeaqC7F",
      "metadata": {
        "colab": {
          "base_uri": "https://localhost:8080/"
        },
        "id": "qsxE7PeaqC7F",
        "outputId": "3d2da76b-0bd9-4b96-f178-f8e034bc135f"
      },
      "outputs": [
        {
          "name": "stdout",
          "output_type": "stream",
          "text": [
            "Topic 0: \n",
            "company service provide base platform solution business product software offer \n",
            "\n",
            "Topic 1: \n",
            "company develop medical technology system product base health device solution \n",
            "\n",
            "Topic 2: \n",
            "election kubernete payday pino lunar nosql elasticsearch fs chitosan pantheon \n",
            "\n",
            "There are 29586 documents in topic[0].\n",
            "There are 6339 documents in topic[1].\n",
            "There are 13 documents in topic[2].\n",
            "The most likely topic is topic[0]\n",
            "tp:29586,fp:15240,fn:6352\n",
            "3 Topics: precision = 0.660004015437125, recall = 0.8232282478644369.\n",
            "\n",
            "--- Function LDAprocess takes 365.9847950935364 seconds ---\n"
          ]
        }
      ],
      "source": [
        "# 3 topics, tf-idf max_features = None, text without moving useless keywords\n",
        "LDAprocess(3,None,df_startups['Description_processed_no_stopwords'], 'Industry', 'Information Technology')"
      ]
    },
    {
      "cell_type": "code",
      "execution_count": null,
      "id": "hdagK-_Wp00u",
      "metadata": {
        "colab": {
          "base_uri": "https://localhost:8080/"
        },
        "id": "hdagK-_Wp00u",
        "outputId": "df2dc30b-7c24-426f-8d37-d56980591294"
      },
      "outputs": [
        {
          "name": "stdout",
          "output_type": "stream",
          "text": [
            "Topic 0: \n",
            "engage co ltd china energy operate manufacture food gas equipment \n",
            "\n",
            "Topic 1: \n",
            "drug disease medical develop treatment cancer clinical cell development research \n",
            "\n",
            "Topic 2: \n",
            "solution software platform management business application mobile datum system user \n",
            "\n",
            "There are 4255 documents in topic[0].\n",
            "There are 596 documents in topic[1].\n",
            "There are 31087 documents in topic[2].\n",
            "The most likely topic is topic[2]\n",
            "tp:31087,fp:6838,fn:4851\n",
            "3 Topics: precision = 0.8196751568844592, recall = 0.8649934611424914.\n",
            "\n",
            "--- Function LDAprocess takes 344.4106903076172 seconds ---\n"
          ]
        }
      ],
      "source": [
        "# 3 topics, tf-idf max_features = None, text removes useless keywords\n",
        "LDAprocess(3,None, df_startups['Description_processed_no_stopwords_rm_uselesskeywords'], 'Industry', 'Information Technology')"
      ]
    },
    {
      "cell_type": "code",
      "execution_count": null,
      "id": "jJQ1f45Z7DFo",
      "metadata": {
        "colab": {
          "base_uri": "https://localhost:8080/"
        },
        "id": "jJQ1f45Z7DFo",
        "outputId": "43369dd4-183c-4ba7-d39d-cf5196421934"
      },
      "outputs": [
        {
          "name": "stdout",
          "output_type": "stream",
          "text": [
            "Topic 0: \n",
            "company product food offer include brand operate online base store \n",
            "\n",
            "Topic 1: \n",
            "china co ltd engage mainly principally company technology service development \n",
            "\n",
            "Topic 2: \n",
            "wireless network company system power energy communication solution service solar \n",
            "\n",
            "Topic 3: \n",
            "company game video mobile user content online medium social platform \n",
            "\n",
            "Topic 4: \n",
            "company disease drug develop treatment medical cancer patient clinical therapeutic \n",
            "\n",
            "Topic 5: \n",
            "company service provide health payment insurance platform offer care base \n",
            "\n",
            "Topic 6: \n",
            "datum company software solution security platform provide intelligence management cloud \n",
            "\n",
            "Topic 7: \n",
            "service software company management solution marketing customer business provide application \n",
            "\n",
            "Topic 8: \n",
            "company product gas manufacture material equipment water system oil base \n",
            "\n",
            "Topic 9: \n",
            "company service investment property management estate operate provide financial asset \n",
            "\n",
            "There are 219 documents in topic[0].\n",
            "There are 956 documents in topic[1].\n",
            "There are 501 documents in topic[2].\n",
            "There are 2206 documents in topic[3].\n",
            "There are 239 documents in topic[4].\n",
            "There are 2083 documents in topic[5].\n",
            "There are 5344 documents in topic[6].\n",
            "There are 3284 documents in topic[7].\n",
            "There are 181 documents in topic[8].\n",
            "There are 430 documents in topic[9].\n",
            "The most likely topic is topic[6]\n",
            "tp:5344,fp:2513,fn:10099\n",
            "10 Topics: precision = 0.6800712649529143, recall = 0.346024346024346.\n",
            "\n",
            "--- Function LDAprocess takes 270.7259500026703 seconds ---\n"
          ]
        }
      ],
      "source": [
        "# 10 topics, tf-idf max_features = 1000, text without moving useless keywords\n",
        "LDAprocess(10,1000,df_startups['Description_processed_no_stopwords'], 'Industry2', 'Computer Software and Services')"
      ]
    },
    {
      "cell_type": "code",
      "execution_count": null,
      "id": "VCcmBI3cqycw",
      "metadata": {
        "colab": {
          "base_uri": "https://localhost:8080/"
        },
        "id": "VCcmBI3cqycw",
        "outputId": "417f6a92-95ff-42bd-ddfc-42a883e1c97c"
      },
      "outputs": [
        {
          "name": "stdout",
          "output_type": "stream",
          "text": [
            "Topic 0: \n",
            "online operate accessory student brand school travel home car france \n",
            "\n",
            "Topic 1: \n",
            "drug disease develop cancer treatment cell therapeutic development pharmaceutical clinical \n",
            "\n",
            "Topic 2: \n",
            "network wireless solution communication internet mobile software system develop application \n",
            "\n",
            "Topic 3: \n",
            "mobile game video content user online medium platform social application \n",
            "\n",
            "Topic 4: \n",
            "software management solution datum platform cloud application states customer business \n",
            "\n",
            "Topic 5: \n",
            "china co ltd engage mainly principally business provision development beijing \n",
            "\n",
            "Topic 6: \n",
            "manufacture system equipment material industrial power use design industry manufacturing \n",
            "\n",
            "Topic 7: \n",
            "food loan restaurant credit online financial card operate business payment \n",
            "\n",
            "Topic 8: \n",
            "medical health care patient healthcare device hospital treatment system states \n",
            "\n",
            "Topic 9: \n",
            "energy gas investment oil project property operate management asset estate \n",
            "\n",
            "There are 454 documents in topic[0].\n",
            "There are 106 documents in topic[1].\n",
            "There are 1273 documents in topic[2].\n",
            "There are 2719 documents in topic[3].\n",
            "There are 7877 documents in topic[4].\n",
            "There are 1207 documents in topic[5].\n",
            "There are 293 documents in topic[6].\n",
            "There are 518 documents in topic[7].\n",
            "There are 730 documents in topic[8].\n",
            "There are 266 documents in topic[9].\n",
            "The most likely topic is topic[4]\n",
            "tp:7877,fp:4034,fn:7566\n",
            "10 Topics: precision = 0.6612659503022162, recall = 0.51003626003626.\n",
            "\n",
            "--- Function LDAprocess takes 251.33737301826477 seconds ---\n"
          ]
        }
      ],
      "source": [
        "# 10 topics, tf-idf max_features = 1000, text removes useless keywords\n",
        "LDAprocess(10,1000,df_startups['Description_processed_no_stopwords_rm_uselesskeywords'], 'Industry2', 'Computer Software and Services')"
      ]
    },
    {
      "cell_type": "code",
      "execution_count": null,
      "id": "Bfmi6lutqy87",
      "metadata": {
        "colab": {
          "base_uri": "https://localhost:8080/"
        },
        "id": "Bfmi6lutqy87",
        "outputId": "5327be2f-63a5-4a11-d5ed-9c0f7399e9b4"
      },
      "outputs": [
        {
          "name": "stdout",
          "output_type": "stream",
          "text": [
            "Topic 0: \n",
            "company product gas oil energy include water base manufacture engage \n",
            "\n",
            "Topic 1: \n",
            "drug disease therapeutic develop company cancer treatment cell development clinical \n",
            "\n",
            "Topic 2: \n",
            "sdh mram microstructure sc woom kaishan gre kiln ringback crowdsourcing \n",
            "\n",
            "Topic 3: \n",
            "chocolate cookie snack flavor butter coconut potato sweet nut chip \n",
            "\n",
            "Topic 4: \n",
            "chicken food meal restaurant salad beef meat recipe menu pork \n",
            "\n",
            "Topic 5: \n",
            "company system technology product network wireless solution service develop mobile \n",
            "\n",
            "Topic 6: \n",
            "reviewer craftsman rollover nudge recordkeeping payphone lubricate bookmarking afs aldehyde \n",
            "\n",
            "Topic 7: \n",
            "company service provide platform software solution management base business offer \n",
            "\n",
            "Topic 8: \n",
            "medical company care health patient product base device diagnostic technology \n",
            "\n",
            "Topic 9: \n",
            "gan tft backlight sic accidental oled boat hud manganese cue \n",
            "\n",
            "There are 157 documents in topic[0].\n",
            "There are 47 documents in topic[1].\n",
            "There are 2 documents in topic[2].\n",
            "There are 4 documents in topic[3].\n",
            "There are 4 documents in topic[4].\n",
            "There are 1207 documents in topic[5].\n",
            "There are 7 documents in topic[6].\n",
            "There are 13541 documents in topic[7].\n",
            "There are 469 documents in topic[8].\n",
            "There are 5 documents in topic[9].\n",
            "The most likely topic is topic[7]\n",
            "tp:13541,fp:20477,fn:1902\n",
            "10 Topics: precision = 0.39804227049589935, recall = 0.8767806267806267.\n",
            "\n",
            "--- Function LDAprocess takes 250.09055256843567 seconds ---\n"
          ]
        }
      ],
      "source": [
        "# 10 topics, tf-idf max_features = None, text without moving useless keywords\n",
        "LDAprocess(10,None,df_startups['Description_processed_no_stopwords'], 'Industry2', 'Computer Software and Services')"
      ]
    },
    {
      "cell_type": "code",
      "execution_count": null,
      "id": "HzE1sR5HqzNr",
      "metadata": {
        "colab": {
          "base_uri": "https://localhost:8080/"
        },
        "id": "HzE1sR5HqzNr",
        "outputId": "873b37ac-018f-43bc-a49c-b0b207437d7b"
      },
      "outputs": [
        {
          "name": "stdout",
          "output_type": "stream",
          "text": [
            "Topic 0: \n",
            "gas operate oil energy property investment home project estate engage \n",
            "\n",
            "Topic 1: \n",
            "datum software platform security solution cloud management application intelligence customer \n",
            "\n",
            "Topic 2: \n",
            "solution management software business network system platform internet application financial \n",
            "\n",
            "Topic 3: \n",
            "online mobile platform game video content user medium application social \n",
            "\n",
            "Topic 4: \n",
            "intracellular ivf infertility li pet fertility fertilization hpv egg aptamer \n",
            "\n",
            "Topic 5: \n",
            "potash cashless creamer lunar jive clot kanban plywood visualisation spiral \n",
            "\n",
            "Topic 6: \n",
            "drug disease develop medical treatment cancer development cell therapeutic research \n",
            "\n",
            "Topic 7: \n",
            "health care patient healthcare medical insurance management solution platform software \n",
            "\n",
            "Topic 8: \n",
            "manufacture food equipment engage material ltd power co energy system \n",
            "\n",
            "Topic 9: \n",
            "mmorpg racing mmo massively oculus korean multiplayer tel tonic expressway \n",
            "\n",
            "There are 216 documents in topic[0].\n",
            "There are 4399 documents in topic[1].\n",
            "There are 5277 documents in topic[2].\n",
            "There are 3656 documents in topic[3].\n",
            "There are 1 documents in topic[4].\n",
            "There are 5 documents in topic[5].\n",
            "There are 225 documents in topic[6].\n",
            "There are 1434 documents in topic[7].\n",
            "There are 221 documents in topic[8].\n",
            "There are 9 documents in topic[9].\n",
            "The most likely topic is topic[2]\n",
            "tp:5277,fp:11972,fn:10166\n",
            "10 Topics: precision = 0.30591304347826087, recall = 0.3416860916860917.\n",
            "\n",
            "--- Function LDAprocess takes 269.31211733818054 seconds ---\n"
          ]
        }
      ],
      "source": [
        "# 10 topics, tf-idf max_features = 1000, text removes useless keywords\n",
        "LDAprocess(10,None,df_startups['Description_processed_no_stopwords_rm_uselesskeywords'], 'Industry2', 'Computer Software and Services')"
      ]
    },
    {
      "cell_type": "code",
      "execution_count": 6,
      "id": "KWTMU7hSMY2u",
      "metadata": {
        "colab": {
          "base_uri": "https://localhost:8080/",
          "height": 318
        },
        "id": "KWTMU7hSMY2u",
        "outputId": "70520d17-aefe-4915-9219-f33d28d25efa"
      },
      "outputs": [
        {
          "name": "stdout",
          "output_type": "stream",
          "text": [
            "Table 1: LDA model Random_state = 42:\n"
          ]
        },
        {
          "data": {
            "text/html": [
              "\n",
              "  <div id=\"df-a035e8d1-7db3-40ec-bb16-1811ea3ad0d4\">\n",
              "    <div class=\"colab-df-container\">\n",
              "      <div>\n",
              "<style scoped>\n",
              "    .dataframe tbody tr th:only-of-type {\n",
              "        vertical-align: middle;\n",
              "    }\n",
              "\n",
              "    .dataframe tbody tr th {\n",
              "        vertical-align: top;\n",
              "    }\n",
              "\n",
              "    .dataframe thead th {\n",
              "        text-align: right;\n",
              "    }\n",
              "</style>\n",
              "<table border=\"1\" class=\"dataframe\">\n",
              "  <thead>\n",
              "    <tr style=\"text-align: right;\">\n",
              "      <th></th>\n",
              "      <th>No. of topics</th>\n",
              "      <th>max_features</th>\n",
              "      <th>remove useless keywords</th>\n",
              "      <th>precision</th>\n",
              "      <th>recall</th>\n",
              "    </tr>\n",
              "  </thead>\n",
              "  <tbody>\n",
              "    <tr>\n",
              "      <th>0</th>\n",
              "      <td>3</td>\n",
              "      <td>1000</td>\n",
              "      <td>No</td>\n",
              "      <td>0.851965</td>\n",
              "      <td>0.703804</td>\n",
              "    </tr>\n",
              "    <tr>\n",
              "      <th>1</th>\n",
              "      <td>3</td>\n",
              "      <td>1000</td>\n",
              "      <td>Yes</td>\n",
              "      <td>0.870910</td>\n",
              "      <td>0.660592</td>\n",
              "    </tr>\n",
              "    <tr>\n",
              "      <th>2</th>\n",
              "      <td>3</td>\n",
              "      <td>None</td>\n",
              "      <td>No</td>\n",
              "      <td>0.771980</td>\n",
              "      <td>0.863658</td>\n",
              "    </tr>\n",
              "    <tr>\n",
              "      <th>3</th>\n",
              "      <td>3</td>\n",
              "      <td>None</td>\n",
              "      <td>Yes</td>\n",
              "      <td>0.646059</td>\n",
              "      <td>0.573416</td>\n",
              "    </tr>\n",
              "    <tr>\n",
              "      <th>4</th>\n",
              "      <td>10</td>\n",
              "      <td>1000</td>\n",
              "      <td>No</td>\n",
              "      <td>0.506110</td>\n",
              "      <td>0.289627</td>\n",
              "    </tr>\n",
              "    <tr>\n",
              "      <th>5</th>\n",
              "      <td>10</td>\n",
              "      <td>1000</td>\n",
              "      <td>Yes</td>\n",
              "      <td>0.699456</td>\n",
              "      <td>0.349456</td>\n",
              "    </tr>\n",
              "    <tr>\n",
              "      <th>6</th>\n",
              "      <td>10</td>\n",
              "      <td>None</td>\n",
              "      <td>No</td>\n",
              "      <td>0.376328</td>\n",
              "      <td>0.965359</td>\n",
              "    </tr>\n",
              "    <tr>\n",
              "      <th>7</th>\n",
              "      <td>10</td>\n",
              "      <td>None</td>\n",
              "      <td>Yes</td>\n",
              "      <td>0.350737</td>\n",
              "      <td>0.469762</td>\n",
              "    </tr>\n",
              "  </tbody>\n",
              "</table>\n",
              "</div>\n",
              "      <button class=\"colab-df-convert\" onclick=\"convertToInteractive('df-a035e8d1-7db3-40ec-bb16-1811ea3ad0d4')\"\n",
              "              title=\"Convert this dataframe to an interactive table.\"\n",
              "              style=\"display:none;\">\n",
              "        \n",
              "  <svg xmlns=\"http://www.w3.org/2000/svg\" height=\"24px\"viewBox=\"0 0 24 24\"\n",
              "       width=\"24px\">\n",
              "    <path d=\"M0 0h24v24H0V0z\" fill=\"none\"/>\n",
              "    <path d=\"M18.56 5.44l.94 2.06.94-2.06 2.06-.94-2.06-.94-.94-2.06-.94 2.06-2.06.94zm-11 1L8.5 8.5l.94-2.06 2.06-.94-2.06-.94L8.5 2.5l-.94 2.06-2.06.94zm10 10l.94 2.06.94-2.06 2.06-.94-2.06-.94-.94-2.06-.94 2.06-2.06.94z\"/><path d=\"M17.41 7.96l-1.37-1.37c-.4-.4-.92-.59-1.43-.59-.52 0-1.04.2-1.43.59L10.3 9.45l-7.72 7.72c-.78.78-.78 2.05 0 2.83L4 21.41c.39.39.9.59 1.41.59.51 0 1.02-.2 1.41-.59l7.78-7.78 2.81-2.81c.8-.78.8-2.07 0-2.86zM5.41 20L4 18.59l7.72-7.72 1.47 1.35L5.41 20z\"/>\n",
              "  </svg>\n",
              "      </button>\n",
              "      \n",
              "  <style>\n",
              "    .colab-df-container {\n",
              "      display:flex;\n",
              "      flex-wrap:wrap;\n",
              "      gap: 12px;\n",
              "    }\n",
              "\n",
              "    .colab-df-convert {\n",
              "      background-color: #E8F0FE;\n",
              "      border: none;\n",
              "      border-radius: 50%;\n",
              "      cursor: pointer;\n",
              "      display: none;\n",
              "      fill: #1967D2;\n",
              "      height: 32px;\n",
              "      padding: 0 0 0 0;\n",
              "      width: 32px;\n",
              "    }\n",
              "\n",
              "    .colab-df-convert:hover {\n",
              "      background-color: #E2EBFA;\n",
              "      box-shadow: 0px 1px 2px rgba(60, 64, 67, 0.3), 0px 1px 3px 1px rgba(60, 64, 67, 0.15);\n",
              "      fill: #174EA6;\n",
              "    }\n",
              "\n",
              "    [theme=dark] .colab-df-convert {\n",
              "      background-color: #3B4455;\n",
              "      fill: #D2E3FC;\n",
              "    }\n",
              "\n",
              "    [theme=dark] .colab-df-convert:hover {\n",
              "      background-color: #434B5C;\n",
              "      box-shadow: 0px 1px 3px 1px rgba(0, 0, 0, 0.15);\n",
              "      filter: drop-shadow(0px 1px 2px rgba(0, 0, 0, 0.3));\n",
              "      fill: #FFFFFF;\n",
              "    }\n",
              "  </style>\n",
              "\n",
              "      <script>\n",
              "        const buttonEl =\n",
              "          document.querySelector('#df-a035e8d1-7db3-40ec-bb16-1811ea3ad0d4 button.colab-df-convert');\n",
              "        buttonEl.style.display =\n",
              "          google.colab.kernel.accessAllowed ? 'block' : 'none';\n",
              "\n",
              "        async function convertToInteractive(key) {\n",
              "          const element = document.querySelector('#df-a035e8d1-7db3-40ec-bb16-1811ea3ad0d4');\n",
              "          const dataTable =\n",
              "            await google.colab.kernel.invokeFunction('convertToInteractive',\n",
              "                                                     [key], {});\n",
              "          if (!dataTable) return;\n",
              "\n",
              "          const docLinkHtml = 'Like what you see? Visit the ' +\n",
              "            '<a target=\"_blank\" href=https://colab.research.google.com/notebooks/data_table.ipynb>data table notebook</a>'\n",
              "            + ' to learn more about interactive tables.';\n",
              "          element.innerHTML = '';\n",
              "          dataTable['output_type'] = 'display_data';\n",
              "          await google.colab.output.renderOutput(dataTable, element);\n",
              "          const docLink = document.createElement('div');\n",
              "          docLink.innerHTML = docLinkHtml;\n",
              "          element.appendChild(docLink);\n",
              "        }\n",
              "      </script>\n",
              "    </div>\n",
              "  </div>\n",
              "  "
            ],
            "text/plain": [
              "   No. of topics max_features remove useless keywords  precision    recall\n",
              "0              3         1000                      No   0.851965  0.703804\n",
              "1              3         1000                     Yes   0.870910  0.660592\n",
              "2              3         None                      No   0.771980  0.863658\n",
              "3              3         None                     Yes   0.646059  0.573416\n",
              "4             10         1000                      No   0.506110  0.289627\n",
              "5             10         1000                     Yes   0.699456  0.349456\n",
              "6             10         None                      No   0.376328  0.965359\n",
              "7             10         None                     Yes   0.350737  0.469762"
            ]
          },
          "execution_count": 6,
          "metadata": {},
          "output_type": "execute_result"
        }
      ],
      "source": [
        "res_columns = [\"No. of topics\",\"max_features\", \"remove useless keywords\",\"precision\", \"recall\"]\n",
        "res_Matrix = [[3,1000,'No', 0.8519653743810839, 0.70380366732519],\n",
        "              [3,1000,'Yes', 0.870909757887014, 0.6605915579175826],\n",
        "              [3,'None','No', 0.7719800034819807, 0.8636578647152119],\n",
        "              [3,'None','Yes', 0.6460593140635776, 0.5734160661120231],\n",
        "              [10,1000,'No', 0.5061099796334012, 0.2896270396270396],\n",
        "              [10,1000,'Yes', 0.6994556765163297, 0.34945609945609946],\n",
        "              [10,'None','No',0.3763283438927733, 0.9653587153587153],\n",
        "              [10,'None','Yes', 0.3507372492144066, 0.46976171976171976],\n",
        "              ]\n",
        "res_Matrix = pd.DataFrame(res_Matrix,columns=res_columns)\n",
        "print(\"Table 1: LDA model Random_state = 42:\")\n",
        "res_Matrix"
      ]
    },
    {
      "cell_type": "markdown",
      "id": "z_RfpQxKzAsO",
      "metadata": {
        "id": "z_RfpQxKzAsO"
      },
      "source": [
        "# **Q3 Summary**\n",
        "\n",
        "In this question, I used tf-idf as input text vectors. While I was setting the number of max_features, firstly I followed the sample code (max_features=1000), then I tried using all features to see which one is better. \n",
        "\n",
        "\n",
        "After that, I also attempted to remove some useless key words, I regard those key words that appeared in more than half of the  topics (I defined 'appear' as a word is in the top 15 of a topic's key words.) as useless key words because if most topic contains those words, that means it have few contribution helping with recognizing the topic. \n",
        "\n",
        "In addition, I have tried two random_states of LDA model, my research is based on the random_state=42(**Table 1**), but finally, because the performance of random_state=88 is better, I kept the result of randoms_state=88(**Table 2**).\n",
        "\n",
        "Now let's take a look at the summary table above.\n",
        "\n",
        "We can see while we use 3 topics, the precision is higher than 10 topics, that is because while we have 10 topics, some topics may close to other topics. If we only have 3 topics, it is much harder to give the wrong label as there is only limited but various labels.\n",
        "\n",
        "In both 3 and 10 topics modeling, when we only use limited features, the precision is much better. That is because if we only need to build these topics, 1000 features is enough, the less important features may perform like noise, as a result, they have some sort of negative effect on the model.\n",
        "\n",
        "Does remove the useless key words help? My answer is \"When the precision is not good enough, removing key words is helpful to some extend(See line 5 and line 6 of **Table 1**). However, if the performance is good enough, then it doesn' help much(See line 1 and line 2 of **Table 1**), and it can even make negative contribution since the original performance is very good(See line 1 and line 2, line 5 and line 6 of **Table 2**)\". \n",
        "\n",
        "We can see, in the 3-topic modeling, remove the useless keywords does not help. The reason is that the original precision is good enough in 3-topic modeling, it is hard to improve via simply removing some keywords, most of the documents have been labeled correctly, the wrong labled documents themselves may be harder to be classified. And for some documents, if we remove some of the keywords, then it may lose some features, then be misclassified. However, for the 10-topic modeling, it has more topics, so the result is more sensitive to the accuracy of the topic description, or in other words, they need the key words to be more identifiable, removing those common keywords does help, especially when the original precision is not good enough(line 5 and line 6 of **Table 1**). Additionally, the my method of selecting useless keywords may need to be improved, the quality of the useless keywords may have some infulence.\n",
        "\n",
        "As for recall, I found that with unlimited features and do not remove useless keywords, the recall goes extremely high(line 7 of both **Table** 1 and **Table 2**). I checked the data of **Table 1**, and found that in these cases, most documents are allocated to one topic, that makes such a strange phenomenon happen. My deduction is that those extreme topic contains many common and frequent words. For example, let's take look at the classification result of line7 of **Table 1**:\n",
        "\n",
        "Actually, there are 36 documents in topic[0].\n",
        "\n",
        "Actually, there are 4 documents in topic[1].\n",
        "\n",
        "Actually, there are 2 documents in topic[2].\n",
        "\n",
        "Actually, there are 4 documents in topic[3].\n",
        "\n",
        "Actually, there are 4 documents in topic[4].\n",
        "\n",
        "Actually, there are 14909 documents in topic[5].\n",
        "\n",
        "Actually, there are 1 documents in topic[6].\n",
        "\n",
        "Actually, there are 63 documents in topic[7].\n",
        "\n",
        "Actually, there are 73 documents in topic[8].\n",
        "\n",
        "Actually, there are 347 documents in topic[9].\n",
        "\n",
        "Almost all 'Computer Software and Services' documents are sent to topic[5]. However, when we take a look at the contents:\n",
        "\n",
        "\n",
        "Topic 5: \n",
        "10 stage east carbon card play player identity professional point \n",
        "\n",
        "We found that those are the common words, which I detected and later removed in the extra processing. Although the recall rate is quite high, I regarded it as unreasonable, and after I removed the keywords, the recall rate drops to 0.47 which is more reasonable.\n",
        "\n",
        "**In summary, using 1000 max_features of tf-idf is enough for modling, the unlimited featrues could introduce significant noise that has negative effect on the performance. And if the original performance is not good enough, we can try remove useless keywords to help improve the performance. It does not always help, and the quality of the useless keywords list will affect the final result.**\n",
        "\n",
        "\n",
        "\n",
        "\n",
        "\n"
      ]
    },
    {
      "cell_type": "code",
      "execution_count": 5,
      "id": "zgytLV7INLPJ",
      "metadata": {
        "colab": {
          "base_uri": "https://localhost:8080/",
          "height": 318
        },
        "id": "zgytLV7INLPJ",
        "outputId": "e7f04a96-2e10-4351-d15a-9e521e2b3b3c"
      },
      "outputs": [
        {
          "name": "stdout",
          "output_type": "stream",
          "text": [
            "Table 2: LDA model Random_state = 88:\n"
          ]
        },
        {
          "data": {
            "text/html": [
              "\n",
              "  <div id=\"df-474ed01c-8d38-42e9-b54e-68e9a69dfbfe\">\n",
              "    <div class=\"colab-df-container\">\n",
              "      <div>\n",
              "<style scoped>\n",
              "    .dataframe tbody tr th:only-of-type {\n",
              "        vertical-align: middle;\n",
              "    }\n",
              "\n",
              "    .dataframe tbody tr th {\n",
              "        vertical-align: top;\n",
              "    }\n",
              "\n",
              "    .dataframe thead th {\n",
              "        text-align: right;\n",
              "    }\n",
              "</style>\n",
              "<table border=\"1\" class=\"dataframe\">\n",
              "  <thead>\n",
              "    <tr style=\"text-align: right;\">\n",
              "      <th></th>\n",
              "      <th>No. of topics</th>\n",
              "      <th>max_features</th>\n",
              "      <th>remove useless keywords</th>\n",
              "      <th>precision</th>\n",
              "      <th>recall</th>\n",
              "    </tr>\n",
              "  </thead>\n",
              "  <tbody>\n",
              "    <tr>\n",
              "      <th>0</th>\n",
              "      <td>3</td>\n",
              "      <td>1000</td>\n",
              "      <td>No</td>\n",
              "      <td>0.903550</td>\n",
              "      <td>0.730905</td>\n",
              "    </tr>\n",
              "    <tr>\n",
              "      <th>1</th>\n",
              "      <td>3</td>\n",
              "      <td>1000</td>\n",
              "      <td>Yes</td>\n",
              "      <td>0.878184</td>\n",
              "      <td>0.639890</td>\n",
              "    </tr>\n",
              "    <tr>\n",
              "      <th>2</th>\n",
              "      <td>3</td>\n",
              "      <td>None</td>\n",
              "      <td>No</td>\n",
              "      <td>0.660004</td>\n",
              "      <td>0.823228</td>\n",
              "    </tr>\n",
              "    <tr>\n",
              "      <th>3</th>\n",
              "      <td>3</td>\n",
              "      <td>None</td>\n",
              "      <td>Yes</td>\n",
              "      <td>0.819675</td>\n",
              "      <td>0.864993</td>\n",
              "    </tr>\n",
              "    <tr>\n",
              "      <th>4</th>\n",
              "      <td>10</td>\n",
              "      <td>1000</td>\n",
              "      <td>No</td>\n",
              "      <td>0.680071</td>\n",
              "      <td>0.346024</td>\n",
              "    </tr>\n",
              "    <tr>\n",
              "      <th>5</th>\n",
              "      <td>10</td>\n",
              "      <td>1000</td>\n",
              "      <td>Yes</td>\n",
              "      <td>0.661266</td>\n",
              "      <td>0.510036</td>\n",
              "    </tr>\n",
              "    <tr>\n",
              "      <th>6</th>\n",
              "      <td>10</td>\n",
              "      <td>None</td>\n",
              "      <td>No</td>\n",
              "      <td>0.398042</td>\n",
              "      <td>0.876781</td>\n",
              "    </tr>\n",
              "    <tr>\n",
              "      <th>7</th>\n",
              "      <td>10</td>\n",
              "      <td>None</td>\n",
              "      <td>Yes</td>\n",
              "      <td>0.305913</td>\n",
              "      <td>0.341686</td>\n",
              "    </tr>\n",
              "  </tbody>\n",
              "</table>\n",
              "</div>\n",
              "      <button class=\"colab-df-convert\" onclick=\"convertToInteractive('df-474ed01c-8d38-42e9-b54e-68e9a69dfbfe')\"\n",
              "              title=\"Convert this dataframe to an interactive table.\"\n",
              "              style=\"display:none;\">\n",
              "        \n",
              "  <svg xmlns=\"http://www.w3.org/2000/svg\" height=\"24px\"viewBox=\"0 0 24 24\"\n",
              "       width=\"24px\">\n",
              "    <path d=\"M0 0h24v24H0V0z\" fill=\"none\"/>\n",
              "    <path d=\"M18.56 5.44l.94 2.06.94-2.06 2.06-.94-2.06-.94-.94-2.06-.94 2.06-2.06.94zm-11 1L8.5 8.5l.94-2.06 2.06-.94-2.06-.94L8.5 2.5l-.94 2.06-2.06.94zm10 10l.94 2.06.94-2.06 2.06-.94-2.06-.94-.94-2.06-.94 2.06-2.06.94z\"/><path d=\"M17.41 7.96l-1.37-1.37c-.4-.4-.92-.59-1.43-.59-.52 0-1.04.2-1.43.59L10.3 9.45l-7.72 7.72c-.78.78-.78 2.05 0 2.83L4 21.41c.39.39.9.59 1.41.59.51 0 1.02-.2 1.41-.59l7.78-7.78 2.81-2.81c.8-.78.8-2.07 0-2.86zM5.41 20L4 18.59l7.72-7.72 1.47 1.35L5.41 20z\"/>\n",
              "  </svg>\n",
              "      </button>\n",
              "      \n",
              "  <style>\n",
              "    .colab-df-container {\n",
              "      display:flex;\n",
              "      flex-wrap:wrap;\n",
              "      gap: 12px;\n",
              "    }\n",
              "\n",
              "    .colab-df-convert {\n",
              "      background-color: #E8F0FE;\n",
              "      border: none;\n",
              "      border-radius: 50%;\n",
              "      cursor: pointer;\n",
              "      display: none;\n",
              "      fill: #1967D2;\n",
              "      height: 32px;\n",
              "      padding: 0 0 0 0;\n",
              "      width: 32px;\n",
              "    }\n",
              "\n",
              "    .colab-df-convert:hover {\n",
              "      background-color: #E2EBFA;\n",
              "      box-shadow: 0px 1px 2px rgba(60, 64, 67, 0.3), 0px 1px 3px 1px rgba(60, 64, 67, 0.15);\n",
              "      fill: #174EA6;\n",
              "    }\n",
              "\n",
              "    [theme=dark] .colab-df-convert {\n",
              "      background-color: #3B4455;\n",
              "      fill: #D2E3FC;\n",
              "    }\n",
              "\n",
              "    [theme=dark] .colab-df-convert:hover {\n",
              "      background-color: #434B5C;\n",
              "      box-shadow: 0px 1px 3px 1px rgba(0, 0, 0, 0.15);\n",
              "      filter: drop-shadow(0px 1px 2px rgba(0, 0, 0, 0.3));\n",
              "      fill: #FFFFFF;\n",
              "    }\n",
              "  </style>\n",
              "\n",
              "      <script>\n",
              "        const buttonEl =\n",
              "          document.querySelector('#df-474ed01c-8d38-42e9-b54e-68e9a69dfbfe button.colab-df-convert');\n",
              "        buttonEl.style.display =\n",
              "          google.colab.kernel.accessAllowed ? 'block' : 'none';\n",
              "\n",
              "        async function convertToInteractive(key) {\n",
              "          const element = document.querySelector('#df-474ed01c-8d38-42e9-b54e-68e9a69dfbfe');\n",
              "          const dataTable =\n",
              "            await google.colab.kernel.invokeFunction('convertToInteractive',\n",
              "                                                     [key], {});\n",
              "          if (!dataTable) return;\n",
              "\n",
              "          const docLinkHtml = 'Like what you see? Visit the ' +\n",
              "            '<a target=\"_blank\" href=https://colab.research.google.com/notebooks/data_table.ipynb>data table notebook</a>'\n",
              "            + ' to learn more about interactive tables.';\n",
              "          element.innerHTML = '';\n",
              "          dataTable['output_type'] = 'display_data';\n",
              "          await google.colab.output.renderOutput(dataTable, element);\n",
              "          const docLink = document.createElement('div');\n",
              "          docLink.innerHTML = docLinkHtml;\n",
              "          element.appendChild(docLink);\n",
              "        }\n",
              "      </script>\n",
              "    </div>\n",
              "  </div>\n",
              "  "
            ],
            "text/plain": [
              "   No. of topics max_features remove useless keywords  precision    recall\n",
              "0              3         1000                      No   0.903550  0.730905\n",
              "1              3         1000                     Yes   0.878184  0.639890\n",
              "2              3         None                      No   0.660004  0.823228\n",
              "3              3         None                     Yes   0.819675  0.864993\n",
              "4             10         1000                      No   0.680071  0.346024\n",
              "5             10         1000                     Yes   0.661266  0.510036\n",
              "6             10         None                      No   0.398042  0.876781\n",
              "7             10         None                     Yes   0.305913  0.341686"
            ]
          },
          "execution_count": 5,
          "metadata": {},
          "output_type": "execute_result"
        }
      ],
      "source": [
        "res_columns = [\"No. of topics\",\"max_features\", \"remove useless keywords\",\"precision\", \"recall\"]\n",
        "res_Matrix_randomstate88 = [\n",
        "              [3,1000,'No', 0.9035498073747936, 0.7309051448287376],\n",
        "              [3,1000,'Yes', 0.8781838316722038, 0.6398898132947495],\n",
        "              [3,'None','No', 0.660004015437125, 0.8232282478644369],\n",
        "              [3,'None','Yes', 0.8196751568844592, 0.8649934611424914],\n",
        "              [10,1000,'No', 0.6800712649529143, 0.346024346024346],\n",
        "              [10,1000,'Yes', 0.6612659503022162, 0.51003626003626],\n",
        "              [10,'None','No',0.39804227049589935, 0.8767806267806267],\n",
        "              [10,'None','Yes', 0.30591304347826087, 0.3416860916860917],\n",
        "              ]\n",
        "              \n",
        "\n",
        "res_Matrix_randomstate88 = pd.DataFrame(res_Matrix_randomstate88,columns=res_columns)\n",
        "print(\"Table 2: LDA model Random_state = 88:\")\n",
        "res_Matrix_randomstate88"
      ]
    }
  ],
  "metadata": {
    "colab": {
      "provenance": []
    },
    "kernelspec": {
      "display_name": "Python 3 (ipykernel)",
      "language": "python",
      "name": "python3"
    },
    "language_info": {
      "codemirror_mode": {
        "name": "ipython",
        "version": 3
      },
      "file_extension": ".py",
      "mimetype": "text/x-python",
      "name": "python",
      "nbconvert_exporter": "python",
      "pygments_lexer": "ipython3",
      "version": "3.9.7"
    }
  },
  "nbformat": 4,
  "nbformat_minor": 5
}
